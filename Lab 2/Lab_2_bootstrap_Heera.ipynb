{
  "nbformat": 4,
  "nbformat_minor": 0,
  "metadata": {
    "colab": {
      "name": "Lab 2 bootstrap Heera.ipynb",
      "provenance": [],
      "collapsed_sections": [],
      "include_colab_link": true
    },
    "kernelspec": {
      "display_name": "Python 3",
      "language": "python",
      "name": "python3"
    },
    "language_info": {
      "codemirror_mode": {
        "name": "ipython",
        "version": 3
      },
      "file_extension": ".py",
      "mimetype": "text/x-python",
      "name": "python",
      "nbconvert_exporter": "python",
      "pygments_lexer": "ipython3",
      "version": "3.7.6"
    },
    "pycharm": {
      "stem_cell": {
        "cell_type": "raw",
        "metadata": {
          "collapsed": false
        },
        "source": []
      }
    }
  },
  "cells": [
    {
      "cell_type": "markdown",
      "metadata": {
        "id": "view-in-github",
        "colab_type": "text"
      },
      "source": [
        "<a href=\"https://colab.research.google.com/github/heerakesavan/CE888-Data-Science-and-Decision-making/blob/Master/Lab%202/Lab_2_bootstrap_Heera.ipynb\" target=\"_parent\"><img src=\"https://colab.research.google.com/assets/colab-badge.svg\" alt=\"Open In Colab\"/></a>"
      ]
    },
    {
      "cell_type": "markdown",
      "metadata": {
        "id": "nCi_99yMYIb1"
      },
      "source": [
        "In this notebook you'll create your own bootstrap function following the bootstrap algorithm (check the lecture notes!)"
      ]
    },
    {
      "cell_type": "code",
      "metadata": {
        "id": "LY5zujI2YC37",
        "pycharm": {
          "name": "#%%# Imports\n"
        }
      },
      "source": [
        "import matplotlib.pyplot as plt\n",
        "import matplotlib\n",
        "import pandas as pd\n",
        "import seaborn as sns\n",
        "import numpy as np\n",
        "\n"
      ],
      "execution_count": 1,
      "outputs": []
    },
    {
      "cell_type": "code",
      "metadata": {
        "id": "Eqkwj4SMY38t",
        "colab": {
          "base_uri": "https://localhost:8080/"
        },
        "outputId": "a44e087b-d598-4a9a-c418-be48b67aa513"
      },
      "source": [
        "# Load the data\n",
        "df = pd.read_csv('https://raw.githubusercontent.com/albanda/CE888/master/lab2%20-%20bootstrap/customers.csv')\n",
        "data = df.values.T[1]\n",
        "print(data)\n",
        "print(type(data))\n",
        "print(len(data))\n"
      ],
      "execution_count": 2,
      "outputs": [
        {
          "output_type": "stream",
          "text": [
            "[ 2.  8. 20. 13.  5.  9. 10.  8. 22. 10.  2.  4.  7.  9.]\n",
            "<class 'numpy.ndarray'>\n",
            "14\n"
          ],
          "name": "stdout"
        }
      ]
    },
    {
      "cell_type": "code",
      "metadata": {
        "id": "Gxvc_bScYC4H",
        "pycharm": {
          "name": "#%%\n"
        },
        "colab": {
          "base_uri": "https://localhost:8080/"
        },
        "outputId": "fa31c358-934a-402c-a7ab-01ff1decab47"
      },
      "source": [
        "# Checking the notes from the lecture, create here your own bootstrap function:\n",
        "# 1. Sample from the input array x to create an array of samples of shape (n_bootstraps, sample_size)\n",
        "# Hint: Check the function random.choice() on Numpy\n",
        "# 2. Calculate and save the mean of the array (this is \"data_mean\" that is returned by the function)\n",
        "# 3. Calculate the mean from each bootstrap (i.e., row) and store it.\n",
        "# (This should be an array of n_bootstraps values)\n",
        "# 4. Calculate the lower and upper bounds for a 95% CI (hint: check the percentile function on Numpy)\n",
        "# 5. Return data_mean, and the lower and upper bounds of your interval\n",
        "def bootstrap_mean(x, sample_size, n_bootstraps):\n",
        "    samp_mean = [] \n",
        "    for i in range(0,n_bootstraps):\n",
        "        samp = np.random.choice(x, size = sample_size)\n",
        "        samp_mean.append(np.mean(samp))\n",
        "        ordered=np.sort(samp_mean)\n",
        "        lower=np.percentile(ordered,2.5)\n",
        "        upper=np.percentile(ordered,97.5)\n",
        "        data_mean=np.mean(ordered)\n",
        "    return data_mean, lower, upper\n",
        "\n",
        "bootstrap_mean(data,14,1000)\n",
        "\n"
      ],
      "execution_count": 3,
      "outputs": [
        {
          "output_type": "execute_result",
          "data": {
            "text/plain": [
              "(9.211214285714286, 6.571428571428571, 12.285714285714286)"
            ]
          },
          "metadata": {
            "tags": []
          },
          "execution_count": 3
        }
      ]
    },
    {
      "cell_type": "code",
      "metadata": {
        "id": "AN7sEOcMYC4P",
        "pycharm": {
          "name": "#%%\n"
        },
        "colab": {
          "base_uri": "https://localhost:8080/",
          "height": 454
        },
        "outputId": "f37dfdd6-f602-4d68-a7b8-33d5d8c50141"
      },
      "source": [
        "# Call your bootstrap function and plot the results\n",
        "\n",
        "boots = []\n",
        "for i in range(100, 50000, 1000):\n",
        "    boot = bootstrap_mean(data,14,1000)\n",
        "    boots.append([i, boot[0], \"mean\"])\n",
        "    boots.append([i, boot[1], \"lower\"])\n",
        "    boots.append([i, boot[2], \"upper\"])\n",
        "\n",
        "df_boot = pd.DataFrame(boots, columns=['Bootstrap Iterations', 'Mean', \"Value\"])\n",
        "sns_plot = sns.lmplot(df_boot.columns[0], df_boot.columns[1], data=df_boot, fit_reg=False, hue=\"Value\")\n",
        "\n",
        "sns_plot.axes[0, 0].set_ylim(0,)\n",
        "sns_plot.axes[0, 0].set_xlim(0, 100000)\n"
      ],
      "execution_count": 4,
      "outputs": [
        {
          "output_type": "stream",
          "text": [
            "/usr/local/lib/python3.7/dist-packages/seaborn/_decorators.py:43: FutureWarning: Pass the following variables as keyword args: x, y. From version 0.12, the only valid positional argument will be `data`, and passing other arguments without an explicit keyword will result in an error or misinterpretation.\n",
            "  FutureWarning\n"
          ],
          "name": "stderr"
        },
        {
          "output_type": "execute_result",
          "data": {
            "text/plain": [
              "(0.0, 100000.0)"
            ]
          },
          "metadata": {
            "tags": []
          },
          "execution_count": 4
        },
        {
          "output_type": "display_data",
          "data": {
            "image/png": "[encoded data removed]",
            "text/plain": [
              "<Figure size 425.125x360 with 1 Axes>"
            ]
          },
          "metadata": {
            "tags": [],
            "needs_background": "light"
          }
        }
      ]
    },
    {
      "cell_type": "markdown",
      "metadata": {
        "id": "MjtP4e2_YC4V"
      },
      "source": [
        "\n",
        "Now, modify the bootstrap function you created above so that you can pass your desired confidence interval as a parameter.\n",
        "\n"
      ]
    },
    {
      "cell_type": "code",
      "metadata": {
        "id": "3K9j0FuGYhHs",
        "colab": {
          "base_uri": "https://localhost:8080/"
        },
        "outputId": "7b728dc5-26fe-4bd9-bb87-fb08e09aa42c"
      },
      "source": [
        "\n",
        "def bootstrap_mean_ci(sample, sample_size, n_bootstraps, ci):\n",
        "    samp_mean = [] \n",
        "    for i in range(0,n_bootstraps):\n",
        "        samp = np.random.choice(sample, size = sample_size)\n",
        "        samp_mean.append(np.mean(samp))\n",
        "        ordered=np.sort(samp_mean)\n",
        "        lower=np.percentile(ordered,(100-ci)/2)\n",
        "        upper=np.percentile(ordered,ci+((100-ci)/2))\n",
        "        data_mean=np.mean(ordered)\n",
        "    return data_mean, lower, upper,ci\n",
        "\n",
        "bootstrap_mean_ci(data,14,1000,90)"
      ],
      "execution_count": 5,
      "outputs": [
        {
          "output_type": "execute_result",
          "data": {
            "text/plain": [
              "(9.24307142857143, 6.857142857142857, 11.928571428571429, 90)"
            ]
          },
          "metadata": {
            "tags": []
          },
          "execution_count": 5
        }
      ]
    },
    {
      "cell_type": "code",
      "metadata": {
        "id": "VQvLB5oeKvT9"
      },
      "source": [
        "\n",
        "def stddev(sample, sample_size, n_bootstraps, ci):\n",
        "    samp_std = [] \n",
        "    for i in range(0,n_bootstraps):\n",
        "        samp = np.random.choice(sample, size = sample_size)\n",
        "        samp_std.append(np.std(samp))\n",
        "        ordered=np.sort(samp_std)\n",
        "        lower=np.percentile(ordered,(100-ci)/2)\n",
        "        upper=np.percentile(ordered,ci+((100-ci)/2))\n",
        "        data_mean=np.mean(samp_std)\n",
        "    return data_mean, lower, upper,ci"
      ],
      "execution_count": 6,
      "outputs": []
    },
    {
      "cell_type": "code",
      "metadata": {
        "id": "uDnjq08GYl-C",
        "colab": {
          "base_uri": "https://localhost:8080/",
          "height": 454
        },
        "outputId": "1838d5a0-a80f-450b-f0c0-8c4b9f4795ed"
      },
      "source": [
        "boots = []\n",
        "for i in range(100, 50000, 1000):\n",
        "    boot = bootstrap_mean_ci(data,14,1000, 80)\n",
        "    boots.append([i, boot[0], \"mean\"])\n",
        "    boots.append([i, boot[1], \"lower\"])\n",
        "    boots.append([i, boot[2], \"upper\"])\n",
        "\n",
        "df_boot = pd.DataFrame(boots, columns=['Boostrap Iterations', 'Mean', \"Value\"])\n",
        "sns_plot = sns.lmplot(df_boot.columns[0], df_boot.columns[1], data=df_boot, fit_reg=False, hue=\"Value\")\n",
        "\n",
        "sns_plot.axes[0, 0].set_ylim(0,)\n",
        "sns_plot.axes[0, 0].set_xlim(0, 100000)\n",
        "\n",
        "#sns_plot.savefig(\"bootstrap_confidence_80.pdf\", bbox_inches='tight')\n"
      ],
      "execution_count": 7,
      "outputs": [
        {
          "output_type": "stream",
          "text": [
            "/usr/local/lib/python3.7/dist-packages/seaborn/_decorators.py:43: FutureWarning: Pass the following variables as keyword args: x, y. From version 0.12, the only valid positional argument will be `data`, and passing other arguments without an explicit keyword will result in an error or misinterpretation.\n",
            "  FutureWarning\n"
          ],
          "name": "stderr"
        },
        {
          "output_type": "execute_result",
          "data": {
            "text/plain": [
              "(0.0, 100000.0)"
            ]
          },
          "metadata": {
            "tags": []
          },
          "execution_count": 7
        },
        {
          "output_type": "display_data",
          "data": {
            "image/png": "[encoded data removed]",
            "text/plain": [
              "<Figure size 425.125x360 with 1 Axes>"
            ]
          },
          "metadata": {
            "tags": [],
            "needs_background": "light"
          }
        }
      ]
    },
    {
      "cell_type": "markdown",
      "metadata": {
        "id": "qjNgXW6wdd7r"
      },
      "source": [
        "# Vehicles dataset\n",
        "\n",
        "Now let's work on a different dataset, which is stored in the vehicles.csv file.\n"
      ]
    },
    {
      "cell_type": "code",
      "metadata": {
        "id": "avWv4ipFdpka",
        "colab": {
          "base_uri": "https://localhost:8080/"
        },
        "outputId": "60126664-6128-465a-8cf9-f7a485104f1a"
      },
      "source": [
        "# Load and visualise the vehicles dataset\n",
        "# To load the dataset: https://neptune.ai/blog/google-colab-dealing-with-files (check section \"Load individual files directly from GitHub\")\n",
        "\n",
        "\n",
        "# Note that the current and new fleets are in different columns and have different lengths, so bear this in mind when you're plotting.\n",
        "# You can create separate scatterplots for the two fleets, as you would with the histograms, \n",
        "# or plot them both in one plot (but not one against the other).\n",
        "dfv = pd.read_csv(\"https://raw.githubusercontent.com/albanda/CE888/master/lab2%20-%20bootstrap/vehicles.csv\")\n",
        "print(dfv.head())\n",
        "# Note: you can add more cells as needed to organise your code and your plots\n",
        "current = dfv.values.T[0]\n",
        "new = dfv.values.T[1]\n",
        "new = new[~np.isnan(new)]"
      ],
      "execution_count": 8,
      "outputs": [
        {
          "output_type": "stream",
          "text": [
            "   Current fleet  New Fleet\n",
            "0             18       24.0\n",
            "1             15       27.0\n",
            "2             18       27.0\n",
            "3             16       25.0\n",
            "4             17       31.0\n"
          ],
          "name": "stdout"
        }
      ]
    },
    {
      "cell_type": "code",
      "metadata": {
        "id": "p9eVmzEZt5eT",
        "outputId": "e07ce728-f585-443a-b85a-8e6462c58c2b",
        "colab": {
          "base_uri": "https://localhost:8080/",
          "height": 351
        }
      },
      "source": [
        "ax1 =sns.distplot(x=dfv[\"Current fleet\"])\n",
        "ax1.set_title(\"Current Fleet\")"
      ],
      "execution_count": 9,
      "outputs": [
        {
          "output_type": "stream",
          "text": [
            "/usr/local/lib/python3.7/dist-packages/seaborn/distributions.py:2557: FutureWarning: `distplot` is a deprecated function and will be removed in a future version. Please adapt your code to use either `displot` (a figure-level function with similar flexibility) or `histplot` (an axes-level function for histograms).\n",
            "  warnings.warn(msg, FutureWarning)\n"
          ],
          "name": "stderr"
        },
        {
          "output_type": "execute_result",
          "data": {
            "text/plain": [
              "Text(0.5, 1.0, 'Current Fleet')"
            ]
          },
          "metadata": {
            "tags": []
          },
          "execution_count": 9
        },
        {
          "output_type": "display_data",
          "data": {
            "image/png": "[encoded data removed]",
            "text/plain": [
              "<Figure size 432x288 with 1 Axes>"
            ]
          },
          "metadata": {
            "tags": [],
            "needs_background": "light"
          }
        }
      ]
    },
    {
      "cell_type": "code",
      "metadata": {
        "id": "Q2gFA52q_GSE",
        "outputId": "0ba905a3-89a3-4d9d-b9f7-57ff00c5efca",
        "colab": {
          "base_uri": "https://localhost:8080/",
          "height": 351
        }
      },
      "source": [
        "ax2 =sns.distplot(x=dfv[\"New Fleet\"])\n",
        "ax2.set_title(\"New Fleet\")"
      ],
      "execution_count": 10,
      "outputs": [
        {
          "output_type": "stream",
          "text": [
            "/usr/local/lib/python3.7/dist-packages/seaborn/distributions.py:2557: FutureWarning: `distplot` is a deprecated function and will be removed in a future version. Please adapt your code to use either `displot` (a figure-level function with similar flexibility) or `histplot` (an axes-level function for histograms).\n",
            "  warnings.warn(msg, FutureWarning)\n"
          ],
          "name": "stderr"
        },
        {
          "output_type": "execute_result",
          "data": {
            "text/plain": [
              "Text(0.5, 1.0, 'New Fleet')"
            ]
          },
          "metadata": {
            "tags": []
          },
          "execution_count": 10
        },
        {
          "output_type": "display_data",
          "data": {
            "image/png": "[encoded data removed]",
            "text/plain": [
              "<Figure size 432x288 with 1 Axes>"
            ]
          },
          "metadata": {
            "tags": [],
            "needs_background": "light"
          }
        }
      ]
    },
    {
      "cell_type": "code",
      "metadata": {
        "id": "E3-KRrQB_cX3",
        "outputId": "db0ebc91-2d88-4cdb-9ccc-ae4d156c8fd4",
        "colab": {
          "base_uri": "https://localhost:8080/",
          "height": 298
        }
      },
      "source": [
        "a=dfv[\"Current fleet\"]\n",
        "p=np.arange(len(a))\n",
        "ax3 = plt.scatter(a, p)\n",
        "plt.title(\"Current Fleet\")\n",
        "b=dfv[\"New Fleet\"]\n",
        "q=np.arange(len(b))\n",
        "ax4 = plt.scatter(b, q)\n",
        "plt.title(\"New Fleet\")"
      ],
      "execution_count": 11,
      "outputs": [
        {
          "output_type": "execute_result",
          "data": {
            "text/plain": [
              "Text(0.5, 1.0, 'New Fleet')"
            ]
          },
          "metadata": {
            "tags": []
          },
          "execution_count": 11
        },
        {
          "output_type": "display_data",
          "data": {
            "image/png": "[encoded data removed]",
            "text/plain": [
              "<Figure size 432x288 with 1 Axes>"
            ]
          },
          "metadata": {
            "tags": [],
            "needs_background": "light"
          }
        }
      ]
    },
    {
      "cell_type": "markdown",
      "metadata": {
        "id": "B5d0tXDpIEj8"
      },
      "source": [
        "## Compare the two fleets\n",
        "\n",
        "The business analysts come up a comparison algorithm that requires the upper and lower bounds for the mean in order to say which fleet is better.\n",
        "1. Calculate the mean of both samples.\n",
        "2. Using the bootstrap function that you created:\n",
        "    - Construct the 95% CI of the mean of the current fleet.\n",
        "    - Construct the 95% CI of the mean of the new fleet.\n",
        "    - Are they comparable? (i.e., is one better than the other?) -- you can do this with a permutation test (check the lecture notes!)"
      ]
    },
    {
      "cell_type": "code",
      "metadata": {
        "id": "po4mp6zRHC0m",
        "outputId": "99125a16-fd17-4c8e-e0dc-a0fdb8589bce",
        "colab": {
          "base_uri": "https://localhost:8080/"
        }
      },
      "source": [
        "\n",
        "# <---INSERT YOUR CODE HERE--->\n",
        "current_CI = bootstrap_mean_ci(a, len(a), 10000, 95)\n",
        "print(current_CI)\n",
        "new_CI = bootstrap_mean_ci(b, len(b), 10000, 95)\n",
        "print(new_CI)"
      ],
      "execution_count": 12,
      "outputs": [
        {
          "output_type": "stream",
          "text": [
            "(20.146745381526106, 19.36144578313253, 20.959939759036143, 95)\n",
            "(nan, nan, nan, 95)\n"
          ],
          "name": "stdout"
        }
      ]
    },
    {
      "cell_type": "code",
      "metadata": {
        "id": "MkxvDZG4HC0n"
      },
      "source": [
        "# Create your own function for a permutation test here (you will need it for the lab quiz!):\n",
        "def permut_test(sample1, sample2, n_permutations):\n",
        "    \"\"\"\n",
        "    sample1: 1D array\n",
        "    sample2: 1D array (note that the size of the two arrays can be different)\n",
        "    n_permutations: number of permutations to calculate the p-value\n",
        "    \"\"\"\n",
        "    conct_array = np.concatenate((sample1, sample2))\n",
        "    meansamp1 = np.mean(sample1)\n",
        "    meansamp2 = np.mean(sample2)\n",
        "    t_obs = meansamp2 - meansamp1\n",
        "    count = 0\n",
        "    length = len(sample1)\n",
        "    for i in range(n_permutations):\n",
        "      permute = np.random.permutation(conct_array)\n",
        "      p1 = permute[:length]\n",
        "      p2 = permute[length:]\n",
        "      t_perm = np.mean(p2) - np.mean(p1)\n",
        "      if t_perm > t_obs:\n",
        "        count += 1\n",
        "    pvalue = count/n_permutations\n",
        "    return pvalue"
      ],
      "execution_count": 13,
      "outputs": []
    },
    {
      "cell_type": "markdown",
      "metadata": {
        "id": "_pUgrjDVWAH_"
      },
      "source": [
        "Question 7 Quiz"
      ]
    },
    {
      "cell_type": "code",
      "metadata": {
        "id": "lGTE4yR0VKSR",
        "outputId": "fa9fb0dd-f100-42db-d54d-7b816720ff25",
        "colab": {
          "base_uri": "https://localhost:8080/"
        }
      },
      "source": [
        "permut_test(current,new,30000)"
      ],
      "execution_count": 14,
      "outputs": [
        {
          "output_type": "execute_result",
          "data": {
            "text/plain": [
              "0.0"
            ]
          },
          "metadata": {
            "tags": []
          },
          "execution_count": 14
        }
      ]
    },
    {
      "cell_type": "code",
      "metadata": {
        "id": "n7XNvJcSuSEz",
        "outputId": "f9535272-dc44-440c-fa02-1ccc8d09f848",
        "colab": {
          "base_uri": "https://localhost:8080/"
        }
      },
      "source": [
        "bootstrap_mean_ci(a, len(a), 10000, 85)"
      ],
      "execution_count": 15,
      "outputs": [
        {
          "output_type": "execute_result",
          "data": {
            "text/plain": [
              "(20.14624859437751, 19.570281124497992, 20.7429718875502, 85)"
            ]
          },
          "metadata": {
            "tags": []
          },
          "execution_count": 15
        }
      ]
    },
    {
      "cell_type": "markdown",
      "metadata": {
        "id": "mYOw2FiASG2c"
      },
      "source": [
        "The 60% confidence interval for the mean of the new fleet in the vehicles dataset using 10000 iterations is"
      ]
    },
    {
      "cell_type": "code",
      "metadata": {
        "id": "b_QQsROAuVDB",
        "outputId": "f0e5320b-923e-4fa1-a723-7b326c8783be",
        "colab": {
          "base_uri": "https://localhost:8080/"
        }
      },
      "source": [
        "bootstrap_mean_ci(new, len(new), 10000, 60)"
      ],
      "execution_count": 16,
      "outputs": [
        {
          "output_type": "execute_result",
          "data": {
            "text/plain": [
              "(30.48162784810127, 29.911392405063292, 31.063291139240505, 60)"
            ]
          },
          "metadata": {
            "tags": []
          },
          "execution_count": 16
        }
      ]
    },
    {
      "cell_type": "markdown",
      "metadata": {
        "id": "jTL-KlAJTLg0"
      },
      "source": [
        "The 80% confidence interval for the mean of the new fleet in the vehicles dataset using 10000 iterations is"
      ]
    },
    {
      "cell_type": "code",
      "metadata": {
        "id": "gZlEVZiGTN5g",
        "outputId": "f19745d5-ce8c-4d7d-99c4-26f8166a6f62",
        "colab": {
          "base_uri": "https://localhost:8080/"
        }
      },
      "source": [
        "bootstrap_mean_ci(new, len(new), 10000, 80)"
      ],
      "execution_count": 17,
      "outputs": [
        {
          "output_type": "execute_result",
          "data": {
            "text/plain": [
              "(30.48127848101266, 29.60759493670886, 31.354430379746834, 80)"
            ]
          },
          "metadata": {
            "tags": []
          },
          "execution_count": 17
        }
      ]
    },
    {
      "cell_type": "markdown",
      "metadata": {
        "id": "DHSJNu2eTiuE"
      },
      "source": [
        "The 95% confidence interval for the standard deviation of the old fleet in the vehicles dataset using 10000 iterations"
      ]
    },
    {
      "cell_type": "code",
      "metadata": {
        "id": "sUxZSiBmuYSN",
        "outputId": "b2bac4e0-b8f0-4240-b4ad-c7a82df1c410",
        "colab": {
          "base_uri": "https://localhost:8080/"
        }
      },
      "source": [
        "stddev(current, len(current), 10000, 95)"
      ],
      "execution_count": 18,
      "outputs": [
        {
          "output_type": "execute_result",
          "data": {
            "text/plain": [
              "(6.379442648626, 5.804822805819663, 6.94007615387744, 95)"
            ]
          },
          "metadata": {
            "tags": []
          },
          "execution_count": 18
        }
      ]
    },
    {
      "cell_type": "markdown",
      "metadata": {
        "id": "-OxKMegfUKXd"
      },
      "source": [
        "The 85% confidence interval for the standard deviation of the customers dataset using 10000 iterations is "
      ]
    },
    {
      "cell_type": "code",
      "metadata": {
        "id": "37_l31N8UN78",
        "outputId": "3948da26-f123-4091-9910-9c4088a4333b",
        "colab": {
          "base_uri": "https://localhost:8080/"
        }
      },
      "source": [
        "stddev(data, len(data), 10000, 85)"
      ],
      "execution_count": 19,
      "outputs": [
        {
          "output_type": "execute_result",
          "data": {
            "text/plain": [
              "(5.3518199266848665, 3.305009333323245, 6.9652929674529105, 85)"
            ]
          },
          "metadata": {
            "tags": []
          },
          "execution_count": 19
        }
      ]
    },
    {
      "cell_type": "markdown",
      "metadata": {
        "id": "UDtXJOSsONRe"
      },
      "source": [
        "Voting data"
      ]
    },
    {
      "cell_type": "markdown",
      "metadata": {
        "id": "rMk1bfwiXoQF"
      },
      "source": [
        "Question 8 Quiz"
      ]
    },
    {
      "cell_type": "code",
      "metadata": {
        "id": "y57rZp3tMZUq"
      },
      "source": [
        "dem_share_PA = [60.08, 40.64, 36.07, 41.21, 31.04, 43.78, 44.08, 46.85, 44.71, 46.15, 63.10, 52.20, 43.18, 40.24, 39.92, 47.87, 37.77, 40.11, 49.85, 48.61, 38.62, 54.25, 34.84, 47.75, 43.82, 55.97, 58.23, 42.97, 42.38, 36.11, 37.53, 42.65, 50.96, 47.43, 56.24, 45.60, 46.39, 35.22, 48.56, 32.97, 57.88, 36.05, 37.72, 50.36, 32.12, 41.55, 54.66, 57.81, 54.58, 32.88, 54.37, 40.45, 47.61, 60.49, 43.11, 27.32, 44.03, 33.56, 37.26, 54.64, 43.12, 25.34, 49.79, 83.56, 40.09, 60.81, 49.81]\n",
        "dem_share_OH = [56.94, 50.46, 65.99, 45.88, 42.23, 45.26, 57.01, 53.61, 59.10, 61.48, 43.43, 44.69, 54.59, 48.36, 45.89, 48.62, 43.92, 38.23, 28.79, 63.57, 38.07, 40.18, 43.05, 41.56, 42.49, 36.06, 52.76, 46.07, 39.43, 39.26, 47.47, 27.92, 38.01, 45.45, 29.07, 28.94, 51.28, 50.10, 39.84, 36.43, 35.71, 31.47, 47.01, 40.10, 48.76, 31.56, 39.86, 45.31, 35.47, 51.38, 46.33, 48.73, 41.77, 41.32, 48.46, 53.14, 34.01, 54.74, 40.67, 38.96, 46.29, 38.25, 6.80, 31.75, 46.33, 44.90, 33.57, 38.10, 39.67, 40.47, 49.44, 37.62, 36.71, 46.73, 42.20, 53.16, 52.40, 58.36, 68.02, 38.53, 34.58, 69.64, 60.50, 53.53, 36.54, 49.58, 41.97, 38.11]\n"
      ],
      "execution_count": 20,
      "outputs": []
    },
    {
      "cell_type": "code",
      "metadata": {
        "id": "6jp5jPhWNkzV",
        "outputId": "6413cf74-d132-48df-c481-8cc90a31fb3d",
        "colab": {
          "base_uri": "https://localhost:8080/"
        }
      },
      "source": [
        "len(dem_share_PA)"
      ],
      "execution_count": 23,
      "outputs": [
        {
          "output_type": "execute_result",
          "data": {
            "text/plain": [
              "67"
            ]
          },
          "metadata": {
            "tags": []
          },
          "execution_count": 23
        }
      ]
    },
    {
      "cell_type": "code",
      "metadata": {
        "id": "y50k094UWeGE",
        "outputId": "7e808c7a-0b72-417b-de7c-b7d8fecc1d3c",
        "colab": {
          "base_uri": "https://localhost:8080/"
        }
      },
      "source": [
        "len(dem_share_OH)"
      ],
      "execution_count": 24,
      "outputs": [
        {
          "output_type": "execute_result",
          "data": {
            "text/plain": [
              "88"
            ]
          },
          "metadata": {
            "tags": []
          },
          "execution_count": 24
        }
      ]
    },
    {
      "cell_type": "markdown",
      "metadata": {
        "id": "CMjvSy6aW9Ul"
      },
      "source": [
        "The 90% confidence intervals for the means of the votes using 25000 bootstraps are "
      ]
    },
    {
      "cell_type": "markdown",
      "metadata": {
        "id": "BSmtHQ_5XbMR"
      },
      "source": [
        "PA"
      ]
    },
    {
      "cell_type": "code",
      "metadata": {
        "id": "NSAkeqLSWqyj",
        "outputId": "42713736-b4c3-4689-9cc1-37599cf65d2e",
        "colab": {
          "base_uri": "https://localhost:8080/"
        }
      },
      "source": [
        "bootstrap_mean_ci(dem_share_PA, len(dem_share_PA), 25000, 90)"
      ],
      "execution_count": 26,
      "outputs": [
        {
          "output_type": "execute_result",
          "data": {
            "text/plain": [
              "(45.47801527761194, 43.59326119402985, 47.457477611940305, 90)"
            ]
          },
          "metadata": {
            "tags": []
          },
          "execution_count": 26
        }
      ]
    },
    {
      "cell_type": "markdown",
      "metadata": {
        "id": "tIJsgvCjXfZ7"
      },
      "source": [
        "OH"
      ]
    },
    {
      "cell_type": "code",
      "metadata": {
        "id": "ZjBmCK3JXgp8",
        "outputId": "b69d5b5c-49ac-4aa0-f02e-8f150df5dc08",
        "colab": {
          "base_uri": "https://localhost:8080/"
        }
      },
      "source": [
        "bootstrap_mean_ci(dem_share_OH, len(dem_share_OH), 25000, 90)"
      ],
      "execution_count": 27,
      "outputs": [
        {
          "output_type": "execute_result",
          "data": {
            "text/plain": [
              "(44.32996180000001, 42.58076704545454, 46.03307386363636, 90)"
            ]
          },
          "metadata": {
            "tags": []
          },
          "execution_count": 27
        }
      ]
    },
    {
      "cell_type": "markdown",
      "metadata": {
        "id": "xw-awfGeYGyr"
      },
      "source": [
        "The p-value from a permutation test with 20000 permutations is"
      ]
    },
    {
      "cell_type": "code",
      "metadata": {
        "id": "Tu2oVbsBXue8",
        "outputId": "e6c111d1-92af-44c8-fffd-c128e7ee895f",
        "colab": {
          "base_uri": "https://localhost:8080/"
        }
      },
      "source": [
        "permut_test(dem_share_OH, dem_share_PA, 20000)"
      ],
      "execution_count": 28,
      "outputs": [
        {
          "output_type": "execute_result",
          "data": {
            "text/plain": [
              "0.2308"
            ]
          },
          "metadata": {
            "tags": []
          },
          "execution_count": 28
        }
      ]
    },
    {
      "cell_type": "code",
      "metadata": {
        "id": "RR2m_4GGYKsw"
      },
      "source": [
        ""
      ],
      "execution_count": null,
      "outputs": []
    }
  ]
}