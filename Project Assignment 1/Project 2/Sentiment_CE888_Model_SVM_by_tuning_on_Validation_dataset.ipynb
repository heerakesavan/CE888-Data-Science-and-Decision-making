{
  "nbformat": 4,
  "nbformat_minor": 0,
  "metadata": {
    "colab": {
      "name": "Sentiment CE888 Model SVM by tuning on Validation dataset.ipynb",
      "provenance": [],
      "collapsed_sections": [],
      "mount_file_id": "1aHYaq2lXeNeyxWMziRd4Vu38c82LEziD",
      "authorship_tag": "ABX9TyMiYuVzqW7rmB7cbtEMhXMg",
      "include_colab_link": true
    },
    "kernelspec": {
      "display_name": "Python 3",
      "name": "python3"
    },
    "language_info": {
      "name": "python"
    }
  },
  "cells": [
    {
      "cell_type": "markdown",
      "metadata": {
        "id": "view-in-github",
        "colab_type": "text"
      },
      "source": [
        "<a href=\"https://colab.research.google.com/github/heerakesavan/CE888-Data-Science-and-Decision-making/blob/Master/Project%20Assignment%201/Project%202/Sentiment_CE888_Model_SVM_by_tuning_on_Validation_dataset.ipynb\" target=\"_parent\"><img src=\"https://colab.research.google.com/assets/colab-badge.svg\" alt=\"Open In Colab\"/></a>"
      ]
    },
    {
      "cell_type": "code",
      "metadata": {
        "id": "sMY72SN0Col9"
      },
      "source": [
        "import pandas as pd\n",
        "import numpy as np\n",
        "import matplotlib.pyplot as plt\n",
        "import seaborn as sns\n",
        "from sklearn.model_selection import train_test_split\n",
        "from sklearn.metrics import accuracy_score ,confusion_matrix\n",
        "import re\n",
        "import gensim\n",
        "from gensim import corpora\n",
        "import pickle\n",
        "from sklearn.feature_extraction.text import CountVectorizer,TfidfVectorizer\n",
        "from sklearn.feature_extraction import text \n",
        "import nltk\n",
        "import operator\n",
        "from nltk.corpus import stopwords\n",
        "from nltk.stem import WordNetLemmatizer,PorterStemmer\n",
        "from string import punctuation\n",
        "from nltk.tokenize import word_tokenize\n",
        "from collections import Counter\n",
        "import warnings\n",
        "warnings.filterwarnings(\"ignore\")\n",
        "from wordcloud import WordCloud\n",
        "%matplotlib inline\n",
        "                                                                                        "
      ],
      "execution_count": null,
      "outputs": []
    },
    {
      "cell_type": "code",
      "metadata": {
        "colab": {
          "base_uri": "https://localhost:8080/",
          "height": 212
        },
        "id": "NPGyfHdADZwF",
        "outputId": "2cb3ac4c-88d6-42ef-b00b-1e2919482713"
      },
      "source": [
        "df_train = pd.read_fwf('https://raw.githubusercontent.com/cardiffnlp/tweeteval/main/datasets/sentiment/train_text.txt', header=None)\n",
        "df_train.head()\n",
        "df_train.columns\n",
        "df_train.count\n",
        "df_train.isnull().sum()\n",
        "df_train=df_train.drop([1], axis = 1)\n",
        "print(df_train.shape)\n",
        "df_train=df_train.rename(columns={0:\"Tweet\"})\n",
        "df_train.head()"
      ],
      "execution_count": null,
      "outputs": [
        {
          "output_type": "stream",
          "text": [
            "(45615, 1)\n"
          ],
          "name": "stdout"
        },
        {
          "output_type": "execute_result",
          "data": {
            "text/html": [
              "<div>\n",
              "<style scoped>\n",
              "    .dataframe tbody tr th:only-of-type {\n",
              "        vertical-align: middle;\n",
              "    }\n",
              "\n",
              "    .dataframe tbody tr th {\n",
              "        vertical-align: top;\n",
              "    }\n",
              "\n",
              "    .dataframe thead th {\n",
              "        text-align: right;\n",
              "    }\n",
              "</style>\n",
              "<table border=\"1\" class=\"dataframe\">\n",
              "  <thead>\n",
              "    <tr style=\"text-align: right;\">\n",
              "      <th></th>\n",
              "      <th>Tweet</th>\n",
              "    </tr>\n",
              "  </thead>\n",
              "  <tbody>\n",
              "    <tr>\n",
              "      <th>0</th>\n",
              "      <td>\"QT @user In the original draft of the 7th boo...</td>\n",
              "    </tr>\n",
              "    <tr>\n",
              "      <th>1</th>\n",
              "      <td>\"Ben Smith / Smith (concussion) remains out of...</td>\n",
              "    </tr>\n",
              "    <tr>\n",
              "      <th>2</th>\n",
              "      <td>Sorry bout the stream last night I crashed out...</td>\n",
              "    </tr>\n",
              "    <tr>\n",
              "      <th>3</th>\n",
              "      <td>Chase Headley's RBI double in the 8th inning o...</td>\n",
              "    </tr>\n",
              "    <tr>\n",
              "      <th>4</th>\n",
              "      <td>@user Alciato: Bee will invest 150 million in ...</td>\n",
              "    </tr>\n",
              "  </tbody>\n",
              "</table>\n",
              "</div>"
            ],
            "text/plain": [
              "                                               Tweet\n",
              "0  \"QT @user In the original draft of the 7th boo...\n",
              "1  \"Ben Smith / Smith (concussion) remains out of...\n",
              "2  Sorry bout the stream last night I crashed out...\n",
              "3  Chase Headley's RBI double in the 8th inning o...\n",
              "4  @user Alciato: Bee will invest 150 million in ..."
            ]
          },
          "metadata": {
            "tags": []
          },
          "execution_count": 2
        }
      ]
    },
    {
      "cell_type": "code",
      "metadata": {
        "colab": {
          "base_uri": "https://localhost:8080/",
          "height": 212
        },
        "id": "SuLIvoJ2DcNF",
        "outputId": "b2f32044-24a7-4cfe-d3ce-5e5e0a921fac"
      },
      "source": [
        "df_train_labels=pd.read_fwf('https://raw.githubusercontent.com/cardiffnlp/tweeteval/main/datasets/hate/train_labels.txt', header=None)\n",
        "df_train_labels.head()\n",
        "print(df_train_labels.shape)\n",
        "df_train_labels=df_train_labels.rename(columns={0:\"Sentiment\"})\n",
        "df_train_labels.head()\n",
        "#same number of rows in train labels and train text"
      ],
      "execution_count": null,
      "outputs": [
        {
          "output_type": "stream",
          "text": [
            "(9000, 1)\n"
          ],
          "name": "stdout"
        },
        {
          "output_type": "execute_result",
          "data": {
            "text/html": [
              "<div>\n",
              "<style scoped>\n",
              "    .dataframe tbody tr th:only-of-type {\n",
              "        vertical-align: middle;\n",
              "    }\n",
              "\n",
              "    .dataframe tbody tr th {\n",
              "        vertical-align: top;\n",
              "    }\n",
              "\n",
              "    .dataframe thead th {\n",
              "        text-align: right;\n",
              "    }\n",
              "</style>\n",
              "<table border=\"1\" class=\"dataframe\">\n",
              "  <thead>\n",
              "    <tr style=\"text-align: right;\">\n",
              "      <th></th>\n",
              "      <th>Sentiment</th>\n",
              "    </tr>\n",
              "  </thead>\n",
              "  <tbody>\n",
              "    <tr>\n",
              "      <th>0</th>\n",
              "      <td>0</td>\n",
              "    </tr>\n",
              "    <tr>\n",
              "      <th>1</th>\n",
              "      <td>1</td>\n",
              "    </tr>\n",
              "    <tr>\n",
              "      <th>2</th>\n",
              "      <td>1</td>\n",
              "    </tr>\n",
              "    <tr>\n",
              "      <th>3</th>\n",
              "      <td>1</td>\n",
              "    </tr>\n",
              "    <tr>\n",
              "      <th>4</th>\n",
              "      <td>0</td>\n",
              "    </tr>\n",
              "  </tbody>\n",
              "</table>\n",
              "</div>"
            ],
            "text/plain": [
              "   Sentiment\n",
              "0          0\n",
              "1          1\n",
              "2          1\n",
              "3          1\n",
              "4          0"
            ]
          },
          "metadata": {
            "tags": []
          },
          "execution_count": 6
        }
      ]
    },
    {
      "cell_type": "code",
      "metadata": {
        "colab": {
          "base_uri": "https://localhost:8080/",
          "height": 195
        },
        "id": "HwC3DnVwDfzo",
        "outputId": "94d21bb0-68e7-44d5-88df-ef321ce65a5e"
      },
      "source": [
        "dfs=[df_train,df_train_labels]\n",
        "df=pd.concat(dfs, axis=1, join=\"inner\")\n",
        "dforg=df\n",
        "df.head()"
      ],
      "execution_count": null,
      "outputs": [
        {
          "output_type": "execute_result",
          "data": {
            "text/html": [
              "<div>\n",
              "<style scoped>\n",
              "    .dataframe tbody tr th:only-of-type {\n",
              "        vertical-align: middle;\n",
              "    }\n",
              "\n",
              "    .dataframe tbody tr th {\n",
              "        vertical-align: top;\n",
              "    }\n",
              "\n",
              "    .dataframe thead th {\n",
              "        text-align: right;\n",
              "    }\n",
              "</style>\n",
              "<table border=\"1\" class=\"dataframe\">\n",
              "  <thead>\n",
              "    <tr style=\"text-align: right;\">\n",
              "      <th></th>\n",
              "      <th>Tweet</th>\n",
              "      <th>Sentiment</th>\n",
              "    </tr>\n",
              "  </thead>\n",
              "  <tbody>\n",
              "    <tr>\n",
              "      <th>0</th>\n",
              "      <td>\"QT @user In the original draft of the 7th boo...</td>\n",
              "      <td>0</td>\n",
              "    </tr>\n",
              "    <tr>\n",
              "      <th>1</th>\n",
              "      <td>\"Ben Smith / Smith (concussion) remains out of...</td>\n",
              "      <td>1</td>\n",
              "    </tr>\n",
              "    <tr>\n",
              "      <th>2</th>\n",
              "      <td>Sorry bout the stream last night I crashed out...</td>\n",
              "      <td>1</td>\n",
              "    </tr>\n",
              "    <tr>\n",
              "      <th>3</th>\n",
              "      <td>Chase Headley's RBI double in the 8th inning o...</td>\n",
              "      <td>1</td>\n",
              "    </tr>\n",
              "    <tr>\n",
              "      <th>4</th>\n",
              "      <td>@user Alciato: Bee will invest 150 million in ...</td>\n",
              "      <td>0</td>\n",
              "    </tr>\n",
              "  </tbody>\n",
              "</table>\n",
              "</div>"
            ],
            "text/plain": [
              "                                               Tweet  Sentiment\n",
              "0  \"QT @user In the original draft of the 7th boo...          0\n",
              "1  \"Ben Smith / Smith (concussion) remains out of...          1\n",
              "2  Sorry bout the stream last night I crashed out...          1\n",
              "3  Chase Headley's RBI double in the 8th inning o...          1\n",
              "4  @user Alciato: Bee will invest 150 million in ...          0"
            ]
          },
          "metadata": {
            "tags": []
          },
          "execution_count": 7
        }
      ]
    },
    {
      "cell_type": "code",
      "metadata": {
        "colab": {
          "base_uri": "https://localhost:8080/",
          "height": 346
        },
        "id": "eZfYh6-aDrcb",
        "outputId": "18463fd2-d4e4-4ef9-aa13-a01269cdd526"
      },
      "source": [
        "# create countplot for Target column\n",
        "def createCP(df,x1):\n",
        "    sns.countplot(x = x1, data = df)\n",
        "    plt.title('Sentiment count plot')\n",
        "    plt.show()\n",
        "\n",
        "x = df.columns.tolist()[-1]   # last column is Target 'sentiment''\n",
        "createCP(df, \"Sentiment\")\n",
        "df[\"Sentiment\"].value_counts()"
      ],
      "execution_count": null,
      "outputs": [
        {
          "output_type": "display_data",
          "data": {
            "image/png": "[encoded data removed]",
            "text/plain": [
              "<Figure size 432x288 with 1 Axes>"
            ]
          },
          "metadata": {
            "tags": [],
            "needs_background": "light"
          }
        },
        {
          "output_type": "execute_result",
          "data": {
            "text/plain": [
              "0    5217\n",
              "1    3783\n",
              "Name: Sentiment, dtype: int64"
            ]
          },
          "metadata": {
            "tags": []
          },
          "execution_count": 8
        }
      ]
    },
    {
      "cell_type": "code",
      "metadata": {
        "colab": {
          "base_uri": "https://localhost:8080/",
          "height": 290
        },
        "id": "F-mKyAEDEF3X",
        "outputId": "ddc7c531-c0e6-45ab-cb4a-be67832addd4"
      },
      "source": [
        "sentiments = [7093,20673,17849]\n",
        "colors_list = ['gold', 'yellowgreen', 'lightcoral']\n",
        "my_labels = 'Negative','Neutral','Positive'\n",
        "plt.pie(sentiments,labels=my_labels,autopct='%1.1f%%',shadow=True,colors=colors_list)\n",
        "plt.title('Sentiment Distribution of Tweets', y=1.12) \n",
        "plt.axis('equal') \n",
        "plt.legend(labels=my_labels, loc='lower left') \n",
        "plt.axis('equal')\n",
        "plt.show()"
      ],
      "execution_count": null,
      "outputs": [
        {
          "output_type": "display_data",
          "data": {
            "image/png": "[encoded data removed]",
            "text/plain": [
              "<Figure size 432x288 with 1 Axes>"
            ]
          },
          "metadata": {
            "tags": []
          }
        }
      ]
    },
    {
      "cell_type": "markdown",
      "metadata": {
        "id": "a0e0umyeWsNK"
      },
      "source": [
        "**Treat Slangs in Tweet**"
      ]
    },
    {
      "cell_type": "markdown",
      "metadata": {
        "id": "_BWS3RNCVG7A"
      },
      "source": [
        "In order to treat slangs in tweets used abreviations from this link and created slangsdf CSV File: https://www.webopedia.com/reference/text-abbreviations/"
      ]
    },
    {
      "cell_type": "code",
      "metadata": {
        "colab": {
          "base_uri": "https://localhost:8080/",
          "height": 195
        },
        "id": "4ScwAWn3U0Xg",
        "outputId": "793651cb-c683-4b4e-e9aa-ddd7dfdef6ad"
      },
      "source": [
        "slangs_df = pd.read_csv(\"/content/drive/MyDrive/slangsdf.csv\")\n",
        "slangs_df.head()"
      ],
      "execution_count": null,
      "outputs": [
        {
          "output_type": "execute_result",
          "data": {
            "text/html": [
              "<div>\n",
              "<style scoped>\n",
              "    .dataframe tbody tr th:only-of-type {\n",
              "        vertical-align: middle;\n",
              "    }\n",
              "\n",
              "    .dataframe tbody tr th {\n",
              "        vertical-align: top;\n",
              "    }\n",
              "\n",
              "    .dataframe thead th {\n",
              "        text-align: right;\n",
              "    }\n",
              "</style>\n",
              "<table border=\"1\" class=\"dataframe\">\n",
              "  <thead>\n",
              "    <tr style=\"text-align: right;\">\n",
              "      <th></th>\n",
              "      <th>Slangs</th>\n",
              "      <th>Fullforms</th>\n",
              "    </tr>\n",
              "  </thead>\n",
              "  <tbody>\n",
              "    <tr>\n",
              "      <th>0</th>\n",
              "      <td>?</td>\n",
              "      <td>I have a question</td>\n",
              "    </tr>\n",
              "    <tr>\n",
              "      <th>1</th>\n",
              "      <td>?</td>\n",
              "      <td>I don’t understand what you mean</td>\n",
              "    </tr>\n",
              "    <tr>\n",
              "      <th>2</th>\n",
              "      <td>?4U</td>\n",
              "      <td>I have a question for you</td>\n",
              "    </tr>\n",
              "    <tr>\n",
              "      <th>3</th>\n",
              "      <td>;S</td>\n",
              "      <td>Gentle warning, like “Hmm? What did you say?”</td>\n",
              "    </tr>\n",
              "    <tr>\n",
              "      <th>4</th>\n",
              "      <td>^^</td>\n",
              "      <td>Meaning “read line” or “read message” above</td>\n",
              "    </tr>\n",
              "  </tbody>\n",
              "</table>\n",
              "</div>"
            ],
            "text/plain": [
              "  Slangs                                      Fullforms\n",
              "0      ?                              I have a question\n",
              "1      ?               I don’t understand what you mean\n",
              "2    ?4U                      I have a question for you\n",
              "3     ;S  Gentle warning, like “Hmm? What did you say?”\n",
              "4     ^^    Meaning “read line” or “read message” above"
            ]
          },
          "metadata": {
            "tags": []
          },
          "execution_count": 10
        }
      ]
    },
    {
      "cell_type": "code",
      "metadata": {
        "colab": {
          "base_uri": "https://localhost:8080/",
          "height": 106
        },
        "id": "2px01JixWE2O",
        "outputId": "2b01c40e-7ccc-4f8f-b8da-1c3852009eed"
      },
      "source": [
        "def df_to_dict(df,df_dict):\n",
        "    for index,row in df.iterrows():\n",
        "        df_dict[row['Slangs']] = row['Fullforms']\n",
        "    return df_dict\n",
        "\n",
        "slangs_dict = {}\n",
        "slangs_dict = df_to_dict(slangs_df,slangs_dict)\n",
        "slangs_dict['PC'] = \"Personal Computer\"\n",
        "\n",
        "def treat_slangs(row,slang_dict):\n",
        "    words = row.split()\n",
        "    treated_row = []\n",
        "    reformed = []\n",
        "    for word in words:\n",
        "        if word.upper() in slang_dict.keys():\n",
        "            new_word = word.replace(word,slang_dict[word.upper()])\n",
        "            treated_row.append(new_word)\n",
        "        else:\n",
        "            treated_row.append(word)\n",
        "    reformed = \" \".join(treated_row)\n",
        "    return reformed\n",
        "df['Tweet'] = df['Tweet'].apply(lambda x:treat_slangs(x,slangs_dict))\n",
        "df.head(2)"
      ],
      "execution_count": null,
      "outputs": [
        {
          "output_type": "execute_result",
          "data": {
            "text/html": [
              "<div>\n",
              "<style scoped>\n",
              "    .dataframe tbody tr th:only-of-type {\n",
              "        vertical-align: middle;\n",
              "    }\n",
              "\n",
              "    .dataframe tbody tr th {\n",
              "        vertical-align: top;\n",
              "    }\n",
              "\n",
              "    .dataframe thead th {\n",
              "        text-align: right;\n",
              "    }\n",
              "</style>\n",
              "<table border=\"1\" class=\"dataframe\">\n",
              "  <thead>\n",
              "    <tr style=\"text-align: right;\">\n",
              "      <th></th>\n",
              "      <th>Tweet</th>\n",
              "      <th>Sentiment</th>\n",
              "    </tr>\n",
              "  </thead>\n",
              "  <tbody>\n",
              "    <tr>\n",
              "      <th>0</th>\n",
              "      <td>\"QT @user In the original draft of the 7th boo...</td>\n",
              "      <td>0</td>\n",
              "    </tr>\n",
              "    <tr>\n",
              "      <th>1</th>\n",
              "      <td>\"Ben Smith / Smith (concussion) remains out of...</td>\n",
              "      <td>1</td>\n",
              "    </tr>\n",
              "  </tbody>\n",
              "</table>\n",
              "</div>"
            ],
            "text/plain": [
              "                                               Tweet  Sentiment\n",
              "0  \"QT @user In the original draft of the 7th boo...          0\n",
              "1  \"Ben Smith / Smith (concussion) remains out of...          1"
            ]
          },
          "metadata": {
            "tags": []
          },
          "execution_count": 11
        }
      ]
    },
    {
      "cell_type": "markdown",
      "metadata": {
        "id": "kWQeVVb2aAxo"
      },
      "source": [
        "**Treating Apostrophes/Contractions in Tweets**"
      ]
    },
    {
      "cell_type": "code",
      "metadata": {
        "colab": {
          "base_uri": "https://localhost:8080/",
          "height": 35
        },
        "id": "PIWAG5baZ4Wo",
        "outputId": "72df678e-ed4e-45cf-c4f2-e35adc10a012"
      },
      "source": [
        "# Dictionary of English Contractions\n",
        "contractions_dict = { \"ain't\": \"are not\",\"'s\":\" is\",\"aren't\": \"are not\",\n",
        "                     \"can't\": \"cannot\",\"can't've\": \"cannot have\",\n",
        "                     \"'cause\": \"because\",\"could've\": \"could have\",\"couldn't\": \"could not\",\n",
        "                     \"couldn't've\": \"could not have\", \"didn't\": \"did not\",\"doesn't\": \"does not\",\n",
        "                     \"don't\": \"do not\",\"hadn't\": \"had not\",\"hadn't've\": \"had not have\",\n",
        "                     \"hasn't\": \"has not\",\"haven't\": \"have not\",\"he'd\": \"he would\",\n",
        "                     \"he'd've\": \"he would have\",\"he'll\": \"he will\", \"he'll've\": \"he will have\",\n",
        "                     \"how'd\": \"how did\",\"how'd'y\": \"how do you\",\"how'll\": \"how will\",\n",
        "                     \"I'd\": \"I would\", \"I'd've\": \"I would have\",\"I'll\": \"I will\",\n",
        "                     \"I'll've\": \"I will have\",\"I'm\": \"I am\",\"I've\": \"I have\", \"isn't\": \"is not\",\n",
        "                     \"it'd\": \"it would\",\"it'd've\": \"it would have\",\"it'll\": \"it will\",\n",
        "                     \"it'll've\": \"it will have\", \"let's\": \"let us\",\"ma'am\": \"madam\",\n",
        "                     \"mayn't\": \"may not\",\"might've\": \"might have\",\"mightn't\": \"might not\", \n",
        "                     \"mightn't've\": \"might not have\",\"must've\": \"must have\",\"mustn't\": \"must not\",\n",
        "                     \"mustn't've\": \"must not have\", \"needn't\": \"need not\",\n",
        "                     \"needn't've\": \"need not have\",\"o'clock\": \"of the clock\",\"oughtn't\": \"ought not\",\n",
        "                     \"oughtn't've\": \"ought not have\",\"shan't\": \"shall not\",\"sha'n't\": \"shall not\",\n",
        "                     \"shan't've\": \"shall not have\",\"she'd\": \"she would\",\"she'd've\": \"she would have\",\n",
        "                     \"she'll\": \"she will\", \"she'll've\": \"she will have\",\"should've\": \"should have\",\n",
        "                     \"shouldn't\": \"should not\", \"shouldn't've\": \"should not have\",\"so've\": \"so have\",\n",
        "                     \"that'd\": \"that would\",\"that'd've\": \"that would have\", \"there'd\": \"there would\",\n",
        "                     \"there'd've\": \"there would have\", \"they'd\": \"they would\",\n",
        "                     \"they'd've\": \"they would have\",\"they'll\": \"they will\",\n",
        "                     \"they'll've\": \"they will have\", \"they're\": \"they are\",\"they've\": \"they have\",\n",
        "                     \"to've\": \"to have\",\"wasn't\": \"was not\",\"we'd\": \"we would\",\n",
        "                     \"we'd've\": \"we would have\",\"we'll\": \"we will\",\"we'll've\": \"we will have\",\n",
        "                     \"we're\": \"we are\",\"we've\": \"we have\", \"weren't\": \"were not\",\"what'll\": \"what will\",\n",
        "                     \"what'll've\": \"what will have\",\"what're\": \"what are\", \"what've\": \"what have\",\n",
        "                     \"when've\": \"when have\",\"where'd\": \"where did\", \"where've\": \"where have\",\n",
        "                     \"who'll\": \"who will\",\"who'll've\": \"who will have\",\"who've\": \"who have\",\n",
        "                     \"why've\": \"why have\",\"will've\": \"will have\",\"won't\": \"will not\",\n",
        "                     \"won't've\": \"will not have\", \"would've\": \"would have\",\"wouldn't\": \"would not\",\n",
        "                     \"wouldn't've\": \"would not have\",\"y'all\": \"you all\", \"y'all'd\": \"you all would\",\n",
        "                     \"y'all'd've\": \"you all would have\",\"y'all're\": \"you all are\",\n",
        "                     \"y'all've\": \"you all have\", \"you'd\": \"you would\",\"you'd've\": \"you would have\",\n",
        "                     \"you'll\": \"you will\",\"you'll've\": \"you will have\", \"you're\": \"you are\",\n",
        "                     \"you've\": \"you have\"}\n",
        "\n",
        "# Regular expression for finding contractions\n",
        "contractions_re=re.compile('(%s)' % '|'.join(contractions_dict.keys()))\n",
        "\n",
        "# Function for expanding contractions\n",
        "def expand_contractions(text,contractions_dict=contractions_dict):\n",
        "  def replace(match):\n",
        "    return contractions_dict[match.group(0)]\n",
        "  return contractions_re.sub(replace, text)\n",
        "\n",
        "# Expanding Contractions in the reviews\n",
        "df['Tweet']=df['Tweet'].apply(lambda x:expand_contractions(x))\n",
        "df.head(2)\n",
        "df['Tweet'][0]"
      ],
      "execution_count": null,
      "outputs": [
        {
          "output_type": "execute_result",
          "data": {
            "application/vnd.google.colaboratory.intrinsic+json": {
              "type": "string"
            },
            "text/plain": [
              "'\"QT @user In the original draft of the 7th book, Remus Lupin survived the Battle of Hogwarts. #HappyBirthdayRemusLupin\"'"
            ]
          },
          "metadata": {
            "tags": []
          },
          "execution_count": 12
        }
      ]
    },
    {
      "cell_type": "markdown",
      "metadata": {
        "id": "mRoHu9PyaSf9"
      },
      "source": [
        "**Preprocessing tweets by removing punctuations,urls etc. and Converting to lowercase**"
      ]
    },
    {
      "cell_type": "code",
      "metadata": {
        "colab": {
          "base_uri": "https://localhost:8080/",
          "height": 35
        },
        "id": "MA7p1lUWJ0ef",
        "outputId": "2a6d2e56-4164-476c-d5f2-42820ad102e9"
      },
      "source": [
        "import string\n",
        "def clean_text(text):\n",
        "    #convert the text to lower case\n",
        "    text = text.lower()\n",
        "    #remove @mention\n",
        "    text = re.sub(r'@\\w+', '', text)\n",
        "    #remove Link word\n",
        "    text = re.sub(\"{link}\",'',text)\n",
        "    #remove html tags\n",
        "    text = re.sub(\"&[\\w;]*\",' ',text)\n",
        "    #remove urls\n",
        "    text = re.sub(r'http.?://[^\\s]+[\\s]?',' ',text)\n",
        "    #remove RT\n",
        "    text = re.sub(r'(?i)\\bRT\\b','',text)\n",
        "    #remove content inside square brackets\n",
        "    text = re.sub('\\[.*?\\]', ' ', text)\n",
        "    #remove punctuation\n",
        "    text = re.sub('[%s]' % re.escape(string.punctuation), '', text)\n",
        "    #remove digits\n",
        "    text = re.sub('\\d+', ' ',text)\n",
        "    #remove new line character\n",
        "    text= re.sub('\\n', '', text)\n",
        "    return text\n",
        "df[\"Tweet\"]= df.Tweet.apply(lambda x: clean_text(x))\n",
        "df.Tweet.head(2)\n",
        "df['Tweet'][0]"
      ],
      "execution_count": null,
      "outputs": [
        {
          "output_type": "execute_result",
          "data": {
            "application/vnd.google.colaboratory.intrinsic+json": {
              "type": "string"
            },
            "text/plain": [
              "'qt  in the original draft of the  th book remus lupin survived the battle of hogwarts happybirthdayremuslupin'"
            ]
          },
          "metadata": {
            "tags": []
          },
          "execution_count": 13
        }
      ]
    },
    {
      "cell_type": "markdown",
      "metadata": {
        "id": "WaVVgxesVyQR"
      },
      "source": [
        "**To remove Emojis, Referred code: https://stackoverflow.com/questions/33404752/removing-emojis-from-a-string-in-python**\n"
      ]
    },
    {
      "cell_type": "code",
      "metadata": {
        "colab": {
          "base_uri": "https://localhost:8080/",
          "height": 35
        },
        "id": "vg89jCd2RdBy",
        "outputId": "d071f73d-c527-4a62-e8d7-525bff1d5030"
      },
      "source": [
        "def deEmojify(text):\n",
        "    regrex_pattern = re.compile(pattern = \"[\"\n",
        "        u\"\\U0001F600-\\U0001F64F\"  # emoticons\n",
        "        u\"\\U0001F300-\\U0001F5FF\"  # symbols & pictographs\n",
        "        u\"\\U0001F680-\\U0001F6FF\"  # transport & map symbols\n",
        "        u\"\\U0001F1E0-\\U0001F1FF\"  # flags (iOS)\n",
        "                           \"]+\", flags = re.UNICODE)\n",
        "    return regrex_pattern.sub(r'',text)\n",
        "\n",
        "df[\"Tweet\"]= df.Tweet.apply(lambda x: deEmojify(x))\n",
        "df.Tweet.head(2)\n",
        "df['Tweet'][0]"
      ],
      "execution_count": null,
      "outputs": [
        {
          "output_type": "execute_result",
          "data": {
            "application/vnd.google.colaboratory.intrinsic+json": {
              "type": "string"
            },
            "text/plain": [
              "'qt  in the original draft of the  th book remus lupin survived the battle of hogwarts happybirthdayremuslupin'"
            ]
          },
          "metadata": {
            "tags": []
          },
          "execution_count": 14
        }
      ]
    },
    {
      "cell_type": "markdown",
      "metadata": {
        "id": "I7xGfCvId7vN"
      },
      "source": [
        "**Remove StopWords**"
      ]
    },
    {
      "cell_type": "code",
      "metadata": {
        "colab": {
          "base_uri": "https://localhost:8080/",
          "height": 69
        },
        "id": "chSEZ0LeR8w5",
        "outputId": "a92e3bd1-a03c-4cf9-8301-1b8124140477"
      },
      "source": [
        "import nltk\n",
        "nltk.download('stopwords')\n",
        "def remove_stopwords(input_text):\n",
        "        stopwords_list = stopwords.words('english')\n",
        "        # Some words which might indicate a certain sentiment are kept via a whitelist\n",
        "        whitelist = [\"n't\", \"not\", \"no\"]\n",
        "        words = input_text.split() \n",
        "        clean_words = [word for word in words if (word not in stopwords_list or word in whitelist) and len(word) > 1] \n",
        "        return \" \".join(clean_words)\n",
        "df[\"Tweet\"]= df.Tweet.apply(lambda x: remove_stopwords(x))\n",
        "df.Tweet.head(2)\n",
        "df['Tweet'][0]"
      ],
      "execution_count": null,
      "outputs": [
        {
          "output_type": "stream",
          "text": [
            "[nltk_data] Downloading package stopwords to /root/nltk_data...\n",
            "[nltk_data]   Unzipping corpora/stopwords.zip.\n"
          ],
          "name": "stdout"
        },
        {
          "output_type": "execute_result",
          "data": {
            "application/vnd.google.colaboratory.intrinsic+json": {
              "type": "string"
            },
            "text/plain": [
              "'qt original draft th book remus lupin survived battle hogwarts happybirthdayremuslupin'"
            ]
          },
          "metadata": {
            "tags": []
          },
          "execution_count": 15
        }
      ]
    },
    {
      "cell_type": "markdown",
      "metadata": {
        "id": "JhdtcUEBgjVF"
      },
      "source": [
        "**Lemmatization**"
      ]
    },
    {
      "cell_type": "code",
      "metadata": {
        "colab": {
          "base_uri": "https://localhost:8080/",
          "height": 69
        },
        "id": "3-2rhyI9fKWf",
        "outputId": "ddaffa2c-e598-4e7d-e5ab-15989136d650"
      },
      "source": [
        "nltk.download('wordnet')\n",
        "from nltk.corpus import wordnet\n",
        "from nltk.stem import WordNetLemmatizer\n",
        "def lemmatization(input_text):\n",
        "        words = input_text.split() \n",
        "        lemma = WordNetLemmatizer()\n",
        "        lemma_words = [lemma.lemmatize(i) for i in words]\n",
        "        return \" \".join(lemma_words)\n",
        "df[\"Tweet\"]= df.Tweet.apply(lambda x: lemmatization(x))\n",
        "df.Tweet.head(2)\n",
        "df['Tweet'][0]"
      ],
      "execution_count": null,
      "outputs": [
        {
          "output_type": "stream",
          "text": [
            "[nltk_data] Downloading package wordnet to /root/nltk_data...\n",
            "[nltk_data]   Unzipping corpora/wordnet.zip.\n"
          ],
          "name": "stdout"
        },
        {
          "output_type": "execute_result",
          "data": {
            "application/vnd.google.colaboratory.intrinsic+json": {
              "type": "string"
            },
            "text/plain": [
              "'qt original draft th book remus lupin survived battle hogwarts happybirthdayremuslupin'"
            ]
          },
          "metadata": {
            "tags": []
          },
          "execution_count": 16
        }
      ]
    },
    {
      "cell_type": "markdown",
      "metadata": {
        "id": "3gIbfUnpjty9"
      },
      "source": [
        "**SMOTE for Sampling Imbalanced Dataset and using TF-IDF Vectorizer for text**"
      ]
    },
    {
      "cell_type": "code",
      "metadata": {
        "id": "Pd0GDlocjsCr"
      },
      "source": [
        "from imblearn.over_sampling import SMOTE,RandomOverSampler\n",
        "from sklearn.feature_extraction.text import TfidfVectorizer\n",
        "X = df['Tweet']\n",
        "tfidf = TfidfVectorizer()\n",
        "X = tfidf.fit_transform(X)\n",
        "y = df.Sentiment\n",
        "smote = SMOTE(random_state=40)\n",
        "X_sm,y_sm = smote.fit_sample(X,y)"
      ],
      "execution_count": null,
      "outputs": []
    },
    {
      "cell_type": "markdown",
      "metadata": {
        "id": "jnfa_x9FhQ3z"
      },
      "source": [
        "**SVM Classification Train Dataset**"
      ]
    },
    {
      "cell_type": "code",
      "metadata": {
        "id": "2IyBeUXhebxm",
        "colab": {
          "base_uri": "https://localhost:8080/"
        },
        "outputId": "8b8e8845-c561-47a4-fefc-c1a87e31da85"
      },
      "source": [
        "from sklearn.model_selection import train_test_split\n",
        "from sklearn.model_selection import GridSearchCV\n",
        "import time\n",
        "from sklearn import svm\n",
        "from sklearn.svm import SVC  \n",
        "from sklearn.metrics import classification_report\n",
        "\n",
        "\n",
        "X_train, X_test, y_train, y_test = train_test_split(X_sm, y_sm, test_size=0.3, random_state=6)\n",
        "\n",
        "# defining parameter range\n",
        "param_grid = {'kernel':['rbf'] } \n",
        "  \n",
        "grid = GridSearchCV(svm.SVC(random_state=0), param_grid,verbose=1,n_jobs=-1)\n",
        "  \n",
        "# fitting the model for grid search\n",
        "grid.fit(X_train, y_train)\n",
        "print(grid.best_params_)\n",
        "print(grid.best_estimator_)\n",
        "grid_predictions = grid.predict(X_test)\n",
        "  \n",
        "# print classification report\n",
        "print(classification_report(y_test, grid_predictions))\n"
      ],
      "execution_count": null,
      "outputs": [
        {
          "output_type": "stream",
          "text": [
            "Fitting 5 folds for each of 1 candidates, totalling 5 fits\n"
          ],
          "name": "stdout"
        },
        {
          "output_type": "stream",
          "text": [
            "[Parallel(n_jobs=-1)]: Using backend LokyBackend with 2 concurrent workers.\n",
            "[Parallel(n_jobs=-1)]: Done   5 out of   5 | elapsed:   26.5s finished\n"
          ],
          "name": "stderr"
        },
        {
          "output_type": "stream",
          "text": [
            "{'kernel': 'rbf'}\n",
            "SVC(C=1.0, break_ties=False, cache_size=200, class_weight=None, coef0=0.0,\n",
            "    decision_function_shape='ovr', degree=3, gamma='scale', kernel='rbf',\n",
            "    max_iter=-1, probability=False, random_state=0, shrinking=True, tol=0.001,\n",
            "    verbose=False)\n",
            "              precision    recall  f1-score   support\n",
            "\n",
            "           0       0.60      0.92      0.72      1547\n",
            "           1       0.84      0.39      0.53      1584\n",
            "\n",
            "    accuracy                           0.65      3131\n",
            "   macro avg       0.72      0.66      0.63      3131\n",
            "weighted avg       0.72      0.65      0.63      3131\n",
            "\n"
          ],
          "name": "stdout"
        }
      ]
    },
    {
      "cell_type": "markdown",
      "metadata": {
        "id": "1tORB7qIALfv"
      },
      "source": [
        "**Validation Dataset**\n",
        "\n",
        "\n"
      ]
    },
    {
      "cell_type": "code",
      "metadata": {
        "colab": {
          "base_uri": "https://localhost:8080/",
          "height": 686
        },
        "id": "iQgrXleV4M59",
        "outputId": "a9e4caaf-e61c-4300-c79b-641efaf7d574"
      },
      "source": [
        "#Loading Val Dataset\n",
        "df_val1 = pd.read_fwf('https://raw.githubusercontent.com/cardiffnlp/tweeteval/main/datasets/sentiment/val_text.txt', header=None)\n",
        "df_val1.head()\n",
        "df_val1.columns\n",
        "df_val1.count\n",
        "print(df_val1.isnull().sum())\n",
        "print(df_val1.shape)\n",
        "df_val1=df_val1.rename(columns={0:\"Tweet\"})\n",
        "df_val1.head()\n",
        "df_val_labels=pd.read_fwf('https://raw.githubusercontent.com/cardiffnlp/tweeteval/main/datasets/sentiment/val_labels.txt', header=None)\n",
        "df_val_labels.head()\n",
        "print(df_val_labels.shape)\n",
        "df_val_labels=df_val_labels.rename(columns={0:\"Sentiment\"})\n",
        "df_val_labels.head()\n",
        "dfs=[df_val1,df_val_labels]\n",
        "df_val=pd.concat(dfs, axis=1, join=\"inner\")\n",
        "dfv=df_val\n",
        "df_val.drop([1],axis=1,inplace=True)\n",
        "df_val.head()"
      ],
      "execution_count": null,
      "outputs": [
        {
          "output_type": "stream",
          "text": [
            "0       0\n",
            "1    1989\n",
            "dtype: int64\n",
            "(2000, 2)\n",
            "(2000, 1)\n"
          ],
          "name": "stdout"
        },
        {
          "output_type": "execute_result",
          "data": {
            "text/html": [
              "<div>\n",
              "<style scoped>\n",
              "    .dataframe tbody tr th:only-of-type {\n",
              "        vertical-align: middle;\n",
              "    }\n",
              "\n",
              "    .dataframe tbody tr th {\n",
              "        vertical-align: top;\n",
              "    }\n",
              "\n",
              "    .dataframe thead th {\n",
              "        text-align: right;\n",
              "    }\n",
              "</style>\n",
              "<table border=\"1\" class=\"dataframe\">\n",
              "  <thead>\n",
              "    <tr style=\"text-align: right;\">\n",
              "      <th></th>\n",
              "      <th>Tweet</th>\n",
              "      <th>Sentiment</th>\n",
              "    </tr>\n",
              "  </thead>\n",
              "  <tbody>\n",
              "    <tr>\n",
              "      <th>0</th>\n",
              "      <td>Dark Souls 3 April Launch Date Confirmed With ...</td>\n",
              "      <td>1</td>\n",
              "    </tr>\n",
              "    <tr>\n",
              "      <th>1</th>\n",
              "      <td>\"National hot dog day, national tequila day, t...</td>\n",
              "      <td>2</td>\n",
              "    </tr>\n",
              "    <tr>\n",
              "      <th>2</th>\n",
              "      <td>When girls become bandwagon fans of the Packer...</td>\n",
              "      <td>0</td>\n",
              "    </tr>\n",
              "    <tr>\n",
              "      <th>3</th>\n",
              "      <td>@user I may or may not have searched it up on ...</td>\n",
              "      <td>1</td>\n",
              "    </tr>\n",
              "    <tr>\n",
              "      <th>4</th>\n",
              "      <td>Here's your starting TUESDAY MORNING Line up a...</td>\n",
              "      <td>1</td>\n",
              "    </tr>\n",
              "  </tbody>\n",
              "</table>\n",
              "</div>"
            ],
            "text/plain": [
              "                                               Tweet  Sentiment\n",
              "0  Dark Souls 3 April Launch Date Confirmed With ...          1\n",
              "1  \"National hot dog day, national tequila day, t...          2\n",
              "2  When girls become bandwagon fans of the Packer...          0\n",
              "3  @user I may or may not have searched it up on ...          1\n",
              "4  Here's your starting TUESDAY MORNING Line up a...          1"
            ]
          },
          "metadata": {
            "tags": []
          },
          "execution_count": 19
        }
      ]
    },
    {
      "cell_type": "markdown",
      "metadata": {
        "id": "sK64JaL9AwZm"
      },
      "source": [
        "**Preprocessing the validation Dataset by treating Slangs,Expanding Contractions, Cleaning text by removing punctuations,urls,hashtags etc.,Removing Emojis, lemmatizing and Removing Stopwords**\n",
        "\n",
        "---\n",
        "\n"
      ]
    },
    {
      "cell_type": "code",
      "metadata": {
        "colab": {
          "base_uri": "https://localhost:8080/",
          "height": 106
        },
        "id": "tHGHGWgV5P9m",
        "outputId": "75a5b59c-cb15-4ad8-c0fc-92574ba6a9a4"
      },
      "source": [
        "df_val['Tweet'] = df_val['Tweet'].apply(lambda x:treat_slangs(x,slangs_dict))\n",
        "df_val.head(2)"
      ],
      "execution_count": null,
      "outputs": [
        {
          "output_type": "execute_result",
          "data": {
            "text/html": [
              "<div>\n",
              "<style scoped>\n",
              "    .dataframe tbody tr th:only-of-type {\n",
              "        vertical-align: middle;\n",
              "    }\n",
              "\n",
              "    .dataframe tbody tr th {\n",
              "        vertical-align: top;\n",
              "    }\n",
              "\n",
              "    .dataframe thead th {\n",
              "        text-align: right;\n",
              "    }\n",
              "</style>\n",
              "<table border=\"1\" class=\"dataframe\">\n",
              "  <thead>\n",
              "    <tr style=\"text-align: right;\">\n",
              "      <th></th>\n",
              "      <th>Tweet</th>\n",
              "      <th>Sentiment</th>\n",
              "    </tr>\n",
              "  </thead>\n",
              "  <tbody>\n",
              "    <tr>\n",
              "      <th>0</th>\n",
              "      <td>Dark Souls 3 April Launch Date Confirmed With ...</td>\n",
              "      <td>1</td>\n",
              "    </tr>\n",
              "    <tr>\n",
              "      <th>1</th>\n",
              "      <td>\"National hot dog day, national tequila day, t...</td>\n",
              "      <td>2</td>\n",
              "    </tr>\n",
              "  </tbody>\n",
              "</table>\n",
              "</div>"
            ],
            "text/plain": [
              "                                               Tweet  Sentiment\n",
              "0  Dark Souls 3 April Launch Date Confirmed With ...          1\n",
              "1  \"National hot dog day, national tequila day, t...          2"
            ]
          },
          "metadata": {
            "tags": []
          },
          "execution_count": 20
        }
      ]
    },
    {
      "cell_type": "code",
      "metadata": {
        "colab": {
          "base_uri": "https://localhost:8080/",
          "height": 35
        },
        "id": "pp2A7nb15-rn",
        "outputId": "5dd655d9-e40f-480e-8832-2e66f4c6d934"
      },
      "source": [
        "df_val['Tweet']=df_val['Tweet'].apply(lambda x:expand_contractions(x))\n",
        "df_val['Tweet'][0]"
      ],
      "execution_count": null,
      "outputs": [
        {
          "output_type": "execute_result",
          "data": {
            "application/vnd.google.colaboratory.intrinsic+json": {
              "type": "string"
            },
            "text/plain": [
              "'Dark Souls 3 April Launch Date Confirmed With New Trailer: Embrace the darkness.'"
            ]
          },
          "metadata": {
            "tags": []
          },
          "execution_count": 21
        }
      ]
    },
    {
      "cell_type": "code",
      "metadata": {
        "colab": {
          "base_uri": "https://localhost:8080/",
          "height": 35
        },
        "id": "9kur5c6a6eHz",
        "outputId": "91cf8c1a-f1b0-4659-89fe-b90609aa0f9d"
      },
      "source": [
        "df_val[\"Tweet\"]= df_val.Tweet.apply(lambda x: clean_text(x))\n",
        "df_val['Tweet'][0]"
      ],
      "execution_count": null,
      "outputs": [
        {
          "output_type": "execute_result",
          "data": {
            "application/vnd.google.colaboratory.intrinsic+json": {
              "type": "string"
            },
            "text/plain": [
              "'dark souls   april launch date confirmed with new trailer embrace the darkness'"
            ]
          },
          "metadata": {
            "tags": []
          },
          "execution_count": 22
        }
      ]
    },
    {
      "cell_type": "code",
      "metadata": {
        "colab": {
          "base_uri": "https://localhost:8080/",
          "height": 35
        },
        "id": "B9H8Izng6lf0",
        "outputId": "bd845853-98be-4d1c-8380-db0e023db390"
      },
      "source": [
        "df_val[\"Tweet\"]= df_val.Tweet.apply(lambda x: deEmojify(x))\n",
        "df_val['Tweet'][0]"
      ],
      "execution_count": null,
      "outputs": [
        {
          "output_type": "execute_result",
          "data": {
            "application/vnd.google.colaboratory.intrinsic+json": {
              "type": "string"
            },
            "text/plain": [
              "'dark souls   april launch date confirmed with new trailer embrace the darkness'"
            ]
          },
          "metadata": {
            "tags": []
          },
          "execution_count": 23
        }
      ]
    },
    {
      "cell_type": "code",
      "metadata": {
        "colab": {
          "base_uri": "https://localhost:8080/",
          "height": 35
        },
        "id": "3Dqpas3B645d",
        "outputId": "c7c95676-a5ac-46f0-bf9e-cb515a0616cf"
      },
      "source": [
        "df_val[\"Tweet\"]= df_val.Tweet.apply(lambda x: remove_stopwords(x))\n",
        "df_val['Tweet'][0]"
      ],
      "execution_count": null,
      "outputs": [
        {
          "output_type": "execute_result",
          "data": {
            "application/vnd.google.colaboratory.intrinsic+json": {
              "type": "string"
            },
            "text/plain": [
              "'dark souls april launch date confirmed new trailer embrace darkness'"
            ]
          },
          "metadata": {
            "tags": []
          },
          "execution_count": 24
        }
      ]
    },
    {
      "cell_type": "code",
      "metadata": {
        "colab": {
          "base_uri": "https://localhost:8080/",
          "height": 35
        },
        "id": "LG0tz_Hi7D6E",
        "outputId": "4f9fe508-71c6-4b77-9db6-61b289d3b5a2"
      },
      "source": [
        "df_val[\"Tweet\"]= df_val.Tweet.apply(lambda x: lemmatization(x))\n",
        "df_val['Tweet'][0]"
      ],
      "execution_count": null,
      "outputs": [
        {
          "output_type": "execute_result",
          "data": {
            "application/vnd.google.colaboratory.intrinsic+json": {
              "type": "string"
            },
            "text/plain": [
              "'dark soul april launch date confirmed new trailer embrace darkness'"
            ]
          },
          "metadata": {
            "tags": []
          },
          "execution_count": 25
        }
      ]
    },
    {
      "cell_type": "code",
      "metadata": {
        "colab": {
          "base_uri": "https://localhost:8080/"
        },
        "id": "gAKgLZjl7M6f",
        "outputId": "7bb26150-a9d0-4cd4-f60d-4c09146b59c4"
      },
      "source": [
        "df_val[\"Sentiment\"].value_counts()"
      ],
      "execution_count": null,
      "outputs": [
        {
          "output_type": "execute_result",
          "data": {
            "text/plain": [
              "1    869\n",
              "2    819\n",
              "0    312\n",
              "Name: Sentiment, dtype: int64"
            ]
          },
          "metadata": {
            "tags": []
          },
          "execution_count": 26
        }
      ]
    },
    {
      "cell_type": "markdown",
      "metadata": {
        "id": "RdMhu_7qBXkA"
      },
      "source": [
        "**Treating Imbalanced data using SMOTE**"
      ]
    },
    {
      "cell_type": "code",
      "metadata": {
        "id": "G7w1E5nS7TH2"
      },
      "source": [
        "from imblearn.over_sampling import SMOTE,RandomOverSampler\n",
        "from sklearn.feature_extraction.text import TfidfVectorizer\n",
        "Xv = df_val['Tweet']\n",
        "tfidf = TfidfVectorizer()\n",
        "Xv= tfidf.fit_transform(Xv)\n",
        "yv = df_val.Sentiment\n",
        "smotev = SMOTE(random_state=42)\n",
        "X_smv,y_smv = smotev.fit_sample(Xv,yv)\n"
      ],
      "execution_count": null,
      "outputs": []
    },
    {
      "cell_type": "markdown",
      "metadata": {
        "id": "cXxyy3E1Bf79"
      },
      "source": [
        "**Hyperparameter tuning on Validation Dataset**"
      ]
    },
    {
      "cell_type": "code",
      "metadata": {
        "colab": {
          "base_uri": "https://localhost:8080/"
        },
        "id": "YeGop3YA78k2",
        "outputId": "f2c698e1-419a-4b86-9d9f-0ecded4176bc"
      },
      "source": [
        "from sklearn.model_selection import train_test_split\n",
        "from sklearn.model_selection import GridSearchCV\n",
        "import time\n",
        "from sklearn import svm\n",
        "from sklearn.svm import SVC  \n",
        "from sklearn.metrics import classification_report\n",
        "\n",
        "\n",
        "X_trainv, X_testv, y_trainv, y_testv = train_test_split(X_smv, y_smv, test_size=0.3, random_state=6)\n",
        "\n",
        "# defining parameter range\n",
        "param_grid = {'C': [0,0.01,0.1,0.8,1,1.2,10], \n",
        "              'gamma': [1, 0.1, 0.01, 0.001, 0.0001],\n",
        "              'kernel':['rbf'] } \n",
        "  \n",
        "grid = GridSearchCV(svm.SVC(random_state=0), param_grid,verbose=1,n_jobs=-1,cv = 10)\n",
        "  \n",
        "# fitting the model for grid search\n",
        "grid.fit(X_trainv, y_trainv)\n",
        "print(grid.best_params_)\n",
        "print(grid.best_estimator_)\n",
        "grid_predictions = grid.predict(X_testv)\n",
        "  \n",
        "# print classification report\n",
        "print(classification_report(y_testv, grid_predictions))"
      ],
      "execution_count": null,
      "outputs": [
        {
          "output_type": "stream",
          "text": [
            "Fitting 10 folds for each of 35 candidates, totalling 350 fits\n"
          ],
          "name": "stdout"
        },
        {
          "output_type": "stream",
          "text": [
            "[Parallel(n_jobs=-1)]: Using backend LokyBackend with 2 concurrent workers.\n",
            "[Parallel(n_jobs=-1)]: Done 150 tasks      | elapsed:   48.9s\n",
            "[Parallel(n_jobs=-1)]: Done 300 tasks      | elapsed:  2.0min\n",
            "[Parallel(n_jobs=-1)]: Done 350 out of 350 | elapsed:  2.4min finished\n"
          ],
          "name": "stderr"
        },
        {
          "output_type": "stream",
          "text": [
            "{'C': 10, 'gamma': 0.1, 'kernel': 'rbf'}\n",
            "SVC(C=10, break_ties=False, cache_size=200, class_weight=None, coef0=0.0,\n",
            "    decision_function_shape='ovr', degree=3, gamma=0.1, kernel='rbf',\n",
            "    max_iter=-1, probability=False, random_state=0, shrinking=True, tol=0.001,\n",
            "    verbose=False)\n",
            "              precision    recall  f1-score   support\n",
            "\n",
            "           0       0.87      0.88      0.87       259\n",
            "           1       0.56      0.61      0.58       256\n",
            "           2       0.65      0.59      0.61       268\n",
            "\n",
            "    accuracy                           0.69       783\n",
            "   macro avg       0.69      0.69      0.69       783\n",
            "weighted avg       0.69      0.69      0.69       783\n",
            "\n"
          ],
          "name": "stdout"
        }
      ]
    },
    {
      "cell_type": "markdown",
      "metadata": {
        "id": "eyE4fA_UB6bj"
      },
      "source": [
        "**Loading Test Data**"
      ]
    },
    {
      "cell_type": "code",
      "metadata": {
        "colab": {
          "base_uri": "https://localhost:8080/"
        },
        "id": "21oab7SX9InQ",
        "outputId": "fc07eb41-09e7-4ab9-fb88-eecd7b46ba34"
      },
      "source": [
        "#Loading Test Dataset\n",
        "df_test1 = pd.read_fwf('https://raw.githubusercontent.com/cardiffnlp/tweeteval/main/datasets/sentiment/test_text.txt', header=None)\n",
        "df_test1.head()\n",
        "df_test1.columns\n",
        "df_test1.count\n",
        "print(df_test1.isnull().sum())\n",
        "print(df_test1.shape)\n",
        "df_test1=df_test1.rename(columns={0:\"Tweet\"})\n",
        "df_test1.head()\n",
        "df_test_labels=pd.read_fwf('https://raw.githubusercontent.com/cardiffnlp/tweeteval/main/datasets/sentiment/test_labels.txt', header=None)\n",
        "df_test_labels.head()\n",
        "print(df_test_labels.shape)\n",
        "df_test_labels=df_test_labels.rename(columns={0:\"Sentiment\"})\n",
        "df_test_labels.head()\n",
        "dfs=[df_test1,df_test_labels]\n",
        "df_test=pd.concat(dfs, axis=1, join=\"inner\")\n",
        "dft=df_test\n",
        "df_test.head()"
      ],
      "execution_count": null,
      "outputs": [
        {
          "output_type": "stream",
          "text": [
            "0    0\n",
            "dtype: int64\n",
            "(12284, 1)\n",
            "(12284, 1)\n"
          ],
          "name": "stdout"
        },
        {
          "output_type": "execute_result",
          "data": {
            "text/html": [
              "<div>\n",
              "<style scoped>\n",
              "    .dataframe tbody tr th:only-of-type {\n",
              "        vertical-align: middle;\n",
              "    }\n",
              "\n",
              "    .dataframe tbody tr th {\n",
              "        vertical-align: top;\n",
              "    }\n",
              "\n",
              "    .dataframe thead th {\n",
              "        text-align: right;\n",
              "    }\n",
              "</style>\n",
              "<table border=\"1\" class=\"dataframe\">\n",
              "  <thead>\n",
              "    <tr style=\"text-align: right;\">\n",
              "      <th></th>\n",
              "      <th>Tweet</th>\n",
              "      <th>Sentiment</th>\n",
              "    </tr>\n",
              "  </thead>\n",
              "  <tbody>\n",
              "    <tr>\n",
              "      <th>0</th>\n",
              "      <td>@user @user what do these '1/2 naked pics' hav...</td>\n",
              "      <td>1</td>\n",
              "    </tr>\n",
              "    <tr>\n",
              "      <th>1</th>\n",
              "      <td>OH: “I had a blue penis while I was this” [pla...</td>\n",
              "      <td>1</td>\n",
              "    </tr>\n",
              "    <tr>\n",
              "      <th>2</th>\n",
              "      <td>@user @user That's coming, but I think the vic...</td>\n",
              "      <td>1</td>\n",
              "    </tr>\n",
              "    <tr>\n",
              "      <th>3</th>\n",
              "      <td>I think I may be finally in with the in crowd ...</td>\n",
              "      <td>2</td>\n",
              "    </tr>\n",
              "    <tr>\n",
              "      <th>4</th>\n",
              "      <td>@user Wow,first Hugo Chavez and now Fidel Cast...</td>\n",
              "      <td>0</td>\n",
              "    </tr>\n",
              "  </tbody>\n",
              "</table>\n",
              "</div>"
            ],
            "text/plain": [
              "                                               Tweet  Sentiment\n",
              "0  @user @user what do these '1/2 naked pics' hav...          1\n",
              "1  OH: “I had a blue penis while I was this” [pla...          1\n",
              "2  @user @user That's coming, but I think the vic...          1\n",
              "3  I think I may be finally in with the in crowd ...          2\n",
              "4  @user Wow,first Hugo Chavez and now Fidel Cast...          0"
            ]
          },
          "metadata": {
            "tags": []
          },
          "execution_count": 29
        }
      ]
    },
    {
      "cell_type": "markdown",
      "metadata": {
        "id": "UFg3hjsICQo-"
      },
      "source": [
        "**Preprocessing the validation Dataset by treating Slangs,Expanding Contractions, Cleaning text by removing punctuations,urls,hashtags etc.,Removing Emojis, lemmatizing and Removing Stopwords**\n",
        "\n",
        "---\n",
        "\n"
      ]
    },
    {
      "cell_type": "code",
      "metadata": {
        "colab": {
          "base_uri": "https://localhost:8080/",
          "height": 106
        },
        "id": "ybGS7aBD-POz",
        "outputId": "e51b9b6d-1f8d-4867-985c-32ee69bb6295"
      },
      "source": [
        "df_test['Tweet'] = df_test['Tweet'].apply(lambda x:treat_slangs(x,slangs_dict))\n",
        "df_test.head(2)"
      ],
      "execution_count": null,
      "outputs": [
        {
          "output_type": "execute_result",
          "data": {
            "text/html": [
              "<div>\n",
              "<style scoped>\n",
              "    .dataframe tbody tr th:only-of-type {\n",
              "        vertical-align: middle;\n",
              "    }\n",
              "\n",
              "    .dataframe tbody tr th {\n",
              "        vertical-align: top;\n",
              "    }\n",
              "\n",
              "    .dataframe thead th {\n",
              "        text-align: right;\n",
              "    }\n",
              "</style>\n",
              "<table border=\"1\" class=\"dataframe\">\n",
              "  <thead>\n",
              "    <tr style=\"text-align: right;\">\n",
              "      <th></th>\n",
              "      <th>Tweet</th>\n",
              "      <th>Sentiment</th>\n",
              "    </tr>\n",
              "  </thead>\n",
              "  <tbody>\n",
              "    <tr>\n",
              "      <th>0</th>\n",
              "      <td>@user @user what do these '1/2 naked pics' hav...</td>\n",
              "      <td>1</td>\n",
              "    </tr>\n",
              "    <tr>\n",
              "      <th>1</th>\n",
              "      <td>OH: “I had a blue penis while I Wild *a* guess...</td>\n",
              "      <td>1</td>\n",
              "    </tr>\n",
              "  </tbody>\n",
              "</table>\n",
              "</div>"
            ],
            "text/plain": [
              "                                               Tweet  Sentiment\n",
              "0  @user @user what do these '1/2 naked pics' hav...          1\n",
              "1  OH: “I had a blue penis while I Wild *a* guess...          1"
            ]
          },
          "metadata": {
            "tags": []
          },
          "execution_count": 30
        }
      ]
    },
    {
      "cell_type": "code",
      "metadata": {
        "colab": {
          "base_uri": "https://localhost:8080/"
        },
        "id": "jdPw8Fry-Zw4",
        "outputId": "19d93c69-785b-4126-ecfb-21efe8b0a122"
      },
      "source": [
        "df_test['Tweet']=df_test['Tweet'].apply(lambda x:expand_contractions(x))\n",
        "df_test['Tweet'][0]"
      ],
      "execution_count": null,
      "outputs": [
        {
          "output_type": "execute_result",
          "data": {
            "application/vnd.google.colaboratory.intrinsic+json": {
              "type": "string"
            },
            "text/plain": [
              "\"@user @user what do these '1/2 naked pics' have to do with anything? They're not even like that.\""
            ]
          },
          "metadata": {
            "tags": []
          },
          "execution_count": 31
        }
      ]
    },
    {
      "cell_type": "code",
      "metadata": {
        "colab": {
          "base_uri": "https://localhost:8080/"
        },
        "id": "5PIN2IdR-ivj",
        "outputId": "a610d604-28a6-44b5-eccb-08ab08673895"
      },
      "source": [
        "df_test[\"Tweet\"]= df_test.Tweet.apply(lambda x: clean_text(x))\n",
        "df_test['Tweet'][0]"
      ],
      "execution_count": null,
      "outputs": [
        {
          "output_type": "execute_result",
          "data": {
            "application/vnd.google.colaboratory.intrinsic+json": {
              "type": "string"
            },
            "text/plain": [
              "'  what do these   naked pics have to do with anything theyre not even like that'"
            ]
          },
          "metadata": {
            "tags": []
          },
          "execution_count": 32
        }
      ]
    },
    {
      "cell_type": "code",
      "metadata": {
        "colab": {
          "base_uri": "https://localhost:8080/",
          "height": 35
        },
        "id": "xtBtKoVx-rIL",
        "outputId": "e077f3fd-c2ed-4f3a-e6ae-3327d3fba64a"
      },
      "source": [
        "df_test[\"Tweet\"]= df_test.Tweet.apply(lambda x: deEmojify(x))\n",
        "df_test['Tweet'][0]"
      ],
      "execution_count": null,
      "outputs": [
        {
          "output_type": "execute_result",
          "data": {
            "application/vnd.google.colaboratory.intrinsic+json": {
              "type": "string"
            },
            "text/plain": [
              "'  what do these   naked pics have to do with anything theyre not even like that'"
            ]
          },
          "metadata": {
            "tags": []
          },
          "execution_count": 33
        }
      ]
    },
    {
      "cell_type": "code",
      "metadata": {
        "colab": {
          "base_uri": "https://localhost:8080/",
          "height": 35
        },
        "id": "Op_TCB3--xP-",
        "outputId": "4c7637a7-daaf-4e6a-9391-850acab26202"
      },
      "source": [
        "df_test[\"Tweet\"]= df_test.Tweet.apply(lambda x: remove_stopwords(x))\n",
        "df_test['Tweet'][0]"
      ],
      "execution_count": null,
      "outputs": [
        {
          "output_type": "execute_result",
          "data": {
            "application/vnd.google.colaboratory.intrinsic+json": {
              "type": "string"
            },
            "text/plain": [
              "'naked pics anything theyre not even like'"
            ]
          },
          "metadata": {
            "tags": []
          },
          "execution_count": 34
        }
      ]
    },
    {
      "cell_type": "code",
      "metadata": {
        "colab": {
          "base_uri": "https://localhost:8080/"
        },
        "id": "uCZTcosQ-2P4",
        "outputId": "6ab0ccd3-11fa-4446-e3a5-2ba14969627f"
      },
      "source": [
        "df_test[\"Tweet\"]= df_test.Tweet.apply(lambda x: lemmatization(x))\n",
        "df_test['Tweet'][0]"
      ],
      "execution_count": null,
      "outputs": [
        {
          "output_type": "execute_result",
          "data": {
            "application/vnd.google.colaboratory.intrinsic+json": {
              "type": "string"
            },
            "text/plain": [
              "'naked pic anything theyre not even like'"
            ]
          },
          "metadata": {
            "tags": []
          },
          "execution_count": 35
        }
      ]
    },
    {
      "cell_type": "code",
      "metadata": {
        "colab": {
          "base_uri": "https://localhost:8080/"
        },
        "id": "wWz-k2Z8-7b2",
        "outputId": "174a2b8d-8a5d-4223-c466-6552f106a0a5"
      },
      "source": [
        "df_test[\"Sentiment\"].value_counts()"
      ],
      "execution_count": null,
      "outputs": [
        {
          "output_type": "execute_result",
          "data": {
            "text/plain": [
              "1    5937\n",
              "0    3972\n",
              "2    2375\n",
              "Name: Sentiment, dtype: int64"
            ]
          },
          "metadata": {
            "tags": []
          },
          "execution_count": 36
        }
      ]
    },
    {
      "cell_type": "code",
      "metadata": {
        "id": "YRN8cmJg_Asz"
      },
      "source": [
        "\n",
        "from sklearn.feature_extraction.text import TfidfVectorizer\n",
        "Xt = df_test['Tweet']\n",
        "tfidf = TfidfVectorizer()\n",
        "Xt= tfidf.fit_transform(Xt)\n",
        "yt = df_test.Sentiment\n"
      ],
      "execution_count": null,
      "outputs": []
    },
    {
      "cell_type": "code",
      "metadata": {
        "colab": {
          "base_uri": "https://localhost:8080/"
        },
        "id": "tjaCuHwn_HON",
        "outputId": "a7cf9628-4c58-4ea3-d5f0-7ec5cb25b2be"
      },
      "source": [
        "from sklearn.model_selection import train_test_split\n",
        "from sklearn.model_selection import GridSearchCV\n",
        "import time\n",
        "from sklearn import svm\n",
        "from sklearn.svm import SVC  \n",
        "from sklearn.metrics import classification_report\n",
        "\n",
        "\n",
        "X_traint, X_testt, y_traint, y_testt = train_test_split(Xt, yt, test_size=0.3, random_state=6)\n",
        "\n",
        "# defining parameter range\n",
        "param_grid = {'kernel':['rbf'] } \n",
        "\n",
        "grid = GridSearchCV(svm.SVC(C=10, gamma=0.1,random_state=0), param_grid,n_jobs=-1)\n",
        "  \n",
        "# fitting the model for grid search\n",
        "grid.fit(X_traint, y_traint)\n",
        "print(grid.best_params_)\n",
        "print(grid.best_estimator_)\n",
        "grid_predictions = grid.predict(X_testt)\n",
        "  \n",
        "# print classification report\n",
        "print(classification_report(y_testt, grid_predictions))"
      ],
      "execution_count": null,
      "outputs": [
        {
          "output_type": "stream",
          "text": [
            "{'kernel': 'rbf'}\n",
            "SVC(C=10, break_ties=False, cache_size=200, class_weight=None, coef0=0.0,\n",
            "    decision_function_shape='ovr', degree=3, gamma=0.1, kernel='rbf',\n",
            "    max_iter=-1, probability=False, random_state=0, shrinking=True, tol=0.001,\n",
            "    verbose=False)\n",
            "              precision    recall  f1-score   support\n",
            "\n",
            "           0       0.65      0.56      0.60      1243\n",
            "           1       0.59      0.73      0.65      1713\n",
            "           2       0.66      0.45      0.54       730\n",
            "\n",
            "    accuracy                           0.62      3686\n",
            "   macro avg       0.63      0.58      0.60      3686\n",
            "weighted avg       0.62      0.62      0.61      3686\n",
            "\n"
          ],
          "name": "stdout"
        }
      ]
    },
    {
      "cell_type": "code",
      "metadata": {
        "id": "6BgPx1Xr_hbN"
      },
      "source": [
        ""
      ],
      "execution_count": null,
      "outputs": []
    }
  ]
}