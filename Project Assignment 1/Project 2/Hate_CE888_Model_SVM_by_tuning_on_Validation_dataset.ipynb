{
  "nbformat": 4,
  "nbformat_minor": 0,
  "metadata": {
    "colab": {
      "name": "Hate_CE888_Model_SVM_by_tuning_on_Validation_dataset.ipynb",
      "provenance": [],
      "collapsed_sections": [],
      "include_colab_link": true
    },
    "kernelspec": {
      "display_name": "Python 3",
      "name": "python3"
    },
    "language_info": {
      "name": "python"
    }
  },
  "cells": [
    {
      "cell_type": "markdown",
      "metadata": {
        "id": "view-in-github",
        "colab_type": "text"
      },
      "source": [
        "<a href=\"https://colab.research.google.com/github/heerakesavan/CE888-Data-Science-and-Decision-making/blob/Master/Project%20Assignment%201/Project%202/Hate_CE888_Model_SVM_by_tuning_on_Validation_dataset.ipynb\" target=\"_parent\"><img src=\"https://colab.research.google.com/assets/colab-badge.svg\" alt=\"Open In Colab\"/></a>"
      ]
    },
    {
      "cell_type": "code",
      "metadata": {
        "id": "sMY72SN0Col9"
      },
      "source": [
        "import pandas as pd\n",
        "import numpy as np\n",
        "import matplotlib.pyplot as plt\n",
        "import seaborn as sns\n",
        "from sklearn.model_selection import train_test_split\n",
        "from sklearn.metrics import accuracy_score ,confusion_matrix\n",
        "import re\n",
        "import gensim\n",
        "from gensim import corpora\n",
        "import pickle\n",
        "from sklearn.feature_extraction.text import CountVectorizer,TfidfVectorizer\n",
        "from sklearn.feature_extraction import text \n",
        "import nltk\n",
        "import operator\n",
        "from nltk.corpus import stopwords\n",
        "from nltk.stem import WordNetLemmatizer,PorterStemmer\n",
        "from string import punctuation\n",
        "from nltk.tokenize import word_tokenize\n",
        "from collections import Counter\n",
        "import warnings\n",
        "warnings.filterwarnings(\"ignore\")\n",
        "from wordcloud import WordCloud\n",
        "%matplotlib inline\n",
        "                                                                                        "
      ],
      "execution_count": 1,
      "outputs": []
    },
    {
      "cell_type": "code",
      "metadata": {
        "colab": {
          "base_uri": "https://localhost:8080/",
          "height": 212
        },
        "id": "NPGyfHdADZwF",
        "outputId": "5fa7eba9-8e82-4def-814d-29ed992f44d1"
      },
      "source": [
        "df_train = pd.read_fwf('https://raw.githubusercontent.com/cardiffnlp/tweeteval/main/datasets/hate/train_text.txt', header=None)\n",
        "df_train.head()\n",
        "df_train.columns\n",
        "df_train.count\n",
        "df_train.isnull().sum()\n",
        "print(df_train.shape)\n",
        "df_train=df_train.rename(columns={0:\"Tweet\"})\n",
        "df_train.head()"
      ],
      "execution_count": 2,
      "outputs": [
        {
          "output_type": "stream",
          "text": [
            "(8993, 1)\n"
          ],
          "name": "stdout"
        },
        {
          "output_type": "execute_result",
          "data": {
            "text/html": [
              "<div>\n",
              "<style scoped>\n",
              "    .dataframe tbody tr th:only-of-type {\n",
              "        vertical-align: middle;\n",
              "    }\n",
              "\n",
              "    .dataframe tbody tr th {\n",
              "        vertical-align: top;\n",
              "    }\n",
              "\n",
              "    .dataframe thead th {\n",
              "        text-align: right;\n",
              "    }\n",
              "</style>\n",
              "<table border=\"1\" class=\"dataframe\">\n",
              "  <thead>\n",
              "    <tr style=\"text-align: right;\">\n",
              "      <th></th>\n",
              "      <th>Tweet</th>\n",
              "    </tr>\n",
              "  </thead>\n",
              "  <tbody>\n",
              "    <tr>\n",
              "      <th>0</th>\n",
              "      <td>@user nice new signage. Are you not concerned ...</td>\n",
              "    </tr>\n",
              "    <tr>\n",
              "      <th>1</th>\n",
              "      <td>A woman who you fucked multiple times saying y...</td>\n",
              "    </tr>\n",
              "    <tr>\n",
              "      <th>2</th>\n",
              "      <td>@user @user real talk do you have eyes or were...</td>\n",
              "    </tr>\n",
              "    <tr>\n",
              "      <th>3</th>\n",
              "      <td>your girlfriend lookin at me like a groupie in...</td>\n",
              "    </tr>\n",
              "    <tr>\n",
              "      <th>4</th>\n",
              "      <td>Hysterical woman like @user</td>\n",
              "    </tr>\n",
              "  </tbody>\n",
              "</table>\n",
              "</div>"
            ],
            "text/plain": [
              "                                               Tweet\n",
              "0  @user nice new signage. Are you not concerned ...\n",
              "1  A woman who you fucked multiple times saying y...\n",
              "2  @user @user real talk do you have eyes or were...\n",
              "3  your girlfriend lookin at me like a groupie in...\n",
              "4                        Hysterical woman like @user"
            ]
          },
          "metadata": {
            "tags": []
          },
          "execution_count": 2
        }
      ]
    },
    {
      "cell_type": "code",
      "metadata": {
        "colab": {
          "base_uri": "https://localhost:8080/",
          "height": 212
        },
        "id": "SuLIvoJ2DcNF",
        "outputId": "3de23bd3-5919-43f1-c7d7-9c3bd793fd04"
      },
      "source": [
        "df_train_labels=pd.read_fwf('https://raw.githubusercontent.com/cardiffnlp/tweeteval/main/datasets/hate/train_labels.txt', header=None)\n",
        "df_train_labels.head()\n",
        "print(df_train_labels.shape)\n",
        "df_train_labels=df_train_labels.rename(columns={0:\"Hate\"})\n",
        "df_train_labels.head()\n",
        "#same number of rows in train labels and train text"
      ],
      "execution_count": 3,
      "outputs": [
        {
          "output_type": "stream",
          "text": [
            "(9000, 1)\n"
          ],
          "name": "stdout"
        },
        {
          "output_type": "execute_result",
          "data": {
            "text/html": [
              "<div>\n",
              "<style scoped>\n",
              "    .dataframe tbody tr th:only-of-type {\n",
              "        vertical-align: middle;\n",
              "    }\n",
              "\n",
              "    .dataframe tbody tr th {\n",
              "        vertical-align: top;\n",
              "    }\n",
              "\n",
              "    .dataframe thead th {\n",
              "        text-align: right;\n",
              "    }\n",
              "</style>\n",
              "<table border=\"1\" class=\"dataframe\">\n",
              "  <thead>\n",
              "    <tr style=\"text-align: right;\">\n",
              "      <th></th>\n",
              "      <th>Hate</th>\n",
              "    </tr>\n",
              "  </thead>\n",
              "  <tbody>\n",
              "    <tr>\n",
              "      <th>0</th>\n",
              "      <td>0</td>\n",
              "    </tr>\n",
              "    <tr>\n",
              "      <th>1</th>\n",
              "      <td>1</td>\n",
              "    </tr>\n",
              "    <tr>\n",
              "      <th>2</th>\n",
              "      <td>1</td>\n",
              "    </tr>\n",
              "    <tr>\n",
              "      <th>3</th>\n",
              "      <td>1</td>\n",
              "    </tr>\n",
              "    <tr>\n",
              "      <th>4</th>\n",
              "      <td>0</td>\n",
              "    </tr>\n",
              "  </tbody>\n",
              "</table>\n",
              "</div>"
            ],
            "text/plain": [
              "   Hate\n",
              "0     0\n",
              "1     1\n",
              "2     1\n",
              "3     1\n",
              "4     0"
            ]
          },
          "metadata": {
            "tags": []
          },
          "execution_count": 3
        }
      ]
    },
    {
      "cell_type": "code",
      "metadata": {
        "colab": {
          "base_uri": "https://localhost:8080/",
          "height": 195
        },
        "id": "HwC3DnVwDfzo",
        "outputId": "56dcec68-4eaf-4278-ea34-b82bac358fb1"
      },
      "source": [
        "dfs=[df_train,df_train_labels]\n",
        "df=pd.concat(dfs, axis=1, join=\"inner\")\n",
        "dforg=df\n",
        "df.head()"
      ],
      "execution_count": 4,
      "outputs": [
        {
          "output_type": "execute_result",
          "data": {
            "text/html": [
              "<div>\n",
              "<style scoped>\n",
              "    .dataframe tbody tr th:only-of-type {\n",
              "        vertical-align: middle;\n",
              "    }\n",
              "\n",
              "    .dataframe tbody tr th {\n",
              "        vertical-align: top;\n",
              "    }\n",
              "\n",
              "    .dataframe thead th {\n",
              "        text-align: right;\n",
              "    }\n",
              "</style>\n",
              "<table border=\"1\" class=\"dataframe\">\n",
              "  <thead>\n",
              "    <tr style=\"text-align: right;\">\n",
              "      <th></th>\n",
              "      <th>Tweet</th>\n",
              "      <th>Hate</th>\n",
              "    </tr>\n",
              "  </thead>\n",
              "  <tbody>\n",
              "    <tr>\n",
              "      <th>0</th>\n",
              "      <td>@user nice new signage. Are you not concerned ...</td>\n",
              "      <td>0</td>\n",
              "    </tr>\n",
              "    <tr>\n",
              "      <th>1</th>\n",
              "      <td>A woman who you fucked multiple times saying y...</td>\n",
              "      <td>1</td>\n",
              "    </tr>\n",
              "    <tr>\n",
              "      <th>2</th>\n",
              "      <td>@user @user real talk do you have eyes or were...</td>\n",
              "      <td>1</td>\n",
              "    </tr>\n",
              "    <tr>\n",
              "      <th>3</th>\n",
              "      <td>your girlfriend lookin at me like a groupie in...</td>\n",
              "      <td>1</td>\n",
              "    </tr>\n",
              "    <tr>\n",
              "      <th>4</th>\n",
              "      <td>Hysterical woman like @user</td>\n",
              "      <td>0</td>\n",
              "    </tr>\n",
              "  </tbody>\n",
              "</table>\n",
              "</div>"
            ],
            "text/plain": [
              "                                               Tweet  Hate\n",
              "0  @user nice new signage. Are you not concerned ...     0\n",
              "1  A woman who you fucked multiple times saying y...     1\n",
              "2  @user @user real talk do you have eyes or were...     1\n",
              "3  your girlfriend lookin at me like a groupie in...     1\n",
              "4                        Hysterical woman like @user     0"
            ]
          },
          "metadata": {
            "tags": []
          },
          "execution_count": 4
        }
      ]
    },
    {
      "cell_type": "code",
      "metadata": {
        "colab": {
          "base_uri": "https://localhost:8080/",
          "height": 346
        },
        "id": "eZfYh6-aDrcb",
        "outputId": "a2c51a30-9959-4be3-e8b5-3d97355f7b38"
      },
      "source": [
        "# create countplot for Target column\n",
        "def createCP(df,x1):\n",
        "    sns.countplot(x = x1, data = df)\n",
        "    plt.title('Hate count plot')\n",
        "    plt.show()\n",
        "\n",
        "x = df.columns.tolist()[-1]   # last column is Target 'sentiment''\n",
        "createCP(df, \"Hate\")\n",
        "df[\"Hate\"].value_counts()"
      ],
      "execution_count": 5,
      "outputs": [
        {
          "output_type": "display_data",
          "data": {
            "image/png": "[encoded data removed]",
            "text/plain": [
              "<Figure size 432x288 with 1 Axes>"
            ]
          },
          "metadata": {
            "tags": [],
            "needs_background": "light"
          }
        },
        {
          "output_type": "execute_result",
          "data": {
            "text/plain": [
              "0    5213\n",
              "1    3780\n",
              "Name: Hate, dtype: int64"
            ]
          },
          "metadata": {
            "tags": []
          },
          "execution_count": 5
        }
      ]
    },
    {
      "cell_type": "code",
      "metadata": {
        "colab": {
          "base_uri": "https://localhost:8080/",
          "height": 290
        },
        "id": "F-mKyAEDEF3X",
        "outputId": "e61e476d-cd1a-40cb-c624-3cfad8bdec47"
      },
      "source": [
        "hate = [5213,3780]\n",
        "colors_list = ['gold', 'yellowgreen']\n",
        "my_labels = 'No Hate','Hate'\n",
        "plt.pie(hate,labels=my_labels,autopct='%1.1f%%',shadow=True,colors=colors_list)\n",
        "plt.title('Hate Distribution of Tweets', y=1.12) \n",
        "plt.axis('equal') \n",
        "plt.legend(labels=my_labels, loc='lower left') \n",
        "plt.axis('equal')\n",
        "plt.show()"
      ],
      "execution_count": 6,
      "outputs": [
        {
          "output_type": "display_data",
          "data": {
            "image/png": "[encoded data removed]",
            "text/plain": [
              "<Figure size 432x288 with 1 Axes>"
            ]
          },
          "metadata": {
            "tags": []
          }
        }
      ]
    },
    {
      "cell_type": "markdown",
      "metadata": {
        "id": "a0e0umyeWsNK"
      },
      "source": [
        "**Treat Slangs in Tweet**"
      ]
    },
    {
      "cell_type": "markdown",
      "metadata": {
        "id": "_BWS3RNCVG7A"
      },
      "source": [
        "In order to treat slangs in tweets used abreviations from this link and created slangsdf CSV File: https://www.webopedia.com/reference/text-abbreviations/"
      ]
    },
    {
      "cell_type": "code",
      "metadata": {
        "colab": {
          "base_uri": "https://localhost:8080/"
        },
        "id": "q-pU9h1ub-9F",
        "outputId": "0c63d3e3-0d2e-4553-bb88-9a46e6c855cf"
      },
      "source": [
        "from google.colab import drive\n",
        "drive.mount('/content/drive')"
      ],
      "execution_count": 7,
      "outputs": [
        {
          "output_type": "stream",
          "text": [
            "Drive already mounted at /content/drive; to attempt to forcibly remount, call drive.mount(\"/content/drive\", force_remount=True).\n"
          ],
          "name": "stdout"
        }
      ]
    },
    {
      "cell_type": "code",
      "metadata": {
        "colab": {
          "base_uri": "https://localhost:8080/",
          "height": 195
        },
        "id": "4ScwAWn3U0Xg",
        "outputId": "bae2e50d-3df3-47cc-ef40-feaf7af05781"
      },
      "source": [
        "slangs_df = pd.read_csv(\"/content/drive/MyDrive/Colab Notebooks/slangsdf.csv\")\n",
        "slangs_df.head()"
      ],
      "execution_count": 8,
      "outputs": [
        {
          "output_type": "execute_result",
          "data": {
            "text/html": [
              "<div>\n",
              "<style scoped>\n",
              "    .dataframe tbody tr th:only-of-type {\n",
              "        vertical-align: middle;\n",
              "    }\n",
              "\n",
              "    .dataframe tbody tr th {\n",
              "        vertical-align: top;\n",
              "    }\n",
              "\n",
              "    .dataframe thead th {\n",
              "        text-align: right;\n",
              "    }\n",
              "</style>\n",
              "<table border=\"1\" class=\"dataframe\">\n",
              "  <thead>\n",
              "    <tr style=\"text-align: right;\">\n",
              "      <th></th>\n",
              "      <th>Slangs</th>\n",
              "      <th>Fullforms</th>\n",
              "    </tr>\n",
              "  </thead>\n",
              "  <tbody>\n",
              "    <tr>\n",
              "      <th>0</th>\n",
              "      <td>?</td>\n",
              "      <td>I have a question</td>\n",
              "    </tr>\n",
              "    <tr>\n",
              "      <th>1</th>\n",
              "      <td>?</td>\n",
              "      <td>I don’t understand what you mean</td>\n",
              "    </tr>\n",
              "    <tr>\n",
              "      <th>2</th>\n",
              "      <td>?4U</td>\n",
              "      <td>I have a question for you</td>\n",
              "    </tr>\n",
              "    <tr>\n",
              "      <th>3</th>\n",
              "      <td>;S</td>\n",
              "      <td>Gentle warning, like “Hmm? What did you say?”</td>\n",
              "    </tr>\n",
              "    <tr>\n",
              "      <th>4</th>\n",
              "      <td>^^</td>\n",
              "      <td>Meaning “read line” or “read message” above</td>\n",
              "    </tr>\n",
              "  </tbody>\n",
              "</table>\n",
              "</div>"
            ],
            "text/plain": [
              "  Slangs                                      Fullforms\n",
              "0      ?                              I have a question\n",
              "1      ?               I don’t understand what you mean\n",
              "2    ?4U                      I have a question for you\n",
              "3     ;S  Gentle warning, like “Hmm? What did you say?”\n",
              "4     ^^    Meaning “read line” or “read message” above"
            ]
          },
          "metadata": {
            "tags": []
          },
          "execution_count": 8
        }
      ]
    },
    {
      "cell_type": "markdown",
      "metadata": {
        "id": "kWQeVVb2aAxo"
      },
      "source": [
        "**Treating Apostrophes/Contractions in Tweets**"
      ]
    },
    {
      "cell_type": "code",
      "metadata": {
        "colab": {
          "base_uri": "https://localhost:8080/",
          "height": 106
        },
        "id": "2px01JixWE2O",
        "outputId": "e4f241a3-cc48-4522-c4d8-a66351072b3b"
      },
      "source": [
        "def df_to_dict(df,df_dict):\n",
        "    for index,row in df.iterrows():\n",
        "        df_dict[row['Slangs']] = row['Fullforms']\n",
        "    return df_dict\n",
        "\n",
        "slangs_dict = {}\n",
        "slangs_dict = df_to_dict(slangs_df,slangs_dict)\n",
        "slangs_dict['PC'] = \"Personal Computer\"\n",
        "\n",
        "def treat_slangs(row,slang_dict):\n",
        "    words = row.split()\n",
        "    treated_row = []\n",
        "    reformed = []\n",
        "    for word in words:\n",
        "        if word.upper() in slang_dict.keys():\n",
        "            new_word = word.replace(word,slang_dict[word.upper()])\n",
        "            treated_row.append(new_word)\n",
        "        else:\n",
        "            treated_row.append(word)\n",
        "    reformed = \" \".join(treated_row)\n",
        "    return reformed\n",
        "df['Tweet'] = df['Tweet'].apply(lambda x:treat_slangs(x,slangs_dict))\n",
        "df.head(2)"
      ],
      "execution_count": 9,
      "outputs": [
        {
          "output_type": "execute_result",
          "data": {
            "text/html": [
              "<div>\n",
              "<style scoped>\n",
              "    .dataframe tbody tr th:only-of-type {\n",
              "        vertical-align: middle;\n",
              "    }\n",
              "\n",
              "    .dataframe tbody tr th {\n",
              "        vertical-align: top;\n",
              "    }\n",
              "\n",
              "    .dataframe thead th {\n",
              "        text-align: right;\n",
              "    }\n",
              "</style>\n",
              "<table border=\"1\" class=\"dataframe\">\n",
              "  <thead>\n",
              "    <tr style=\"text-align: right;\">\n",
              "      <th></th>\n",
              "      <th>Tweet</th>\n",
              "      <th>Hate</th>\n",
              "    </tr>\n",
              "  </thead>\n",
              "  <tbody>\n",
              "    <tr>\n",
              "      <th>0</th>\n",
              "      <td>@user nice new signage. Acronym rich environme...</td>\n",
              "      <td>0</td>\n",
              "    </tr>\n",
              "    <tr>\n",
              "      <th>1</th>\n",
              "      <td>A woman who you fucked multiple times saying y...</td>\n",
              "      <td>1</td>\n",
              "    </tr>\n",
              "  </tbody>\n",
              "</table>\n",
              "</div>"
            ],
            "text/plain": [
              "                                               Tweet  Hate\n",
              "0  @user nice new signage. Acronym rich environme...     0\n",
              "1  A woman who you fucked multiple times saying y...     1"
            ]
          },
          "metadata": {
            "tags": []
          },
          "execution_count": 9
        }
      ]
    },
    {
      "cell_type": "code",
      "metadata": {
        "colab": {
          "base_uri": "https://localhost:8080/",
          "height": 35
        },
        "id": "PIWAG5baZ4Wo",
        "outputId": "243f0921-b6aa-4d85-ef7a-d33c6fd6900f"
      },
      "source": [
        "# Dictionary of English Contractions\n",
        "contractions_dict = { \"ain't\": \"are not\",\"'s\":\" is\",\"aren't\": \"are not\",\n",
        "                     \"can't\": \"cannot\",\"can't've\": \"cannot have\",\n",
        "                     \"'cause\": \"because\",\"could've\": \"could have\",\"couldn't\": \"could not\",\n",
        "                     \"couldn't've\": \"could not have\", \"didn't\": \"did not\",\"doesn't\": \"does not\",\n",
        "                     \"don't\": \"do not\",\"hadn't\": \"had not\",\"hadn't've\": \"had not have\",\n",
        "                     \"hasn't\": \"has not\",\"haven't\": \"have not\",\"he'd\": \"he would\",\n",
        "                     \"he'd've\": \"he would have\",\"he'll\": \"he will\", \"he'll've\": \"he will have\",\n",
        "                     \"how'd\": \"how did\",\"how'd'y\": \"how do you\",\"how'll\": \"how will\",\n",
        "                     \"I'd\": \"I would\", \"I'd've\": \"I would have\",\"I'll\": \"I will\",\n",
        "                     \"I'll've\": \"I will have\",\"I'm\": \"I am\",\"I've\": \"I have\", \"isn't\": \"is not\",\n",
        "                     \"it'd\": \"it would\",\"it'd've\": \"it would have\",\"it'll\": \"it will\",\n",
        "                     \"it'll've\": \"it will have\", \"let's\": \"let us\",\"ma'am\": \"madam\",\n",
        "                     \"mayn't\": \"may not\",\"might've\": \"might have\",\"mightn't\": \"might not\", \n",
        "                     \"mightn't've\": \"might not have\",\"must've\": \"must have\",\"mustn't\": \"must not\",\n",
        "                     \"mustn't've\": \"must not have\", \"needn't\": \"need not\",\n",
        "                     \"needn't've\": \"need not have\",\"o'clock\": \"of the clock\",\"oughtn't\": \"ought not\",\n",
        "                     \"oughtn't've\": \"ought not have\",\"shan't\": \"shall not\",\"sha'n't\": \"shall not\",\n",
        "                     \"shan't've\": \"shall not have\",\"she'd\": \"she would\",\"she'd've\": \"she would have\",\n",
        "                     \"she'll\": \"she will\", \"she'll've\": \"she will have\",\"should've\": \"should have\",\n",
        "                     \"shouldn't\": \"should not\", \"shouldn't've\": \"should not have\",\"so've\": \"so have\",\n",
        "                     \"that'd\": \"that would\",\"that'd've\": \"that would have\", \"there'd\": \"there would\",\n",
        "                     \"there'd've\": \"there would have\", \"they'd\": \"they would\",\n",
        "                     \"they'd've\": \"they would have\",\"they'll\": \"they will\",\n",
        "                     \"they'll've\": \"they will have\", \"they're\": \"they are\",\"they've\": \"they have\",\n",
        "                     \"to've\": \"to have\",\"wasn't\": \"was not\",\"we'd\": \"we would\",\n",
        "                     \"we'd've\": \"we would have\",\"we'll\": \"we will\",\"we'll've\": \"we will have\",\n",
        "                     \"we're\": \"we are\",\"we've\": \"we have\", \"weren't\": \"were not\",\"what'll\": \"what will\",\n",
        "                     \"what'll've\": \"what will have\",\"what're\": \"what are\", \"what've\": \"what have\",\n",
        "                     \"when've\": \"when have\",\"where'd\": \"where did\", \"where've\": \"where have\",\n",
        "                     \"who'll\": \"who will\",\"who'll've\": \"who will have\",\"who've\": \"who have\",\n",
        "                     \"why've\": \"why have\",\"will've\": \"will have\",\"won't\": \"will not\",\n",
        "                     \"won't've\": \"will not have\", \"would've\": \"would have\",\"wouldn't\": \"would not\",\n",
        "                     \"wouldn't've\": \"would not have\",\"y'all\": \"you all\", \"y'all'd\": \"you all would\",\n",
        "                     \"y'all'd've\": \"you all would have\",\"y'all're\": \"you all are\",\n",
        "                     \"y'all've\": \"you all have\", \"you'd\": \"you would\",\"you'd've\": \"you would have\",\n",
        "                     \"you'll\": \"you will\",\"you'll've\": \"you will have\", \"you're\": \"you are\",\n",
        "                     \"you've\": \"you have\"}\n",
        "\n",
        "# Regular expression for finding contractions\n",
        "contractions_re=re.compile('(%s)' % '|'.join(contractions_dict.keys()))\n",
        "\n",
        "# Function for expanding contractions\n",
        "def expand_contractions(text,contractions_dict=contractions_dict):\n",
        "  def replace(match):\n",
        "    return contractions_dict[match.group(0)]\n",
        "  return contractions_re.sub(replace, text)\n",
        "\n",
        "# Expanding Contractions in the reviews\n",
        "df['Tweet']=df['Tweet'].apply(lambda x:expand_contractions(x))\n",
        "df.head(2)\n",
        "df['Tweet'][0]"
      ],
      "execution_count": 10,
      "outputs": [
        {
          "output_type": "execute_result",
          "data": {
            "application/vnd.google.colaboratory.intrinsic+json": {
              "type": "string"
            },
            "text/plain": [
              "'@user nice new signage. Acronym rich environment you not concerned by Beatlemania -style hysterical crowds crongregating on you…'"
            ]
          },
          "metadata": {
            "tags": []
          },
          "execution_count": 10
        }
      ]
    },
    {
      "cell_type": "markdown",
      "metadata": {
        "id": "mRoHu9PyaSf9"
      },
      "source": [
        "**Preprocessing tweets by removing punctuations,urls etc. and Converting to lowercase**"
      ]
    },
    {
      "cell_type": "code",
      "metadata": {
        "colab": {
          "base_uri": "https://localhost:8080/",
          "height": 35
        },
        "id": "MA7p1lUWJ0ef",
        "outputId": "61e8d823-d142-49b1-a861-78faf07c9662"
      },
      "source": [
        "import string\n",
        "def clean_text(text):\n",
        "    #convert the text to lower case\n",
        "    text = text.lower()\n",
        "    #remove @mention\n",
        "    text = re.sub(r'@\\w+', '', text)\n",
        "    #remove Link word\n",
        "    text = re.sub(\"{link}\",'',text)\n",
        "    #remove html tags\n",
        "    text = re.sub(\"&[\\w;]*\",' ',text)\n",
        "    #remove urls\n",
        "    text = re.sub(r'http.?://[^\\s]+[\\s]?',' ',text)\n",
        "    #remove RT\n",
        "    text = re.sub(r'(?i)\\bRT\\b','',text)\n",
        "    #remove content inside square brackets\n",
        "    text = re.sub('\\[.*?\\]', ' ', text)\n",
        "    #remove punctuation\n",
        "    text = re.sub('[%s]' % re.escape(string.punctuation), '', text)\n",
        "    #remove digits\n",
        "    text = re.sub('\\d+', ' ',text)\n",
        "    #remove new line character\n",
        "    text= re.sub('\\n', '', text)\n",
        "    return text\n",
        "df[\"Tweet\"]= df.Tweet.apply(lambda x: clean_text(x))\n",
        "df.Tweet.head(2)\n",
        "df['Tweet'][0]"
      ],
      "execution_count": 11,
      "outputs": [
        {
          "output_type": "execute_result",
          "data": {
            "application/vnd.google.colaboratory.intrinsic+json": {
              "type": "string"
            },
            "text/plain": [
              "' nice new signage acronym rich environment you not concerned by beatlemania style hysterical crowds crongregating on you…'"
            ]
          },
          "metadata": {
            "tags": []
          },
          "execution_count": 11
        }
      ]
    },
    {
      "cell_type": "markdown",
      "metadata": {
        "id": "WaVVgxesVyQR"
      },
      "source": [
        "**To remove Emojis, Referred code: https://stackoverflow.com/questions/33404752/removing-emojis-from-a-string-in-python**\n"
      ]
    },
    {
      "cell_type": "code",
      "metadata": {
        "colab": {
          "base_uri": "https://localhost:8080/",
          "height": 35
        },
        "id": "vg89jCd2RdBy",
        "outputId": "b5831099-be3e-4485-d4b2-76a36cad014e"
      },
      "source": [
        "def deEmojify(text):\n",
        "    regrex_pattern = re.compile(pattern = \"[\"\n",
        "        u\"\\U0001F600-\\U0001F64F\"  # emoticons\n",
        "        u\"\\U0001F300-\\U0001F5FF\"  # symbols & pictographs\n",
        "        u\"\\U0001F680-\\U0001F6FF\"  # transport & map symbols\n",
        "        u\"\\U0001F1E0-\\U0001F1FF\"  # flags (iOS)\n",
        "                           \"]+\", flags = re.UNICODE)\n",
        "    return regrex_pattern.sub(r'',text)\n",
        "\n",
        "df[\"Tweet\"]= df.Tweet.apply(lambda x: deEmojify(x))\n",
        "df.Tweet.head(2)\n",
        "df['Tweet'][0]"
      ],
      "execution_count": 12,
      "outputs": [
        {
          "output_type": "execute_result",
          "data": {
            "application/vnd.google.colaboratory.intrinsic+json": {
              "type": "string"
            },
            "text/plain": [
              "' nice new signage acronym rich environment you not concerned by beatlemania style hysterical crowds crongregating on you…'"
            ]
          },
          "metadata": {
            "tags": []
          },
          "execution_count": 12
        }
      ]
    },
    {
      "cell_type": "markdown",
      "metadata": {
        "id": "I7xGfCvId7vN"
      },
      "source": [
        "**Remove StopWords**"
      ]
    },
    {
      "cell_type": "code",
      "metadata": {
        "colab": {
          "base_uri": "https://localhost:8080/",
          "height": 69
        },
        "id": "chSEZ0LeR8w5",
        "outputId": "435ed383-ffd3-4c82-f7a0-594f35eebca7"
      },
      "source": [
        "import nltk\n",
        "nltk.download('stopwords')\n",
        "def remove_stopwords(input_text):\n",
        "        stopwords_list = stopwords.words('english')\n",
        "        # Some words which might indicate a certain sentiment are kept via a whitelist\n",
        "        whitelist = [\"n't\", \"not\", \"no\"]\n",
        "        words = input_text.split() \n",
        "        clean_words = [word for word in words if (word not in stopwords_list or word in whitelist) and len(word) > 1] \n",
        "        return \" \".join(clean_words)\n",
        "df[\"Tweet\"]= df.Tweet.apply(lambda x: remove_stopwords(x))\n",
        "df.Tweet.head(2)\n",
        "df['Tweet'][0]"
      ],
      "execution_count": 13,
      "outputs": [
        {
          "output_type": "stream",
          "text": [
            "[nltk_data] Downloading package stopwords to /root/nltk_data...\n",
            "[nltk_data]   Package stopwords is already up-to-date!\n"
          ],
          "name": "stdout"
        },
        {
          "output_type": "execute_result",
          "data": {
            "application/vnd.google.colaboratory.intrinsic+json": {
              "type": "string"
            },
            "text/plain": [
              "'nice new signage acronym rich environment not concerned beatlemania style hysterical crowds crongregating you…'"
            ]
          },
          "metadata": {
            "tags": []
          },
          "execution_count": 13
        }
      ]
    },
    {
      "cell_type": "markdown",
      "metadata": {
        "id": "JhdtcUEBgjVF"
      },
      "source": [
        "**Lemmatization**"
      ]
    },
    {
      "cell_type": "code",
      "metadata": {
        "colab": {
          "base_uri": "https://localhost:8080/",
          "height": 69
        },
        "id": "3-2rhyI9fKWf",
        "outputId": "eaaf1f97-1a46-4da2-8eab-09b4d45fe1da"
      },
      "source": [
        "nltk.download('wordnet')\n",
        "from nltk.corpus import wordnet\n",
        "from nltk.stem import WordNetLemmatizer\n",
        "def lemmatization(input_text):\n",
        "        words = input_text.split() \n",
        "        lemma = WordNetLemmatizer()\n",
        "        lemma_words = [lemma.lemmatize(i) for i in words]\n",
        "        return \" \".join(lemma_words)\n",
        "df[\"Tweet\"]= df.Tweet.apply(lambda x: lemmatization(x))\n",
        "df.Tweet.head(2)\n",
        "df['Tweet'][0]"
      ],
      "execution_count": 14,
      "outputs": [
        {
          "output_type": "stream",
          "text": [
            "[nltk_data] Downloading package wordnet to /root/nltk_data...\n",
            "[nltk_data]   Package wordnet is already up-to-date!\n"
          ],
          "name": "stdout"
        },
        {
          "output_type": "execute_result",
          "data": {
            "application/vnd.google.colaboratory.intrinsic+json": {
              "type": "string"
            },
            "text/plain": [
              "'nice new signage acronym rich environment not concerned beatlemania style hysterical crowd crongregating you…'"
            ]
          },
          "metadata": {
            "tags": []
          },
          "execution_count": 14
        }
      ]
    },
    {
      "cell_type": "markdown",
      "metadata": {
        "id": "3gIbfUnpjty9"
      },
      "source": [
        "**SMOTE for Sampling Imbalanced Dataset and using TF-IDF Vectorizer for text**"
      ]
    },
    {
      "cell_type": "code",
      "metadata": {
        "id": "Pd0GDlocjsCr"
      },
      "source": [
        "from sklearn.feature_extraction.text import TfidfVectorizer\n",
        "X = df['Tweet']\n",
        "tfidf = TfidfVectorizer()\n",
        "X = tfidf.fit_transform(X)\n",
        "y = df.Hate\n"
      ],
      "execution_count": 15,
      "outputs": []
    },
    {
      "cell_type": "markdown",
      "metadata": {
        "id": "jnfa_x9FhQ3z"
      },
      "source": [
        "**SVM Classification Train Dataset**"
      ]
    },
    {
      "cell_type": "code",
      "metadata": {
        "id": "2IyBeUXhebxm",
        "colab": {
          "base_uri": "https://localhost:8080/"
        },
        "outputId": "1948fe69-a2e1-46ee-cbae-ea1740d3f6ff"
      },
      "source": [
        "from sklearn.model_selection import train_test_split\n",
        "from sklearn.model_selection import GridSearchCV\n",
        "import time\n",
        "from sklearn import svm\n",
        "from sklearn.svm import SVC  \n",
        "from sklearn.metrics import classification_report\n",
        "\n",
        "\n",
        "X_train, X_test, y_train, y_test = train_test_split(X,y, test_size=0.3, random_state=6)\n",
        "\n",
        "# defining parameter range\n",
        "param_grid = {'kernel':['rbf'] } \n",
        "  \n",
        "grid = GridSearchCV(svm.SVC(random_state=0), param_grid,verbose=1,n_jobs=-1)\n",
        "  \n",
        "# fitting the model for grid search\n",
        "grid.fit(X_train, y_train)\n",
        "print(grid.best_params_)\n",
        "print(grid.best_estimator_)\n",
        "grid_predictions = grid.predict(X_test)\n",
        "  \n",
        "# print classification report\n",
        "print(classification_report(y_test, grid_predictions))\n"
      ],
      "execution_count": 16,
      "outputs": [
        {
          "output_type": "stream",
          "text": [
            "Fitting 5 folds for each of 1 candidates, totalling 5 fits\n"
          ],
          "name": "stdout"
        },
        {
          "output_type": "stream",
          "text": [
            "[Parallel(n_jobs=-1)]: Using backend LokyBackend with 2 concurrent workers.\n",
            "[Parallel(n_jobs=-1)]: Done   5 out of   5 | elapsed:   21.4s finished\n"
          ],
          "name": "stderr"
        },
        {
          "output_type": "stream",
          "text": [
            "{'kernel': 'rbf'}\n",
            "SVC(C=1.0, break_ties=False, cache_size=200, class_weight=None, coef0=0.0,\n",
            "    decision_function_shape='ovr', degree=3, gamma='scale', kernel='rbf',\n",
            "    max_iter=-1, probability=False, random_state=0, shrinking=True, tol=0.001,\n",
            "    verbose=False)\n",
            "              precision    recall  f1-score   support\n",
            "\n",
            "           0       0.58      0.91      0.71      1550\n",
            "           1       0.44      0.09      0.15      1148\n",
            "\n",
            "    accuracy                           0.56      2698\n",
            "   macro avg       0.51      0.50      0.43      2698\n",
            "weighted avg       0.52      0.56      0.47      2698\n",
            "\n"
          ],
          "name": "stdout"
        }
      ]
    },
    {
      "cell_type": "markdown",
      "metadata": {
        "id": "1tORB7qIALfv"
      },
      "source": [
        "**Validation Dataset**\n",
        "\n",
        "\n"
      ]
    },
    {
      "cell_type": "code",
      "metadata": {
        "colab": {
          "base_uri": "https://localhost:8080/",
          "height": 262
        },
        "id": "iQgrXleV4M59",
        "outputId": "0232f1cb-0a50-4481-8135-77c252ad3fc0"
      },
      "source": [
        "#Loading Val Dataset\n",
        "df_val1 = pd.read_fwf('https://raw.githubusercontent.com/cardiffnlp/tweeteval/main/datasets/hate/val_text.txt', header=None)\n",
        "df_val1.head()\n",
        "df_val1.columns\n",
        "df_val1.count\n",
        "print(df_val1.isnull().sum())\n",
        "print(df_val1.shape)\n",
        "df_val1=df_val1.rename(columns={0:\"Tweet\"})\n",
        "df_val1.head()\n",
        "df_val_labels=pd.read_fwf('https://raw.githubusercontent.com/cardiffnlp/tweeteval/main/datasets/hate/val_labels.txt', header=None)\n",
        "df_val_labels.head()\n",
        "print(df_val_labels.shape)\n",
        "df_val_labels=df_val_labels.rename(columns={0:\"Hate\"})\n",
        "df_val_labels.head()\n",
        "dfs=[df_val1,df_val_labels]\n",
        "df_val=pd.concat(dfs, axis=1, join=\"inner\")\n",
        "dfv=df_val\n",
        "df_val.head()"
      ],
      "execution_count": 17,
      "outputs": [
        {
          "output_type": "stream",
          "text": [
            "0    0\n",
            "dtype: int64\n",
            "(999, 1)\n",
            "(1000, 1)\n"
          ],
          "name": "stdout"
        },
        {
          "output_type": "execute_result",
          "data": {
            "text/html": [
              "<div>\n",
              "<style scoped>\n",
              "    .dataframe tbody tr th:only-of-type {\n",
              "        vertical-align: middle;\n",
              "    }\n",
              "\n",
              "    .dataframe tbody tr th {\n",
              "        vertical-align: top;\n",
              "    }\n",
              "\n",
              "    .dataframe thead th {\n",
              "        text-align: right;\n",
              "    }\n",
              "</style>\n",
              "<table border=\"1\" class=\"dataframe\">\n",
              "  <thead>\n",
              "    <tr style=\"text-align: right;\">\n",
              "      <th></th>\n",
              "      <th>Tweet</th>\n",
              "      <th>Hate</th>\n",
              "    </tr>\n",
              "  </thead>\n",
              "  <tbody>\n",
              "    <tr>\n",
              "      <th>0</th>\n",
              "      <td>@user @user If book Claire wanted to \"stay in ...</td>\n",
              "      <td>0</td>\n",
              "    </tr>\n",
              "    <tr>\n",
              "      <th>1</th>\n",
              "      <td>After arriving in the EU refugees make protest...</td>\n",
              "      <td>0</td>\n",
              "    </tr>\n",
              "    <tr>\n",
              "      <th>2</th>\n",
              "      <td>😳👇</td>\n",
              "      <td>0</td>\n",
              "    </tr>\n",
              "    <tr>\n",
              "      <th>3</th>\n",
              "      <td>@user Worst thing is if they are that stupid t...</td>\n",
              "      <td>1</td>\n",
              "    </tr>\n",
              "    <tr>\n",
              "      <th>4</th>\n",
              "      <td>@user Say's the HYSTERICAL woman. It is woman ...</td>\n",
              "      <td>0</td>\n",
              "    </tr>\n",
              "  </tbody>\n",
              "</table>\n",
              "</div>"
            ],
            "text/plain": [
              "                                               Tweet  Hate\n",
              "0  @user @user If book Claire wanted to \"stay in ...     0\n",
              "1  After arriving in the EU refugees make protest...     0\n",
              "2                                                 😳👇     0\n",
              "3  @user Worst thing is if they are that stupid t...     1\n",
              "4  @user Say's the HYSTERICAL woman. It is woman ...     0"
            ]
          },
          "metadata": {
            "tags": []
          },
          "execution_count": 17
        }
      ]
    },
    {
      "cell_type": "markdown",
      "metadata": {
        "id": "sK64JaL9AwZm"
      },
      "source": [
        "**Preprocessing the validation Dataset by treating Slangs,Expanding Contractions, Cleaning text by removing punctuations,urls,hashtags etc.,Removing Emojis, lemmatizing and Removing Stopwords**\n",
        "\n",
        "---\n",
        "\n"
      ]
    },
    {
      "cell_type": "code",
      "metadata": {
        "colab": {
          "base_uri": "https://localhost:8080/",
          "height": 106
        },
        "id": "tHGHGWgV5P9m",
        "outputId": "e218e358-9b3b-4e84-b234-0c214ff91232"
      },
      "source": [
        "df_val['Tweet'] = df_val['Tweet'].apply(lambda x:treat_slangs(x,slangs_dict))\n",
        "df_val.head(2)"
      ],
      "execution_count": 18,
      "outputs": [
        {
          "output_type": "execute_result",
          "data": {
            "text/html": [
              "<div>\n",
              "<style scoped>\n",
              "    .dataframe tbody tr th:only-of-type {\n",
              "        vertical-align: middle;\n",
              "    }\n",
              "\n",
              "    .dataframe tbody tr th {\n",
              "        vertical-align: top;\n",
              "    }\n",
              "\n",
              "    .dataframe thead th {\n",
              "        text-align: right;\n",
              "    }\n",
              "</style>\n",
              "<table border=\"1\" class=\"dataframe\">\n",
              "  <thead>\n",
              "    <tr style=\"text-align: right;\">\n",
              "      <th></th>\n",
              "      <th>Tweet</th>\n",
              "      <th>Hate</th>\n",
              "    </tr>\n",
              "  </thead>\n",
              "  <tbody>\n",
              "    <tr>\n",
              "      <th>0</th>\n",
              "      <td>@user @user If book Claire wanted to \"stay in ...</td>\n",
              "      <td>0</td>\n",
              "    </tr>\n",
              "    <tr>\n",
              "      <th>1</th>\n",
              "      <td>After arriving in the EU refugees make protest...</td>\n",
              "      <td>0</td>\n",
              "    </tr>\n",
              "  </tbody>\n",
              "</table>\n",
              "</div>"
            ],
            "text/plain": [
              "                                               Tweet  Hate\n",
              "0  @user @user If book Claire wanted to \"stay in ...     0\n",
              "1  After arriving in the EU refugees make protest...     0"
            ]
          },
          "metadata": {
            "tags": []
          },
          "execution_count": 18
        }
      ]
    },
    {
      "cell_type": "code",
      "metadata": {
        "colab": {
          "base_uri": "https://localhost:8080/",
          "height": 52
        },
        "id": "pp2A7nb15-rn",
        "outputId": "b82f0533-2c00-4a5a-df64-668211ea5aba"
      },
      "source": [
        "df_val['Tweet']=df_val['Tweet'].apply(lambda x:expand_contractions(x))\n",
        "df_val['Tweet'][0]"
      ],
      "execution_count": 19,
      "outputs": [
        {
          "output_type": "execute_result",
          "data": {
            "application/vnd.google.colaboratory.intrinsic+json": {
              "type": "string"
            },
            "text/plain": [
              "'@user @user If book Claire wanted to \"stay in the kitchen cooking for her man,\" she would have stayed in Inverness while Frank did his research, and the Outlander series would have ended up being less than two chapters long. Perhaps that is what you want, but I prefer the story that Whatever did get.'"
            ]
          },
          "metadata": {
            "tags": []
          },
          "execution_count": 19
        }
      ]
    },
    {
      "cell_type": "code",
      "metadata": {
        "colab": {
          "base_uri": "https://localhost:8080/",
          "height": 52
        },
        "id": "9kur5c6a6eHz",
        "outputId": "30a77eaf-010b-4010-83d8-dd227f94951d"
      },
      "source": [
        "df_val[\"Tweet\"]= df_val.Tweet.apply(lambda x: clean_text(x))\n",
        "df_val['Tweet'][0]"
      ],
      "execution_count": 20,
      "outputs": [
        {
          "output_type": "execute_result",
          "data": {
            "application/vnd.google.colaboratory.intrinsic+json": {
              "type": "string"
            },
            "text/plain": [
              "'  if book claire wanted to stay in the kitchen cooking for her man she would have stayed in inverness while frank did his research and the outlander series would have ended up being less than two chapters long perhaps that is what you want but i prefer the story that whatever did get'"
            ]
          },
          "metadata": {
            "tags": []
          },
          "execution_count": 20
        }
      ]
    },
    {
      "cell_type": "code",
      "metadata": {
        "colab": {
          "base_uri": "https://localhost:8080/",
          "height": 52
        },
        "id": "B9H8Izng6lf0",
        "outputId": "21bd7080-2ef2-44ba-98fb-cfc09bbb525e"
      },
      "source": [
        "df_val[\"Tweet\"]= df_val.Tweet.apply(lambda x: deEmojify(x))\n",
        "df_val['Tweet'][0]"
      ],
      "execution_count": 21,
      "outputs": [
        {
          "output_type": "execute_result",
          "data": {
            "application/vnd.google.colaboratory.intrinsic+json": {
              "type": "string"
            },
            "text/plain": [
              "'  if book claire wanted to stay in the kitchen cooking for her man she would have stayed in inverness while frank did his research and the outlander series would have ended up being less than two chapters long perhaps that is what you want but i prefer the story that whatever did get'"
            ]
          },
          "metadata": {
            "tags": []
          },
          "execution_count": 21
        }
      ]
    },
    {
      "cell_type": "code",
      "metadata": {
        "colab": {
          "base_uri": "https://localhost:8080/",
          "height": 35
        },
        "id": "3Dqpas3B645d",
        "outputId": "07d68590-0a83-4c08-ccbb-1cf9897361a5"
      },
      "source": [
        "df_val[\"Tweet\"]= df_val.Tweet.apply(lambda x: remove_stopwords(x))\n",
        "df_val['Tweet'][0]"
      ],
      "execution_count": 22,
      "outputs": [
        {
          "output_type": "execute_result",
          "data": {
            "application/vnd.google.colaboratory.intrinsic+json": {
              "type": "string"
            },
            "text/plain": [
              "'book claire wanted stay kitchen cooking man would stayed inverness frank research outlander series would ended less two chapters long perhaps want prefer story whatever get'"
            ]
          },
          "metadata": {
            "tags": []
          },
          "execution_count": 22
        }
      ]
    },
    {
      "cell_type": "code",
      "metadata": {
        "colab": {
          "base_uri": "https://localhost:8080/",
          "height": 35
        },
        "id": "LG0tz_Hi7D6E",
        "outputId": "a923cc4e-6b77-422f-da2a-d31248409e0b"
      },
      "source": [
        "df_val[\"Tweet\"]= df_val.Tweet.apply(lambda x: lemmatization(x))\n",
        "df_val['Tweet'][0]"
      ],
      "execution_count": 23,
      "outputs": [
        {
          "output_type": "execute_result",
          "data": {
            "application/vnd.google.colaboratory.intrinsic+json": {
              "type": "string"
            },
            "text/plain": [
              "'book claire wanted stay kitchen cooking man would stayed inverness frank research outlander series would ended le two chapter long perhaps want prefer story whatever get'"
            ]
          },
          "metadata": {
            "tags": []
          },
          "execution_count": 23
        }
      ]
    },
    {
      "cell_type": "code",
      "metadata": {
        "colab": {
          "base_uri": "https://localhost:8080/"
        },
        "id": "gAKgLZjl7M6f",
        "outputId": "374c82da-7ecd-48de-e958-14fdf714c05a"
      },
      "source": [
        "df_val[\"Hate\"].value_counts()"
      ],
      "execution_count": 24,
      "outputs": [
        {
          "output_type": "execute_result",
          "data": {
            "text/plain": [
              "0    572\n",
              "1    427\n",
              "Name: Hate, dtype: int64"
            ]
          },
          "metadata": {
            "tags": []
          },
          "execution_count": 24
        }
      ]
    },
    {
      "cell_type": "markdown",
      "metadata": {
        "id": "RdMhu_7qBXkA"
      },
      "source": [
        "**Treating Imbalanced data using SMOTE**"
      ]
    },
    {
      "cell_type": "code",
      "metadata": {
        "id": "G7w1E5nS7TH2"
      },
      "source": [
        "from imblearn.over_sampling import SMOTE,RandomOverSampler\n",
        "from sklearn.feature_extraction.text import TfidfVectorizer\n",
        "Xv = df_val['Tweet']\n",
        "tfidf = TfidfVectorizer()\n",
        "Xv= tfidf.fit_transform(Xv)\n",
        "yv = df_val.Hate\n",
        "\n"
      ],
      "execution_count": 25,
      "outputs": []
    },
    {
      "cell_type": "markdown",
      "metadata": {
        "id": "cXxyy3E1Bf79"
      },
      "source": [
        "**Hyperparameter tuning on Validation Dataset**"
      ]
    },
    {
      "cell_type": "code",
      "metadata": {
        "colab": {
          "base_uri": "https://localhost:8080/"
        },
        "id": "YeGop3YA78k2",
        "outputId": "2bf107da-7c32-412f-e794-a5e9420d5b0f"
      },
      "source": [
        "from sklearn.model_selection import train_test_split\n",
        "from sklearn.model_selection import GridSearchCV\n",
        "import time\n",
        "from sklearn import svm\n",
        "from sklearn.svm import SVC  \n",
        "from sklearn.metrics import classification_report\n",
        "\n",
        "\n",
        "X_trainv, X_testv, y_trainv, y_testv = train_test_split(Xv, yv, test_size=0.3, random_state=6)\n",
        "\n",
        "# defining parameter range\n",
        "param_grid = {'C': [0,0.01,0.1,0.8,1,1.2,10], \n",
        "              'gamma': [1, 0.1, 0.01, 0.001, 0.0001],\n",
        "              'kernel':['rbf'] } \n",
        "  \n",
        "grid = GridSearchCV(svm.SVC(random_state=0), param_grid,verbose=1,n_jobs=-1,cv = 10)\n",
        "  \n",
        "# fitting the model for grid search\n",
        "grid.fit(X_trainv, y_trainv)\n",
        "print(grid.best_params_)\n",
        "print(grid.best_estimator_)\n",
        "grid_predictions = grid.predict(X_testv)\n",
        "  \n",
        "# print classification report\n",
        "print(classification_report(y_testv, grid_predictions))"
      ],
      "execution_count": 26,
      "outputs": [
        {
          "output_type": "stream",
          "text": [
            "Fitting 10 folds for each of 35 candidates, totalling 350 fits\n"
          ],
          "name": "stdout"
        },
        {
          "output_type": "stream",
          "text": [
            "[Parallel(n_jobs=-1)]: Using backend LokyBackend with 2 concurrent workers.\n",
            "[Parallel(n_jobs=-1)]: Done 204 tasks      | elapsed:    8.5s\n"
          ],
          "name": "stderr"
        },
        {
          "output_type": "stream",
          "text": [
            "{'C': 0.8, 'gamma': 1, 'kernel': 'rbf'}\n",
            "SVC(C=0.8, break_ties=False, cache_size=200, class_weight=None, coef0=0.0,\n",
            "    decision_function_shape='ovr', degree=3, gamma=1, kernel='rbf', max_iter=-1,\n",
            "    probability=False, random_state=0, shrinking=True, tol=0.001,\n",
            "    verbose=False)\n",
            "              precision    recall  f1-score   support\n",
            "\n",
            "           0       0.56      1.00      0.72       168\n",
            "           1       1.00      0.01      0.02       132\n",
            "\n",
            "    accuracy                           0.56       300\n",
            "   macro avg       0.78      0.50      0.37       300\n",
            "weighted avg       0.75      0.56      0.41       300\n",
            "\n"
          ],
          "name": "stdout"
        },
        {
          "output_type": "stream",
          "text": [
            "[Parallel(n_jobs=-1)]: Done 350 out of 350 | elapsed:   16.7s finished\n"
          ],
          "name": "stderr"
        }
      ]
    },
    {
      "cell_type": "markdown",
      "metadata": {
        "id": "eyE4fA_UB6bj"
      },
      "source": [
        "**Loading Test Data**"
      ]
    },
    {
      "cell_type": "code",
      "metadata": {
        "colab": {
          "base_uri": "https://localhost:8080/",
          "height": 262
        },
        "id": "21oab7SX9InQ",
        "outputId": "3c6c4f00-d4c2-47fa-9909-a176a46edf26"
      },
      "source": [
        "#Loading Test Dataset\n",
        "df_test1 = pd.read_fwf('https://raw.githubusercontent.com/cardiffnlp/tweeteval/main/datasets/hate/test_text.txt', header=None)\n",
        "df_test1.head()\n",
        "df_test1.columns\n",
        "df_test1.count\n",
        "print(df_test1.isnull().sum())\n",
        "print(df_test1.shape)\n",
        "df_test1=df_test1.rename(columns={0:\"Tweet\"})\n",
        "df_test1.head()\n",
        "df_test_labels=pd.read_fwf('https://raw.githubusercontent.com/cardiffnlp/tweeteval/main/datasets/hate/test_labels.txt', header=None)\n",
        "df_test_labels.head()\n",
        "print(df_test_labels.shape)\n",
        "df_test_labels=df_test_labels.rename(columns={0:\"Hate\"})\n",
        "df_test_labels.head()\n",
        "dfs=[df_test1,df_test_labels]\n",
        "df_test=pd.concat(dfs, axis=1, join=\"inner\")\n",
        "dft=df_test\n",
        "df_test.head()"
      ],
      "execution_count": 27,
      "outputs": [
        {
          "output_type": "stream",
          "text": [
            "0    0\n",
            "dtype: int64\n",
            "(2970, 1)\n",
            "(2970, 1)\n"
          ],
          "name": "stdout"
        },
        {
          "output_type": "execute_result",
          "data": {
            "text/html": [
              "<div>\n",
              "<style scoped>\n",
              "    .dataframe tbody tr th:only-of-type {\n",
              "        vertical-align: middle;\n",
              "    }\n",
              "\n",
              "    .dataframe tbody tr th {\n",
              "        vertical-align: top;\n",
              "    }\n",
              "\n",
              "    .dataframe thead th {\n",
              "        text-align: right;\n",
              "    }\n",
              "</style>\n",
              "<table border=\"1\" class=\"dataframe\">\n",
              "  <thead>\n",
              "    <tr style=\"text-align: right;\">\n",
              "      <th></th>\n",
              "      <th>Tweet</th>\n",
              "      <th>Hate</th>\n",
              "    </tr>\n",
              "  </thead>\n",
              "  <tbody>\n",
              "    <tr>\n",
              "      <th>0</th>\n",
              "      <td>@user , you are correct that Reid certainly is...</td>\n",
              "      <td>0</td>\n",
              "    </tr>\n",
              "    <tr>\n",
              "      <th>1</th>\n",
              "      <td>Whoever just unfollowed me you a bitch</td>\n",
              "      <td>1</td>\n",
              "    </tr>\n",
              "    <tr>\n",
              "      <th>2</th>\n",
              "      <td>@user @user Those People Invaded Us!!! They DO...</td>\n",
              "      <td>1</td>\n",
              "    </tr>\n",
              "    <tr>\n",
              "      <th>3</th>\n",
              "      <td>stop JUDGING bitches by there cover, jus cuz s...</td>\n",
              "      <td>1</td>\n",
              "    </tr>\n",
              "    <tr>\n",
              "      <th>4</th>\n",
              "      <td>how about i knock heads off and send them gift...</td>\n",
              "      <td>1</td>\n",
              "    </tr>\n",
              "  </tbody>\n",
              "</table>\n",
              "</div>"
            ],
            "text/plain": [
              "                                               Tweet  Hate\n",
              "0  @user , you are correct that Reid certainly is...     0\n",
              "1             Whoever just unfollowed me you a bitch     1\n",
              "2  @user @user Those People Invaded Us!!! They DO...     1\n",
              "3  stop JUDGING bitches by there cover, jus cuz s...     1\n",
              "4  how about i knock heads off and send them gift...     1"
            ]
          },
          "metadata": {
            "tags": []
          },
          "execution_count": 27
        }
      ]
    },
    {
      "cell_type": "markdown",
      "metadata": {
        "id": "UFg3hjsICQo-"
      },
      "source": [
        "**Preprocessing the validation Dataset by treating Slangs,Expanding Contractions, Cleaning text by removing punctuations,urls,hashtags etc.,Removing Emojis, lemmatizing and Removing Stopwords**\n",
        "\n",
        "---\n",
        "\n"
      ]
    },
    {
      "cell_type": "code",
      "metadata": {
        "colab": {
          "base_uri": "https://localhost:8080/",
          "height": 106
        },
        "id": "ybGS7aBD-POz",
        "outputId": "d0fbd716-fcc2-4a00-f704-28a83f55dbe8"
      },
      "source": [
        "df_test['Tweet'] = df_test['Tweet'].apply(lambda x:treat_slangs(x,slangs_dict))\n",
        "df_test.head(2)"
      ],
      "execution_count": 28,
      "outputs": [
        {
          "output_type": "execute_result",
          "data": {
            "text/html": [
              "<div>\n",
              "<style scoped>\n",
              "    .dataframe tbody tr th:only-of-type {\n",
              "        vertical-align: middle;\n",
              "    }\n",
              "\n",
              "    .dataframe tbody tr th {\n",
              "        vertical-align: top;\n",
              "    }\n",
              "\n",
              "    .dataframe thead th {\n",
              "        text-align: right;\n",
              "    }\n",
              "</style>\n",
              "<table border=\"1\" class=\"dataframe\">\n",
              "  <thead>\n",
              "    <tr style=\"text-align: right;\">\n",
              "      <th></th>\n",
              "      <th>Tweet</th>\n",
              "      <th>Hate</th>\n",
              "    </tr>\n",
              "  </thead>\n",
              "  <tbody>\n",
              "    <tr>\n",
              "      <th>0</th>\n",
              "      <td>@user , you Acronym rich environment correct t...</td>\n",
              "      <td>0</td>\n",
              "    </tr>\n",
              "    <tr>\n",
              "      <th>1</th>\n",
              "      <td>Whoever just unfollowed me you a bitch</td>\n",
              "      <td>1</td>\n",
              "    </tr>\n",
              "  </tbody>\n",
              "</table>\n",
              "</div>"
            ],
            "text/plain": [
              "                                               Tweet  Hate\n",
              "0  @user , you Acronym rich environment correct t...     0\n",
              "1             Whoever just unfollowed me you a bitch     1"
            ]
          },
          "metadata": {
            "tags": []
          },
          "execution_count": 28
        }
      ]
    },
    {
      "cell_type": "code",
      "metadata": {
        "colab": {
          "base_uri": "https://localhost:8080/",
          "height": 52
        },
        "id": "jdPw8Fry-Zw4",
        "outputId": "1462f4a8-3bd6-427b-b02f-76ce3ced8469"
      },
      "source": [
        "df_test['Tweet']=df_test['Tweet'].apply(lambda x:expand_contractions(x))\n",
        "df_test['Tweet'][0]"
      ],
      "execution_count": 29,
      "outputs": [
        {
          "output_type": "execute_result",
          "data": {
            "application/vnd.google.colaboratory.intrinsic+json": {
              "type": "string"
            },
            "text/plain": [
              "'@user , you Acronym rich environment correct that Reid certainly is a weasel. Sadly, we have got our own weasels; @user Sen McConnell & @user .The corrupt Mueller investigation w/be STOPPED if those 3 did their jobs.#MAGA #KAG #POTUS #Trump #NEWS #VoteRed #NoDACA #USA'"
            ]
          },
          "metadata": {
            "tags": []
          },
          "execution_count": 29
        }
      ]
    },
    {
      "cell_type": "code",
      "metadata": {
        "colab": {
          "base_uri": "https://localhost:8080/",
          "height": 52
        },
        "id": "5PIN2IdR-ivj",
        "outputId": "a0d5b371-09af-4075-bdd7-31f866f856d9"
      },
      "source": [
        "df_test[\"Tweet\"]= df_test.Tweet.apply(lambda x: clean_text(x))\n",
        "df_test['Tweet'][0]"
      ],
      "execution_count": 30,
      "outputs": [
        {
          "output_type": "execute_result",
          "data": {
            "application/vnd.google.colaboratory.intrinsic+json": {
              "type": "string"
            },
            "text/plain": [
              "'  you acronym rich environment correct that reid certainly is a weasel sadly we have got our own weasels  sen mcconnell    the corrupt mueller investigation wbe stopped if those   did their jobsmaga kag potus trump news votered nodaca usa'"
            ]
          },
          "metadata": {
            "tags": []
          },
          "execution_count": 30
        }
      ]
    },
    {
      "cell_type": "code",
      "metadata": {
        "colab": {
          "base_uri": "https://localhost:8080/",
          "height": 52
        },
        "id": "xtBtKoVx-rIL",
        "outputId": "83360c1c-389a-4988-e987-aca69a27fb0e"
      },
      "source": [
        "df_test[\"Tweet\"]= df_test.Tweet.apply(lambda x: deEmojify(x))\n",
        "df_test['Tweet'][0]"
      ],
      "execution_count": 31,
      "outputs": [
        {
          "output_type": "execute_result",
          "data": {
            "application/vnd.google.colaboratory.intrinsic+json": {
              "type": "string"
            },
            "text/plain": [
              "'  you acronym rich environment correct that reid certainly is a weasel sadly we have got our own weasels  sen mcconnell    the corrupt mueller investigation wbe stopped if those   did their jobsmaga kag potus trump news votered nodaca usa'"
            ]
          },
          "metadata": {
            "tags": []
          },
          "execution_count": 31
        }
      ]
    },
    {
      "cell_type": "code",
      "metadata": {
        "colab": {
          "base_uri": "https://localhost:8080/",
          "height": 35
        },
        "id": "Op_TCB3--xP-",
        "outputId": "04bc6446-5854-4dad-d1ec-4f93dff98baa"
      },
      "source": [
        "df_test[\"Tweet\"]= df_test.Tweet.apply(lambda x: remove_stopwords(x))\n",
        "df_test['Tweet'][0]"
      ],
      "execution_count": 32,
      "outputs": [
        {
          "output_type": "execute_result",
          "data": {
            "application/vnd.google.colaboratory.intrinsic+json": {
              "type": "string"
            },
            "text/plain": [
              "'acronym rich environment correct reid certainly weasel sadly got weasels sen mcconnell corrupt mueller investigation wbe stopped jobsmaga kag potus trump news votered nodaca usa'"
            ]
          },
          "metadata": {
            "tags": []
          },
          "execution_count": 32
        }
      ]
    },
    {
      "cell_type": "code",
      "metadata": {
        "colab": {
          "base_uri": "https://localhost:8080/",
          "height": 35
        },
        "id": "uCZTcosQ-2P4",
        "outputId": "5bb811a5-296e-4821-e81c-c98f82ebe0bc"
      },
      "source": [
        "df_test[\"Tweet\"]= df_test.Tweet.apply(lambda x: lemmatization(x))\n",
        "df_test['Tweet'][0]"
      ],
      "execution_count": 33,
      "outputs": [
        {
          "output_type": "execute_result",
          "data": {
            "application/vnd.google.colaboratory.intrinsic+json": {
              "type": "string"
            },
            "text/plain": [
              "'acronym rich environment correct reid certainly weasel sadly got weasel sen mcconnell corrupt mueller investigation wbe stopped jobsmaga kag potus trump news votered nodaca usa'"
            ]
          },
          "metadata": {
            "tags": []
          },
          "execution_count": 33
        }
      ]
    },
    {
      "cell_type": "code",
      "metadata": {
        "colab": {
          "base_uri": "https://localhost:8080/"
        },
        "id": "wWz-k2Z8-7b2",
        "outputId": "7e06ee80-ad7b-4177-a4cf-6f17581011cd"
      },
      "source": [
        "df_test[\"Hate\"].value_counts()"
      ],
      "execution_count": 34,
      "outputs": [
        {
          "output_type": "execute_result",
          "data": {
            "text/plain": [
              "0    1718\n",
              "1    1252\n",
              "Name: Hate, dtype: int64"
            ]
          },
          "metadata": {
            "tags": []
          },
          "execution_count": 34
        }
      ]
    },
    {
      "cell_type": "code",
      "metadata": {
        "id": "YRN8cmJg_Asz"
      },
      "source": [
        "from sklearn.feature_extraction.text import TfidfVectorizer\n",
        "Xt = df_test['Tweet']\n",
        "tfidf = TfidfVectorizer()\n",
        "Xt= tfidf.fit_transform(Xt)\n",
        "yt = df_test.Hate\n"
      ],
      "execution_count": 35,
      "outputs": []
    },
    {
      "cell_type": "code",
      "metadata": {
        "colab": {
          "base_uri": "https://localhost:8080/"
        },
        "id": "tjaCuHwn_HON",
        "outputId": "22c6ef71-5271-430d-bda4-7e4164175fb1"
      },
      "source": [
        "from sklearn.model_selection import train_test_split\n",
        "from sklearn.model_selection import GridSearchCV\n",
        "import time\n",
        "from sklearn import svm\n",
        "from sklearn.svm import SVC  \n",
        "from sklearn.metrics import classification_report\n",
        "\n",
        "\n",
        "X_traint, X_testt, y_traint, y_testt = train_test_split(Xt, yt, test_size=0.3, random_state=6)\n",
        "\n",
        "# defining parameter range\n",
        "param_grid = {'kernel':['rbf'] } \n",
        "\n",
        "grid = GridSearchCV(svm.SVC(C=0.8, gamma=1,random_state=0), param_grid,n_jobs=-1)\n",
        "  \n",
        "# fitting the model for grid search\n",
        "grid.fit(X_traint, y_traint)\n",
        "print(grid.best_params_)\n",
        "print(grid.best_estimator_)\n",
        "grid_predictions = grid.predict(X_testt)\n",
        "  \n",
        "# print classification report\n",
        "print(classification_report(y_testt, grid_predictions))"
      ],
      "execution_count": 36,
      "outputs": [
        {
          "output_type": "stream",
          "text": [
            "{'kernel': 'rbf'}\n",
            "SVC(C=0.8, break_ties=False, cache_size=200, class_weight=None, coef0=0.0,\n",
            "    decision_function_shape='ovr', degree=3, gamma=1, kernel='rbf', max_iter=-1,\n",
            "    probability=False, random_state=0, shrinking=True, tol=0.001,\n",
            "    verbose=False)\n",
            "              precision    recall  f1-score   support\n",
            "\n",
            "           0       0.76      0.87      0.81       543\n",
            "           1       0.74      0.57      0.64       348\n",
            "\n",
            "    accuracy                           0.76       891\n",
            "   macro avg       0.75      0.72      0.73       891\n",
            "weighted avg       0.75      0.76      0.75       891\n",
            "\n"
          ],
          "name": "stdout"
        }
      ]
    }
  ]
}