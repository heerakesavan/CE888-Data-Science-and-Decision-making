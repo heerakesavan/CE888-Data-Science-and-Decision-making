{
  "nbformat": 4,
  "nbformat_minor": 0,
  "metadata": {
    "colab": {
      "name": "Irony CE888 Model SVM by tuning on Validation dataset.ipynb",
      "provenance": [],
      "collapsed_sections": [],
      "mount_file_id": "17FIvyPsoQdVV5yHNTD_1sMJlgd3dLRH-",
      "authorship_tag": "ABX9TyNcP9Mu81Z7OQa3cc5Ud0EE",
      "include_colab_link": true
    },
    "kernelspec": {
      "display_name": "Python 3",
      "name": "python3"
    },
    "language_info": {
      "name": "python"
    },
    "accelerator": "GPU"
  },
  "cells": [
    {
      "cell_type": "markdown",
      "metadata": {
        "id": "view-in-github",
        "colab_type": "text"
      },
      "source": [
        "<a href=\"https://colab.research.google.com/github/heerakesavan/CE888-Data-Science-and-Decision-making/blob/Master/Project%20Assignment%201/Project%202/Irony_CE888_Model_SVM_by_tuning_on_Validation_dataset.ipynb\" target=\"_parent\"><img src=\"https://colab.research.google.com/assets/colab-badge.svg\" alt=\"Open In Colab\"/></a>"
      ]
    },
    {
      "cell_type": "code",
      "metadata": {
        "id": "sMY72SN0Col9"
      },
      "source": [
        "import pandas as pd\n",
        "import numpy as np\n",
        "import matplotlib.pyplot as plt\n",
        "import seaborn as sns\n",
        "from sklearn.model_selection import train_test_split\n",
        "from sklearn.metrics import accuracy_score ,confusion_matrix\n",
        "import re\n",
        "import gensim\n",
        "from gensim import corpora\n",
        "import pickle\n",
        "from sklearn.feature_extraction.text import CountVectorizer,TfidfVectorizer\n",
        "from sklearn.feature_extraction import text \n",
        "import nltk\n",
        "import operator\n",
        "from nltk.corpus import stopwords\n",
        "from nltk.stem import WordNetLemmatizer,PorterStemmer\n",
        "from string import punctuation\n",
        "from nltk.tokenize import word_tokenize\n",
        "from collections import Counter\n",
        "import warnings\n",
        "warnings.filterwarnings(\"ignore\")\n",
        "from wordcloud import WordCloud\n",
        "%matplotlib inline\n",
        "                                                                                        "
      ],
      "execution_count": null,
      "outputs": []
    },
    {
      "cell_type": "code",
      "metadata": {
        "colab": {
          "base_uri": "https://localhost:8080/",
          "height": 212
        },
        "id": "NPGyfHdADZwF",
        "outputId": "7156c3ea-9bdd-486b-9489-731dcf97b2bb"
      },
      "source": [
        "df_train = pd.read_fwf('https://raw.githubusercontent.com/cardiffnlp/tweeteval/main/datasets/irony/train_text.txt', header=None)\n",
        "df_train.head()\n",
        "df_train.columns\n",
        "df_train.count\n",
        "df_train.isnull().sum()\n",
        "print(df_train.shape)\n",
        "df_train=df_train.rename(columns={0:\"Tweet\"})\n",
        "df_train.head()"
      ],
      "execution_count": null,
      "outputs": [
        {
          "output_type": "stream",
          "text": [
            "(2862, 1)\n"
          ],
          "name": "stdout"
        },
        {
          "output_type": "execute_result",
          "data": {
            "text/html": [
              "<div>\n",
              "<style scoped>\n",
              "    .dataframe tbody tr th:only-of-type {\n",
              "        vertical-align: middle;\n",
              "    }\n",
              "\n",
              "    .dataframe tbody tr th {\n",
              "        vertical-align: top;\n",
              "    }\n",
              "\n",
              "    .dataframe thead th {\n",
              "        text-align: right;\n",
              "    }\n",
              "</style>\n",
              "<table border=\"1\" class=\"dataframe\">\n",
              "  <thead>\n",
              "    <tr style=\"text-align: right;\">\n",
              "      <th></th>\n",
              "      <th>Tweet</th>\n",
              "    </tr>\n",
              "  </thead>\n",
              "  <tbody>\n",
              "    <tr>\n",
              "      <th>0</th>\n",
              "      <td>seeing ppl walking w/ crutches makes me really...</td>\n",
              "    </tr>\n",
              "    <tr>\n",
              "      <th>1</th>\n",
              "      <td>look for the girl with the broken smile, ask h...</td>\n",
              "    </tr>\n",
              "    <tr>\n",
              "      <th>2</th>\n",
              "      <td>Now I remember why I buy books online @user #s...</td>\n",
              "    </tr>\n",
              "    <tr>\n",
              "      <th>3</th>\n",
              "      <td>@user @user So is he banded from wearing the c...</td>\n",
              "    </tr>\n",
              "    <tr>\n",
              "      <th>4</th>\n",
              "      <td>Just found out there are Etch A Sketch apps.  ...</td>\n",
              "    </tr>\n",
              "  </tbody>\n",
              "</table>\n",
              "</div>"
            ],
            "text/plain": [
              "                                               Tweet\n",
              "0  seeing ppl walking w/ crutches makes me really...\n",
              "1  look for the girl with the broken smile, ask h...\n",
              "2  Now I remember why I buy books online @user #s...\n",
              "3  @user @user So is he banded from wearing the c...\n",
              "4  Just found out there are Etch A Sketch apps.  ..."
            ]
          },
          "metadata": {
            "tags": []
          },
          "execution_count": 2
        }
      ]
    },
    {
      "cell_type": "code",
      "metadata": {
        "colab": {
          "base_uri": "https://localhost:8080/",
          "height": 212
        },
        "id": "SuLIvoJ2DcNF",
        "outputId": "a0046bc6-3bcc-43e1-be39-79491631744f"
      },
      "source": [
        "df_train_labels=pd.read_fwf('https://raw.githubusercontent.com/cardiffnlp/tweeteval/main/datasets/irony/train_labels.txt', header=None)\n",
        "df_train_labels.head()\n",
        "print(df_train_labels.shape)\n",
        "df_train_labels=df_train_labels.rename(columns={0:\"Irony\"})\n",
        "df_train_labels.head()\n",
        "#same number of rows in train labels and train text"
      ],
      "execution_count": null,
      "outputs": [
        {
          "output_type": "stream",
          "text": [
            "(2862, 1)\n"
          ],
          "name": "stdout"
        },
        {
          "output_type": "execute_result",
          "data": {
            "text/html": [
              "<div>\n",
              "<style scoped>\n",
              "    .dataframe tbody tr th:only-of-type {\n",
              "        vertical-align: middle;\n",
              "    }\n",
              "\n",
              "    .dataframe tbody tr th {\n",
              "        vertical-align: top;\n",
              "    }\n",
              "\n",
              "    .dataframe thead th {\n",
              "        text-align: right;\n",
              "    }\n",
              "</style>\n",
              "<table border=\"1\" class=\"dataframe\">\n",
              "  <thead>\n",
              "    <tr style=\"text-align: right;\">\n",
              "      <th></th>\n",
              "      <th>Irony</th>\n",
              "    </tr>\n",
              "  </thead>\n",
              "  <tbody>\n",
              "    <tr>\n",
              "      <th>0</th>\n",
              "      <td>1</td>\n",
              "    </tr>\n",
              "    <tr>\n",
              "      <th>1</th>\n",
              "      <td>0</td>\n",
              "    </tr>\n",
              "    <tr>\n",
              "      <th>2</th>\n",
              "      <td>1</td>\n",
              "    </tr>\n",
              "    <tr>\n",
              "      <th>3</th>\n",
              "      <td>1</td>\n",
              "    </tr>\n",
              "    <tr>\n",
              "      <th>4</th>\n",
              "      <td>1</td>\n",
              "    </tr>\n",
              "  </tbody>\n",
              "</table>\n",
              "</div>"
            ],
            "text/plain": [
              "   Irony\n",
              "0      1\n",
              "1      0\n",
              "2      1\n",
              "3      1\n",
              "4      1"
            ]
          },
          "metadata": {
            "tags": []
          },
          "execution_count": 3
        }
      ]
    },
    {
      "cell_type": "code",
      "metadata": {
        "colab": {
          "base_uri": "https://localhost:8080/",
          "height": 195
        },
        "id": "HwC3DnVwDfzo",
        "outputId": "417b96e3-7dbb-4170-883b-126fd8eee6da"
      },
      "source": [
        "dfs=[df_train,df_train_labels]\n",
        "df=pd.concat(dfs, axis=1, join=\"inner\")\n",
        "dforg=df\n",
        "df.head()"
      ],
      "execution_count": null,
      "outputs": [
        {
          "output_type": "execute_result",
          "data": {
            "text/html": [
              "<div>\n",
              "<style scoped>\n",
              "    .dataframe tbody tr th:only-of-type {\n",
              "        vertical-align: middle;\n",
              "    }\n",
              "\n",
              "    .dataframe tbody tr th {\n",
              "        vertical-align: top;\n",
              "    }\n",
              "\n",
              "    .dataframe thead th {\n",
              "        text-align: right;\n",
              "    }\n",
              "</style>\n",
              "<table border=\"1\" class=\"dataframe\">\n",
              "  <thead>\n",
              "    <tr style=\"text-align: right;\">\n",
              "      <th></th>\n",
              "      <th>Tweet</th>\n",
              "      <th>Irony</th>\n",
              "    </tr>\n",
              "  </thead>\n",
              "  <tbody>\n",
              "    <tr>\n",
              "      <th>0</th>\n",
              "      <td>seeing ppl walking w/ crutches makes me really...</td>\n",
              "      <td>1</td>\n",
              "    </tr>\n",
              "    <tr>\n",
              "      <th>1</th>\n",
              "      <td>look for the girl with the broken smile, ask h...</td>\n",
              "      <td>0</td>\n",
              "    </tr>\n",
              "    <tr>\n",
              "      <th>2</th>\n",
              "      <td>Now I remember why I buy books online @user #s...</td>\n",
              "      <td>1</td>\n",
              "    </tr>\n",
              "    <tr>\n",
              "      <th>3</th>\n",
              "      <td>@user @user So is he banded from wearing the c...</td>\n",
              "      <td>1</td>\n",
              "    </tr>\n",
              "    <tr>\n",
              "      <th>4</th>\n",
              "      <td>Just found out there are Etch A Sketch apps.  ...</td>\n",
              "      <td>1</td>\n",
              "    </tr>\n",
              "  </tbody>\n",
              "</table>\n",
              "</div>"
            ],
            "text/plain": [
              "                                               Tweet  Irony\n",
              "0  seeing ppl walking w/ crutches makes me really...      1\n",
              "1  look for the girl with the broken smile, ask h...      0\n",
              "2  Now I remember why I buy books online @user #s...      1\n",
              "3  @user @user So is he banded from wearing the c...      1\n",
              "4  Just found out there are Etch A Sketch apps.  ...      1"
            ]
          },
          "metadata": {
            "tags": []
          },
          "execution_count": 4
        }
      ]
    },
    {
      "cell_type": "code",
      "metadata": {
        "colab": {
          "base_uri": "https://localhost:8080/",
          "height": 346
        },
        "id": "eZfYh6-aDrcb",
        "outputId": "1dc1e56c-691a-4f41-c640-66e3564de1e3"
      },
      "source": [
        "# create countplot for Target column\n",
        "def createCP(df,x1):\n",
        "    sns.countplot(x = x1, data = df)\n",
        "    plt.title('Irony count plot')\n",
        "    plt.show()\n",
        "\n",
        "x = df.columns.tolist()[-1]   # last column is Target 'sentiment''\n",
        "createCP(df, \"Irony\")\n",
        "df[\"Irony\"].value_counts()"
      ],
      "execution_count": null,
      "outputs": [
        {
          "output_type": "display_data",
          "data": {
            "image/png": "[encoded data removed]",
            "text/plain": [
              "<Figure size 432x288 with 1 Axes>"
            ]
          },
          "metadata": {
            "tags": [],
            "needs_background": "light"
          }
        },
        {
          "output_type": "execute_result",
          "data": {
            "text/plain": [
              "1    1445\n",
              "0    1417\n",
              "Name: Irony, dtype: int64"
            ]
          },
          "metadata": {
            "tags": []
          },
          "execution_count": 5
        }
      ]
    },
    {
      "cell_type": "code",
      "metadata": {
        "colab": {
          "base_uri": "https://localhost:8080/",
          "height": 295
        },
        "id": "F-mKyAEDEF3X",
        "outputId": "c3795823-b3ba-4816-daf5-0c57472c4aba"
      },
      "source": [
        "irony = [1445,1417]\n",
        "colors_list = ['yellowgreen', 'lightcoral']\n",
        "my_labels = 'Irony','Non Irony'\n",
        "plt.pie(irony,labels=my_labels,autopct='%1.1f%%',shadow=True,colors=colors_list)\n",
        "plt.title('Irony Distribution of Tweets', y=1.12) \n",
        "plt.axis('equal') \n",
        "plt.legend(labels=my_labels, loc='lower left') \n",
        "plt.axis('equal')\n",
        "plt.show()"
      ],
      "execution_count": null,
      "outputs": [
        {
          "output_type": "display_data",
          "data": {
            "image/png": "[encoded data removed]",
            "text/plain": [
              "<Figure size 432x288 with 1 Axes>"
            ]
          },
          "metadata": {
            "tags": []
          }
        }
      ]
    },
    {
      "cell_type": "markdown",
      "metadata": {
        "id": "a0e0umyeWsNK"
      },
      "source": [
        "**Treat Slangs in Tweet**"
      ]
    },
    {
      "cell_type": "markdown",
      "metadata": {
        "id": "_BWS3RNCVG7A"
      },
      "source": [
        "In order to treat slangs in tweets used abreviations from this link and created slangsdf CSV File: https://www.webopedia.com/reference/text-abbreviations/"
      ]
    },
    {
      "cell_type": "code",
      "metadata": {
        "colab": {
          "base_uri": "https://localhost:8080/",
          "height": 195
        },
        "id": "4ScwAWn3U0Xg",
        "outputId": "65573899-bed7-42e6-f25c-cabaffc27da0"
      },
      "source": [
        "slangs_df = pd.read_csv(\"/content/drive/MyDrive/slangsdf.csv\")\n",
        "slangs_df.head()"
      ],
      "execution_count": null,
      "outputs": [
        {
          "output_type": "execute_result",
          "data": {
            "text/html": [
              "<div>\n",
              "<style scoped>\n",
              "    .dataframe tbody tr th:only-of-type {\n",
              "        vertical-align: middle;\n",
              "    }\n",
              "\n",
              "    .dataframe tbody tr th {\n",
              "        vertical-align: top;\n",
              "    }\n",
              "\n",
              "    .dataframe thead th {\n",
              "        text-align: right;\n",
              "    }\n",
              "</style>\n",
              "<table border=\"1\" class=\"dataframe\">\n",
              "  <thead>\n",
              "    <tr style=\"text-align: right;\">\n",
              "      <th></th>\n",
              "      <th>Slangs</th>\n",
              "      <th>Fullforms</th>\n",
              "    </tr>\n",
              "  </thead>\n",
              "  <tbody>\n",
              "    <tr>\n",
              "      <th>0</th>\n",
              "      <td>?</td>\n",
              "      <td>I have a question</td>\n",
              "    </tr>\n",
              "    <tr>\n",
              "      <th>1</th>\n",
              "      <td>?</td>\n",
              "      <td>I don’t understand what you mean</td>\n",
              "    </tr>\n",
              "    <tr>\n",
              "      <th>2</th>\n",
              "      <td>?4U</td>\n",
              "      <td>I have a question for you</td>\n",
              "    </tr>\n",
              "    <tr>\n",
              "      <th>3</th>\n",
              "      <td>;S</td>\n",
              "      <td>Gentle warning, like “Hmm? What did you say?”</td>\n",
              "    </tr>\n",
              "    <tr>\n",
              "      <th>4</th>\n",
              "      <td>^^</td>\n",
              "      <td>Meaning “read line” or “read message” above</td>\n",
              "    </tr>\n",
              "  </tbody>\n",
              "</table>\n",
              "</div>"
            ],
            "text/plain": [
              "  Slangs                                      Fullforms\n",
              "0      ?                              I have a question\n",
              "1      ?               I don’t understand what you mean\n",
              "2    ?4U                      I have a question for you\n",
              "3     ;S  Gentle warning, like “Hmm? What did you say?”\n",
              "4     ^^    Meaning “read line” or “read message” above"
            ]
          },
          "metadata": {
            "tags": []
          },
          "execution_count": 7
        }
      ]
    },
    {
      "cell_type": "code",
      "metadata": {
        "colab": {
          "base_uri": "https://localhost:8080/",
          "height": 106
        },
        "id": "2px01JixWE2O",
        "outputId": "23fcd95b-d397-498d-b690-1aeb32411c29"
      },
      "source": [
        "def df_to_dict(df,df_dict):\n",
        "    for index,row in df.iterrows():\n",
        "        df_dict[row['Slangs']] = row['Fullforms']\n",
        "    return df_dict\n",
        "\n",
        "slangs_dict = {}\n",
        "slangs_dict = df_to_dict(slangs_df,slangs_dict)\n",
        "slangs_dict['PC'] = \"Personal Computer\"\n",
        "\n",
        "def treat_slangs(row,slang_dict):\n",
        "    words = row.split()\n",
        "    treated_row = []\n",
        "    reformed = []\n",
        "    for word in words:\n",
        "        if word.upper() in slang_dict.keys():\n",
        "            new_word = word.replace(word,slang_dict[word.upper()])\n",
        "            treated_row.append(new_word)\n",
        "        else:\n",
        "            treated_row.append(word)\n",
        "    reformed = \" \".join(treated_row)\n",
        "    return reformed\n",
        "df['Tweet'] = df['Tweet'].apply(lambda x:treat_slangs(x,slangs_dict))\n",
        "df.head(2)"
      ],
      "execution_count": null,
      "outputs": [
        {
          "output_type": "execute_result",
          "data": {
            "text/html": [
              "<div>\n",
              "<style scoped>\n",
              "    .dataframe tbody tr th:only-of-type {\n",
              "        vertical-align: middle;\n",
              "    }\n",
              "\n",
              "    .dataframe tbody tr th {\n",
              "        vertical-align: top;\n",
              "    }\n",
              "\n",
              "    .dataframe thead th {\n",
              "        text-align: right;\n",
              "    }\n",
              "</style>\n",
              "<table border=\"1\" class=\"dataframe\">\n",
              "  <thead>\n",
              "    <tr style=\"text-align: right;\">\n",
              "      <th></th>\n",
              "      <th>Tweet</th>\n",
              "      <th>Irony</th>\n",
              "    </tr>\n",
              "  </thead>\n",
              "  <tbody>\n",
              "    <tr>\n",
              "      <th>0</th>\n",
              "      <td>seeing People walking With crutches makes me r...</td>\n",
              "      <td>1</td>\n",
              "    </tr>\n",
              "    <tr>\n",
              "      <th>1</th>\n",
              "      <td>look for the Guy in real life with the broken ...</td>\n",
              "      <td>0</td>\n",
              "    </tr>\n",
              "  </tbody>\n",
              "</table>\n",
              "</div>"
            ],
            "text/plain": [
              "                                               Tweet  Irony\n",
              "0  seeing People walking With crutches makes me r...      1\n",
              "1  look for the Guy in real life with the broken ...      0"
            ]
          },
          "metadata": {
            "tags": []
          },
          "execution_count": 8
        }
      ]
    },
    {
      "cell_type": "markdown",
      "metadata": {
        "id": "kWQeVVb2aAxo"
      },
      "source": [
        "**Treating Apostrophes/Contractions in Tweets**"
      ]
    },
    {
      "cell_type": "code",
      "metadata": {
        "colab": {
          "base_uri": "https://localhost:8080/",
          "height": 35
        },
        "id": "PIWAG5baZ4Wo",
        "outputId": "9671f6df-e902-4b9d-e36f-b1d4f861f7f2"
      },
      "source": [
        "# Dictionary of English Contractions\n",
        "contractions_dict = { \"ain't\": \"are not\",\"'s\":\" is\",\"aren't\": \"are not\",\n",
        "                     \"can't\": \"cannot\",\"can't've\": \"cannot have\",\n",
        "                     \"'cause\": \"because\",\"could've\": \"could have\",\"couldn't\": \"could not\",\n",
        "                     \"couldn't've\": \"could not have\", \"didn't\": \"did not\",\"doesn't\": \"does not\",\n",
        "                     \"don't\": \"do not\",\"hadn't\": \"had not\",\"hadn't've\": \"had not have\",\n",
        "                     \"hasn't\": \"has not\",\"haven't\": \"have not\",\"he'd\": \"he would\",\n",
        "                     \"he'd've\": \"he would have\",\"he'll\": \"he will\", \"he'll've\": \"he will have\",\n",
        "                     \"how'd\": \"how did\",\"how'd'y\": \"how do you\",\"how'll\": \"how will\",\n",
        "                     \"I'd\": \"I would\", \"I'd've\": \"I would have\",\"I'll\": \"I will\",\n",
        "                     \"I'll've\": \"I will have\",\"I'm\": \"I am\",\"I've\": \"I have\", \"isn't\": \"is not\",\n",
        "                     \"it'd\": \"it would\",\"it'd've\": \"it would have\",\"it'll\": \"it will\",\n",
        "                     \"it'll've\": \"it will have\", \"let's\": \"let us\",\"ma'am\": \"madam\",\n",
        "                     \"mayn't\": \"may not\",\"might've\": \"might have\",\"mightn't\": \"might not\", \n",
        "                     \"mightn't've\": \"might not have\",\"must've\": \"must have\",\"mustn't\": \"must not\",\n",
        "                     \"mustn't've\": \"must not have\", \"needn't\": \"need not\",\n",
        "                     \"needn't've\": \"need not have\",\"o'clock\": \"of the clock\",\"oughtn't\": \"ought not\",\n",
        "                     \"oughtn't've\": \"ought not have\",\"shan't\": \"shall not\",\"sha'n't\": \"shall not\",\n",
        "                     \"shan't've\": \"shall not have\",\"she'd\": \"she would\",\"she'd've\": \"she would have\",\n",
        "                     \"she'll\": \"she will\", \"she'll've\": \"she will have\",\"should've\": \"should have\",\n",
        "                     \"shouldn't\": \"should not\", \"shouldn't've\": \"should not have\",\"so've\": \"so have\",\n",
        "                     \"that'd\": \"that would\",\"that'd've\": \"that would have\", \"there'd\": \"there would\",\n",
        "                     \"there'd've\": \"there would have\", \"they'd\": \"they would\",\n",
        "                     \"they'd've\": \"they would have\",\"they'll\": \"they will\",\n",
        "                     \"they'll've\": \"they will have\", \"they're\": \"they are\",\"they've\": \"they have\",\n",
        "                     \"to've\": \"to have\",\"wasn't\": \"was not\",\"we'd\": \"we would\",\n",
        "                     \"we'd've\": \"we would have\",\"we'll\": \"we will\",\"we'll've\": \"we will have\",\n",
        "                     \"we're\": \"we are\",\"we've\": \"we have\", \"weren't\": \"were not\",\"what'll\": \"what will\",\n",
        "                     \"what'll've\": \"what will have\",\"what're\": \"what are\", \"what've\": \"what have\",\n",
        "                     \"when've\": \"when have\",\"where'd\": \"where did\", \"where've\": \"where have\",\n",
        "                     \"who'll\": \"who will\",\"who'll've\": \"who will have\",\"who've\": \"who have\",\n",
        "                     \"why've\": \"why have\",\"will've\": \"will have\",\"won't\": \"will not\",\n",
        "                     \"won't've\": \"will not have\", \"would've\": \"would have\",\"wouldn't\": \"would not\",\n",
        "                     \"wouldn't've\": \"would not have\",\"y'all\": \"you all\", \"y'all'd\": \"you all would\",\n",
        "                     \"y'all'd've\": \"you all would have\",\"y'all're\": \"you all are\",\n",
        "                     \"y'all've\": \"you all have\", \"you'd\": \"you would\",\"you'd've\": \"you would have\",\n",
        "                     \"you'll\": \"you will\",\"you'll've\": \"you will have\", \"you're\": \"you are\",\n",
        "                     \"you've\": \"you have\"}\n",
        "\n",
        "# Regular expression for finding contractions\n",
        "contractions_re=re.compile('(%s)' % '|'.join(contractions_dict.keys()))\n",
        "\n",
        "# Function for expanding contractions\n",
        "def expand_contractions(text,contractions_dict=contractions_dict):\n",
        "  def replace(match):\n",
        "    return contractions_dict[match.group(0)]\n",
        "  return contractions_re.sub(replace, text)\n",
        "\n",
        "# Expanding Contractions in the reviews\n",
        "df['Tweet']=df['Tweet'].apply(lambda x:expand_contractions(x))\n",
        "df.head(2)\n",
        "df['Tweet'][0]"
      ],
      "execution_count": null,
      "outputs": [
        {
          "output_type": "execute_result",
          "data": {
            "application/vnd.google.colaboratory.intrinsic+json": {
              "type": "string"
            },
            "text/plain": [
              "'seeing People walking With crutches makes me really excited for the next 3 weeks of my life'"
            ]
          },
          "metadata": {
            "tags": []
          },
          "execution_count": 9
        }
      ]
    },
    {
      "cell_type": "markdown",
      "metadata": {
        "id": "mRoHu9PyaSf9"
      },
      "source": [
        "**Preprocessing tweets by removing punctuations,urls etc. and Converting to lowercase**"
      ]
    },
    {
      "cell_type": "code",
      "metadata": {
        "colab": {
          "base_uri": "https://localhost:8080/",
          "height": 35
        },
        "id": "MA7p1lUWJ0ef",
        "outputId": "c33cd6ee-a114-491e-9243-2517b2be9022"
      },
      "source": [
        "import string\n",
        "def clean_text(text):\n",
        "    #convert the text to lower case\n",
        "    text = text.lower()\n",
        "    #remove @mention\n",
        "    text = re.sub(r'@\\w+', '', text)\n",
        "    #remove Link word\n",
        "    text = re.sub(\"{link}\",'',text)\n",
        "    #remove html tags\n",
        "    text = re.sub(\"&[\\w;]*\",' ',text)\n",
        "    #remove urls\n",
        "    text = re.sub(r'http.?://[^\\s]+[\\s]?',' ',text)\n",
        "    #remove RT\n",
        "    text = re.sub(r'(?i)\\bRT\\b','',text)\n",
        "    #remove content inside square brackets\n",
        "    text = re.sub('\\[.*?\\]', ' ', text)\n",
        "    #remove punctuation\n",
        "    text = re.sub('[%s]' % re.escape(string.punctuation), '', text)\n",
        "    #remove digits\n",
        "    text = re.sub('\\d+', ' ',text)\n",
        "    #remove new line character\n",
        "    text= re.sub('\\n', '', text)\n",
        "    return text\n",
        "df[\"Tweet\"]= df.Tweet.apply(lambda x: clean_text(x))\n",
        "df.Tweet.head(2)\n",
        "df['Tweet'][0]"
      ],
      "execution_count": null,
      "outputs": [
        {
          "output_type": "execute_result",
          "data": {
            "application/vnd.google.colaboratory.intrinsic+json": {
              "type": "string"
            },
            "text/plain": [
              "'seeing people walking with crutches makes me really excited for the next   weeks of my life'"
            ]
          },
          "metadata": {
            "tags": []
          },
          "execution_count": 10
        }
      ]
    },
    {
      "cell_type": "markdown",
      "metadata": {
        "id": "WaVVgxesVyQR"
      },
      "source": [
        "**To remove Emojis, Referred code: https://stackoverflow.com/questions/33404752/removing-emojis-from-a-string-in-python**\n"
      ]
    },
    {
      "cell_type": "code",
      "metadata": {
        "colab": {
          "base_uri": "https://localhost:8080/",
          "height": 35
        },
        "id": "vg89jCd2RdBy",
        "outputId": "43ed996e-c4c4-463e-df2e-5a234d7e9ed4"
      },
      "source": [
        "def deEmojify(text):\n",
        "    regrex_pattern = re.compile(pattern = \"[\"\n",
        "        u\"\\U0001F600-\\U0001F64F\"  # emoticons\n",
        "        u\"\\U0001F300-\\U0001F5FF\"  # symbols & pictographs\n",
        "        u\"\\U0001F680-\\U0001F6FF\"  # transport & map symbols\n",
        "        u\"\\U0001F1E0-\\U0001F1FF\"  # flags (iOS)\n",
        "                           \"]+\", flags = re.UNICODE)\n",
        "    return regrex_pattern.sub(r'',text)\n",
        "\n",
        "df[\"Tweet\"]= df.Tweet.apply(lambda x: deEmojify(x))\n",
        "df.Tweet.head(2)\n",
        "df['Tweet'][0]"
      ],
      "execution_count": null,
      "outputs": [
        {
          "output_type": "execute_result",
          "data": {
            "application/vnd.google.colaboratory.intrinsic+json": {
              "type": "string"
            },
            "text/plain": [
              "'seeing people walking with crutches makes me really excited for the next   weeks of my life'"
            ]
          },
          "metadata": {
            "tags": []
          },
          "execution_count": 11
        }
      ]
    },
    {
      "cell_type": "markdown",
      "metadata": {
        "id": "I7xGfCvId7vN"
      },
      "source": [
        "**Remove StopWords**"
      ]
    },
    {
      "cell_type": "code",
      "metadata": {
        "colab": {
          "base_uri": "https://localhost:8080/",
          "height": 69
        },
        "id": "chSEZ0LeR8w5",
        "outputId": "f64485e4-9f0d-4c65-ed5d-d63ced02119b"
      },
      "source": [
        "import nltk\n",
        "nltk.download('stopwords')\n",
        "def remove_stopwords(input_text):\n",
        "        stopwords_list = stopwords.words('english')\n",
        "        # Some words which might indicate a certain sentiment are kept via a whitelist\n",
        "        whitelist = [\"n't\", \"not\", \"no\"]\n",
        "        words = input_text.split() \n",
        "        clean_words = [word for word in words if (word not in stopwords_list or word in whitelist) and len(word) > 1] \n",
        "        return \" \".join(clean_words)\n",
        "df[\"Tweet\"]= df.Tweet.apply(lambda x: remove_stopwords(x))\n",
        "df.Tweet.head(2)\n",
        "df['Tweet'][0]"
      ],
      "execution_count": null,
      "outputs": [
        {
          "output_type": "stream",
          "text": [
            "[nltk_data] Downloading package stopwords to /root/nltk_data...\n",
            "[nltk_data]   Unzipping corpora/stopwords.zip.\n"
          ],
          "name": "stdout"
        },
        {
          "output_type": "execute_result",
          "data": {
            "application/vnd.google.colaboratory.intrinsic+json": {
              "type": "string"
            },
            "text/plain": [
              "'seeing people walking crutches makes really excited next weeks life'"
            ]
          },
          "metadata": {
            "tags": []
          },
          "execution_count": 12
        }
      ]
    },
    {
      "cell_type": "markdown",
      "metadata": {
        "id": "JhdtcUEBgjVF"
      },
      "source": [
        "**Lemmatization**"
      ]
    },
    {
      "cell_type": "code",
      "metadata": {
        "colab": {
          "base_uri": "https://localhost:8080/",
          "height": 69
        },
        "id": "3-2rhyI9fKWf",
        "outputId": "e0d17948-863e-4196-fbef-8b91769a645a"
      },
      "source": [
        "nltk.download('wordnet')\n",
        "from nltk.corpus import wordnet\n",
        "from nltk.stem import WordNetLemmatizer\n",
        "def lemmatization(input_text):\n",
        "        words = input_text.split() \n",
        "        lemma = WordNetLemmatizer()\n",
        "        lemma_words = [lemma.lemmatize(i) for i in words]\n",
        "        return \" \".join(lemma_words)\n",
        "df[\"Tweet\"]= df.Tweet.apply(lambda x: lemmatization(x))\n",
        "df.Tweet.head(2)\n",
        "df['Tweet'][0]"
      ],
      "execution_count": null,
      "outputs": [
        {
          "output_type": "stream",
          "text": [
            "[nltk_data] Downloading package wordnet to /root/nltk_data...\n",
            "[nltk_data]   Unzipping corpora/wordnet.zip.\n"
          ],
          "name": "stdout"
        },
        {
          "output_type": "execute_result",
          "data": {
            "application/vnd.google.colaboratory.intrinsic+json": {
              "type": "string"
            },
            "text/plain": [
              "'seeing people walking crutch make really excited next week life'"
            ]
          },
          "metadata": {
            "tags": []
          },
          "execution_count": 13
        }
      ]
    },
    {
      "cell_type": "markdown",
      "metadata": {
        "id": "3gIbfUnpjty9"
      },
      "source": [
        "**TF-IDF Vectorizer for text**"
      ]
    },
    {
      "cell_type": "code",
      "metadata": {
        "id": "Pd0GDlocjsCr"
      },
      "source": [
        "\n",
        "from sklearn.feature_extraction.text import TfidfVectorizer\n",
        "X = df['Tweet']\n",
        "tfidf = TfidfVectorizer()\n",
        "X = tfidf.fit_transform(X)\n",
        "y = df.Irony\n"
      ],
      "execution_count": null,
      "outputs": []
    },
    {
      "cell_type": "markdown",
      "metadata": {
        "id": "jnfa_x9FhQ3z"
      },
      "source": [
        "**SVM Classification Train Dataset**"
      ]
    },
    {
      "cell_type": "code",
      "metadata": {
        "id": "2IyBeUXhebxm",
        "colab": {
          "base_uri": "https://localhost:8080/"
        },
        "outputId": "84df753e-1e61-4a19-993e-7b2ba178b8f2"
      },
      "source": [
        "from sklearn.model_selection import train_test_split\n",
        "from sklearn.model_selection import GridSearchCV\n",
        "import time\n",
        "from sklearn import svm\n",
        "from sklearn.svm import SVC  \n",
        "from sklearn.metrics import classification_report\n",
        "\n",
        "\n",
        "X_train, X_test, y_train, y_test = train_test_split(X, y, test_size=0.3, random_state=6)\n",
        "\n",
        "# defining parameter range\n",
        "param_grid = {'kernel':['rbf'] } \n",
        "  \n",
        "grid = GridSearchCV(svm.SVC(random_state=0), param_grid,verbose=1,n_jobs=-1)\n",
        "  \n",
        "# fitting the model for grid search\n",
        "grid.fit(X_train, y_train)\n",
        "print(grid.best_params_)\n",
        "print(grid.best_estimator_)\n",
        "grid_predictions = grid.predict(X_test)\n",
        "  \n",
        "# print classification report\n",
        "print(classification_report(y_test, grid_predictions))\n"
      ],
      "execution_count": null,
      "outputs": [
        {
          "output_type": "stream",
          "text": [
            "Fitting 5 folds for each of 1 candidates, totalling 5 fits\n"
          ],
          "name": "stdout"
        },
        {
          "output_type": "stream",
          "text": [
            "[Parallel(n_jobs=-1)]: Using backend LokyBackend with 2 concurrent workers.\n",
            "[Parallel(n_jobs=-1)]: Done   5 out of   5 | elapsed:    2.9s finished\n"
          ],
          "name": "stderr"
        },
        {
          "output_type": "stream",
          "text": [
            "{'kernel': 'rbf'}\n",
            "SVC(C=1.0, break_ties=False, cache_size=200, class_weight=None, coef0=0.0,\n",
            "    decision_function_shape='ovr', degree=3, gamma='scale', kernel='rbf',\n",
            "    max_iter=-1, probability=False, random_state=0, shrinking=True, tol=0.001,\n",
            "    verbose=False)\n",
            "              precision    recall  f1-score   support\n",
            "\n",
            "           0       0.57      0.76      0.65       410\n",
            "           1       0.69      0.48      0.57       449\n",
            "\n",
            "    accuracy                           0.61       859\n",
            "   macro avg       0.63      0.62      0.61       859\n",
            "weighted avg       0.63      0.61      0.61       859\n",
            "\n"
          ],
          "name": "stdout"
        }
      ]
    },
    {
      "cell_type": "markdown",
      "metadata": {
        "id": "1tORB7qIALfv"
      },
      "source": [
        "**Validation Dataset**\n",
        "\n",
        "\n"
      ]
    },
    {
      "cell_type": "code",
      "metadata": {
        "colab": {
          "base_uri": "https://localhost:8080/",
          "height": 262
        },
        "id": "iQgrXleV4M59",
        "outputId": "611c5258-8259-4976-cfbd-e0afe84fad9f"
      },
      "source": [
        "#Loading Val Dataset\n",
        "df_val1 = pd.read_fwf('https://raw.githubusercontent.com/cardiffnlp/tweeteval/main/datasets/irony/val_text.txt', header=None)\n",
        "df_val1.head()\n",
        "df_val1.columns\n",
        "df_val1.count\n",
        "print(df_val1.isnull().sum())\n",
        "print(df_val1.shape)\n",
        "df_val1=df_val1.rename(columns={0:\"Tweet\"})\n",
        "df_val1.head()\n",
        "df_val_labels=pd.read_fwf('https://raw.githubusercontent.com/cardiffnlp/tweeteval/main/datasets/irony/val_labels.txt', header=None)\n",
        "df_val_labels.head()\n",
        "print(df_val_labels.shape)\n",
        "df_val_labels=df_val_labels.rename(columns={0:\"Irony\"})\n",
        "df_val_labels.head()\n",
        "dfs=[df_val1,df_val_labels]\n",
        "df_val=pd.concat(dfs, axis=1, join=\"inner\")\n",
        "dfv=df_val\n",
        "df_val.head()"
      ],
      "execution_count": null,
      "outputs": [
        {
          "output_type": "stream",
          "text": [
            "0    0\n",
            "dtype: int64\n",
            "(955, 1)\n",
            "(955, 1)\n"
          ],
          "name": "stdout"
        },
        {
          "output_type": "execute_result",
          "data": {
            "text/html": [
              "<div>\n",
              "<style scoped>\n",
              "    .dataframe tbody tr th:only-of-type {\n",
              "        vertical-align: middle;\n",
              "    }\n",
              "\n",
              "    .dataframe tbody tr th {\n",
              "        vertical-align: top;\n",
              "    }\n",
              "\n",
              "    .dataframe thead th {\n",
              "        text-align: right;\n",
              "    }\n",
              "</style>\n",
              "<table border=\"1\" class=\"dataframe\">\n",
              "  <thead>\n",
              "    <tr style=\"text-align: right;\">\n",
              "      <th></th>\n",
              "      <th>Tweet</th>\n",
              "      <th>Irony</th>\n",
              "    </tr>\n",
              "  </thead>\n",
              "  <tbody>\n",
              "    <tr>\n",
              "      <th>0</th>\n",
              "      <td>#NBA players #NY support protests of #police k...</td>\n",
              "      <td>1</td>\n",
              "    </tr>\n",
              "    <tr>\n",
              "      <th>1</th>\n",
              "      <td>A new year about to start|So many people came ...</td>\n",
              "      <td>0</td>\n",
              "    </tr>\n",
              "    <tr>\n",
              "      <th>2</th>\n",
              "      <td>Obama's $1,176,120.90 in Taxpayer Funded Costs...</td>\n",
              "      <td>1</td>\n",
              "    </tr>\n",
              "    <tr>\n",
              "      <th>3</th>\n",
              "      <td>Can't wait to work with the dream team again t...</td>\n",
              "      <td>1</td>\n",
              "    </tr>\n",
              "    <tr>\n",
              "      <th>4</th>\n",
              "      <td>!!! RT @user Of all the places to get stuck in...</td>\n",
              "      <td>1</td>\n",
              "    </tr>\n",
              "  </tbody>\n",
              "</table>\n",
              "</div>"
            ],
            "text/plain": [
              "                                               Tweet  Irony\n",
              "0  #NBA players #NY support protests of #police k...      1\n",
              "1  A new year about to start|So many people came ...      0\n",
              "2  Obama's $1,176,120.90 in Taxpayer Funded Costs...      1\n",
              "3  Can't wait to work with the dream team again t...      1\n",
              "4  !!! RT @user Of all the places to get stuck in...      1"
            ]
          },
          "metadata": {
            "tags": []
          },
          "execution_count": 17
        }
      ]
    },
    {
      "cell_type": "markdown",
      "metadata": {
        "id": "sK64JaL9AwZm"
      },
      "source": [
        "**Preprocessing the validation Dataset by treating Slangs,Expanding Contractions, Cleaning text by removing punctuations,urls,hashtags etc.,Removing Emojis, lemmatizing and Removing Stopwords**\n",
        "\n",
        "---\n",
        "\n"
      ]
    },
    {
      "cell_type": "code",
      "metadata": {
        "colab": {
          "base_uri": "https://localhost:8080/",
          "height": 106
        },
        "id": "tHGHGWgV5P9m",
        "outputId": "1d828d18-33e5-42c7-b61e-f552d813115a"
      },
      "source": [
        "df_val['Tweet'] = df_val['Tweet'].apply(lambda x:treat_slangs(x,slangs_dict))\n",
        "df_val.head(2)"
      ],
      "execution_count": null,
      "outputs": [
        {
          "output_type": "execute_result",
          "data": {
            "text/html": [
              "<div>\n",
              "<style scoped>\n",
              "    .dataframe tbody tr th:only-of-type {\n",
              "        vertical-align: middle;\n",
              "    }\n",
              "\n",
              "    .dataframe tbody tr th {\n",
              "        vertical-align: top;\n",
              "    }\n",
              "\n",
              "    .dataframe thead th {\n",
              "        text-align: right;\n",
              "    }\n",
              "</style>\n",
              "<table border=\"1\" class=\"dataframe\">\n",
              "  <thead>\n",
              "    <tr style=\"text-align: right;\">\n",
              "      <th></th>\n",
              "      <th>Tweet</th>\n",
              "      <th>Irony</th>\n",
              "    </tr>\n",
              "  </thead>\n",
              "  <tbody>\n",
              "    <tr>\n",
              "      <th>0</th>\n",
              "      <td>#NBA players #NY support protests of #police k...</td>\n",
              "      <td>1</td>\n",
              "    </tr>\n",
              "    <tr>\n",
              "      <th>1</th>\n",
              "      <td>A new year about to start|So many people came ...</td>\n",
              "      <td>0</td>\n",
              "    </tr>\n",
              "  </tbody>\n",
              "</table>\n",
              "</div>"
            ],
            "text/plain": [
              "                                               Tweet  Irony\n",
              "0  #NBA players #NY support protests of #police k...      1\n",
              "1  A new year about to start|So many people came ...      0"
            ]
          },
          "metadata": {
            "tags": []
          },
          "execution_count": 18
        }
      ]
    },
    {
      "cell_type": "code",
      "metadata": {
        "colab": {
          "base_uri": "https://localhost:8080/",
          "height": 35
        },
        "id": "pp2A7nb15-rn",
        "outputId": "bb4c3104-dee5-42ac-85e2-01c3655cded1"
      },
      "source": [
        "df_val['Tweet']=df_val['Tweet'].apply(lambda x:expand_contractions(x))\n",
        "df_val['Tweet'][0]"
      ],
      "execution_count": null,
      "outputs": [
        {
          "output_type": "execute_result",
          "data": {
            "application/vnd.google.colaboratory.intrinsic+json": {
              "type": "string"
            },
            "text/plain": [
              "'#NBA players #NY support protests of #police killings/sure #money donations for #college Welcome back coming'"
            ]
          },
          "metadata": {
            "tags": []
          },
          "execution_count": 19
        }
      ]
    },
    {
      "cell_type": "code",
      "metadata": {
        "colab": {
          "base_uri": "https://localhost:8080/",
          "height": 35
        },
        "id": "9kur5c6a6eHz",
        "outputId": "0ca446fa-8439-4a0d-bf0a-e48678eec3ba"
      },
      "source": [
        "df_val[\"Tweet\"]= df_val.Tweet.apply(lambda x: clean_text(x))\n",
        "df_val['Tweet'][0]"
      ],
      "execution_count": null,
      "outputs": [
        {
          "output_type": "execute_result",
          "data": {
            "application/vnd.google.colaboratory.intrinsic+json": {
              "type": "string"
            },
            "text/plain": [
              "'nba players ny support protests of police killingssure money donations for college welcome back coming'"
            ]
          },
          "metadata": {
            "tags": []
          },
          "execution_count": 20
        }
      ]
    },
    {
      "cell_type": "code",
      "metadata": {
        "colab": {
          "base_uri": "https://localhost:8080/",
          "height": 35
        },
        "id": "B9H8Izng6lf0",
        "outputId": "2859448f-f583-401a-fcb1-a6fba88e6173"
      },
      "source": [
        "df_val[\"Tweet\"]= df_val.Tweet.apply(lambda x: deEmojify(x))\n",
        "df_val['Tweet'][0]"
      ],
      "execution_count": null,
      "outputs": [
        {
          "output_type": "execute_result",
          "data": {
            "application/vnd.google.colaboratory.intrinsic+json": {
              "type": "string"
            },
            "text/plain": [
              "'nba players ny support protests of police killingssure money donations for college welcome back coming'"
            ]
          },
          "metadata": {
            "tags": []
          },
          "execution_count": 21
        }
      ]
    },
    {
      "cell_type": "code",
      "metadata": {
        "colab": {
          "base_uri": "https://localhost:8080/",
          "height": 35
        },
        "id": "3Dqpas3B645d",
        "outputId": "21c21824-97ad-4e37-8b5e-5bb823fc8ce6"
      },
      "source": [
        "df_val[\"Tweet\"]= df_val.Tweet.apply(lambda x: remove_stopwords(x))\n",
        "df_val['Tweet'][0]"
      ],
      "execution_count": null,
      "outputs": [
        {
          "output_type": "execute_result",
          "data": {
            "application/vnd.google.colaboratory.intrinsic+json": {
              "type": "string"
            },
            "text/plain": [
              "'nba players ny support protests police killingssure money donations college welcome back coming'"
            ]
          },
          "metadata": {
            "tags": []
          },
          "execution_count": 22
        }
      ]
    },
    {
      "cell_type": "code",
      "metadata": {
        "colab": {
          "base_uri": "https://localhost:8080/",
          "height": 35
        },
        "id": "LG0tz_Hi7D6E",
        "outputId": "d7ae4950-1ceb-4e44-d8fa-d9ee0fb6352d"
      },
      "source": [
        "df_val[\"Tweet\"]= df_val.Tweet.apply(lambda x: lemmatization(x))\n",
        "df_val['Tweet'][0]"
      ],
      "execution_count": null,
      "outputs": [
        {
          "output_type": "execute_result",
          "data": {
            "application/vnd.google.colaboratory.intrinsic+json": {
              "type": "string"
            },
            "text/plain": [
              "'nba player ny support protest police killingssure money donation college welcome back coming'"
            ]
          },
          "metadata": {
            "tags": []
          },
          "execution_count": 23
        }
      ]
    },
    {
      "cell_type": "code",
      "metadata": {
        "colab": {
          "base_uri": "https://localhost:8080/"
        },
        "id": "gAKgLZjl7M6f",
        "outputId": "93eac73e-e352-4bb3-ca84-71c7362e5bcd"
      },
      "source": [
        "df_val[\"Irony\"].value_counts()"
      ],
      "execution_count": null,
      "outputs": [
        {
          "output_type": "execute_result",
          "data": {
            "text/plain": [
              "0    499\n",
              "1    456\n",
              "Name: Irony, dtype: int64"
            ]
          },
          "metadata": {
            "tags": []
          },
          "execution_count": 24
        }
      ]
    },
    {
      "cell_type": "markdown",
      "metadata": {
        "id": "RdMhu_7qBXkA"
      },
      "source": [
        "**Treating Imbalanced data using SMOTE**"
      ]
    },
    {
      "cell_type": "code",
      "metadata": {
        "id": "G7w1E5nS7TH2"
      },
      "source": [
        "from imblearn.over_sampling import SMOTE,RandomOverSampler\n",
        "from sklearn.feature_extraction.text import TfidfVectorizer\n",
        "Xv = df_val['Tweet']\n",
        "tfidf = TfidfVectorizer()\n",
        "Xv= tfidf.fit_transform(Xv)\n",
        "yv=df_val.Irony"
      ],
      "execution_count": null,
      "outputs": []
    },
    {
      "cell_type": "markdown",
      "metadata": {
        "id": "cXxyy3E1Bf79"
      },
      "source": [
        "**Hyperparameter tuning on Validation Dataset**"
      ]
    },
    {
      "cell_type": "code",
      "metadata": {
        "colab": {
          "base_uri": "https://localhost:8080/"
        },
        "id": "YeGop3YA78k2",
        "outputId": "b51ef6a7-bb46-471d-b2a8-1477f1e11b75"
      },
      "source": [
        "from sklearn.model_selection import train_test_split\n",
        "from sklearn.model_selection import GridSearchCV\n",
        "import time\n",
        "from sklearn import svm\n",
        "from sklearn.svm import SVC  \n",
        "from sklearn.metrics import classification_report\n",
        "\n",
        "\n",
        "X_trainv, X_testv, y_trainv, y_testv = train_test_split(Xv, yv, test_size=0.3, random_state=6)\n",
        "\n",
        "# defining parameter range\n",
        "param_grid = {'C': [0,0.01,0.1,0.8,1,1.2,10], \n",
        "              'gamma': [1, 0.1, 0.01, 0.001, 0.0001],\n",
        "              'kernel':['rbf'] } \n",
        "  \n",
        "grid = GridSearchCV(svm.SVC(random_state=0), param_grid,verbose=1,n_jobs=-1,cv = 10)\n",
        "  \n",
        "# fitting the model for grid search\n",
        "grid.fit(X_trainv, y_trainv)\n",
        "print(grid.best_params_)\n",
        "print(grid.best_estimator_)\n",
        "grid_predictions = grid.predict(X_testv)\n",
        "  \n",
        "# print classification report\n",
        "print(classification_report(y_testv, grid_predictions))"
      ],
      "execution_count": null,
      "outputs": [
        {
          "output_type": "stream",
          "text": [
            "Fitting 10 folds for each of 35 candidates, totalling 350 fits\n"
          ],
          "name": "stdout"
        },
        {
          "output_type": "stream",
          "text": [
            "[Parallel(n_jobs=-1)]: Using backend LokyBackend with 2 concurrent workers.\n",
            "[Parallel(n_jobs=-1)]: Done 316 tasks      | elapsed:    9.2s\n"
          ],
          "name": "stderr"
        },
        {
          "output_type": "stream",
          "text": [
            "{'C': 1.2, 'gamma': 1, 'kernel': 'rbf'}\n",
            "SVC(C=1.2, break_ties=False, cache_size=200, class_weight=None, coef0=0.0,\n",
            "    decision_function_shape='ovr', degree=3, gamma=1, kernel='rbf', max_iter=-1,\n",
            "    probability=False, random_state=0, shrinking=True, tol=0.001,\n",
            "    verbose=False)\n",
            "              precision    recall  f1-score   support\n",
            "\n",
            "           0       0.59      0.82      0.68       150\n",
            "           1       0.65      0.36      0.47       137\n",
            "\n",
            "    accuracy                           0.60       287\n",
            "   macro avg       0.62      0.59      0.58       287\n",
            "weighted avg       0.62      0.60      0.58       287\n",
            "\n"
          ],
          "name": "stdout"
        },
        {
          "output_type": "stream",
          "text": [
            "[Parallel(n_jobs=-1)]: Done 350 out of 350 | elapsed:   10.4s finished\n"
          ],
          "name": "stderr"
        }
      ]
    },
    {
      "cell_type": "markdown",
      "metadata": {
        "id": "eyE4fA_UB6bj"
      },
      "source": [
        "**Loading Test Data**"
      ]
    },
    {
      "cell_type": "code",
      "metadata": {
        "colab": {
          "base_uri": "https://localhost:8080/",
          "height": 262
        },
        "id": "21oab7SX9InQ",
        "outputId": "bd969dcb-8ec9-4fb1-e54d-4d0f7bfd1e47"
      },
      "source": [
        "#Loading Test Dataset\n",
        "df_test1 = pd.read_fwf('https://raw.githubusercontent.com/cardiffnlp/tweeteval/main/datasets/irony/test_text.txt', header=None)\n",
        "df_test1.head()\n",
        "df_test1.columns\n",
        "df_test1.count\n",
        "print(df_test1.isnull().sum())\n",
        "print(df_test1.shape)\n",
        "df_test1=df_test1.rename(columns={0:\"Tweet\"})\n",
        "df_test1.head()\n",
        "df_test_labels=pd.read_fwf('https://raw.githubusercontent.com/cardiffnlp/tweeteval/main/datasets/irony/test_labels.txt', header=None)\n",
        "df_test_labels.head()\n",
        "print(df_test_labels.shape)\n",
        "df_test_labels=df_test_labels.rename(columns={0:\"Irony\"})\n",
        "df_test_labels.head()\n",
        "dfs=[df_test1,df_test_labels]\n",
        "df_test=pd.concat(dfs, axis=1, join=\"inner\")\n",
        "dft=df_test\n",
        "df_test.head()"
      ],
      "execution_count": null,
      "outputs": [
        {
          "output_type": "stream",
          "text": [
            "0    0\n",
            "dtype: int64\n",
            "(784, 1)\n",
            "(784, 1)\n"
          ],
          "name": "stdout"
        },
        {
          "output_type": "execute_result",
          "data": {
            "text/html": [
              "<div>\n",
              "<style scoped>\n",
              "    .dataframe tbody tr th:only-of-type {\n",
              "        vertical-align: middle;\n",
              "    }\n",
              "\n",
              "    .dataframe tbody tr th {\n",
              "        vertical-align: top;\n",
              "    }\n",
              "\n",
              "    .dataframe thead th {\n",
              "        text-align: right;\n",
              "    }\n",
              "</style>\n",
              "<table border=\"1\" class=\"dataframe\">\n",
              "  <thead>\n",
              "    <tr style=\"text-align: right;\">\n",
              "      <th></th>\n",
              "      <th>Tweet</th>\n",
              "      <th>Irony</th>\n",
              "    </tr>\n",
              "  </thead>\n",
              "  <tbody>\n",
              "    <tr>\n",
              "      <th>0</th>\n",
              "      <td>@user Can U Help?||More conservatives needed o...</td>\n",
              "      <td>0</td>\n",
              "    </tr>\n",
              "    <tr>\n",
              "      <th>1</th>\n",
              "      <td>Just walked in to #Starbucks and asked for a \"...</td>\n",
              "      <td>1</td>\n",
              "    </tr>\n",
              "    <tr>\n",
              "      <th>2</th>\n",
              "      <td>#NOT GONNA WIN</td>\n",
              "      <td>0</td>\n",
              "    </tr>\n",
              "    <tr>\n",
              "      <th>3</th>\n",
              "      <td>@user He is exactly that sort of person. Weirdo!</td>\n",
              "      <td>0</td>\n",
              "    </tr>\n",
              "    <tr>\n",
              "      <th>4</th>\n",
              "      <td>So much #sarcasm at work mate 10/10 #boring 10...</td>\n",
              "      <td>1</td>\n",
              "    </tr>\n",
              "  </tbody>\n",
              "</table>\n",
              "</div>"
            ],
            "text/plain": [
              "                                               Tweet  Irony\n",
              "0  @user Can U Help?||More conservatives needed o...      0\n",
              "1  Just walked in to #Starbucks and asked for a \"...      1\n",
              "2                                     #NOT GONNA WIN      0\n",
              "3   @user He is exactly that sort of person. Weirdo!      0\n",
              "4  So much #sarcasm at work mate 10/10 #boring 10...      1"
            ]
          },
          "metadata": {
            "tags": []
          },
          "execution_count": 30
        }
      ]
    },
    {
      "cell_type": "markdown",
      "metadata": {
        "id": "UFg3hjsICQo-"
      },
      "source": [
        "**Preprocessing the validation Dataset by treating Slangs,Expanding Contractions, Cleaning text by removing punctuations,urls,hashtags etc.,Removing Emojis, lemmatizing and Removing Stopwords**\n",
        "\n",
        "---\n",
        "\n"
      ]
    },
    {
      "cell_type": "code",
      "metadata": {
        "colab": {
          "base_uri": "https://localhost:8080/",
          "height": 106
        },
        "id": "ybGS7aBD-POz",
        "outputId": "270c080e-dc3e-415c-d88b-4e452d43efff"
      },
      "source": [
        "df_test['Tweet'] = df_test['Tweet'].apply(lambda x:treat_slangs(x,slangs_dict))\n",
        "df_test.head(2)"
      ],
      "execution_count": null,
      "outputs": [
        {
          "output_type": "execute_result",
          "data": {
            "text/html": [
              "<div>\n",
              "<style scoped>\n",
              "    .dataframe tbody tr th:only-of-type {\n",
              "        vertical-align: middle;\n",
              "    }\n",
              "\n",
              "    .dataframe tbody tr th {\n",
              "        vertical-align: top;\n",
              "    }\n",
              "\n",
              "    .dataframe thead th {\n",
              "        text-align: right;\n",
              "    }\n",
              "</style>\n",
              "<table border=\"1\" class=\"dataframe\">\n",
              "  <thead>\n",
              "    <tr style=\"text-align: right;\">\n",
              "      <th></th>\n",
              "      <th>Tweet</th>\n",
              "      <th>Irony</th>\n",
              "    </tr>\n",
              "  </thead>\n",
              "  <tbody>\n",
              "    <tr>\n",
              "      <th>0</th>\n",
              "      <td>@user Can U Help?||More conservatives needed o...</td>\n",
              "      <td>0</td>\n",
              "    </tr>\n",
              "    <tr>\n",
              "      <th>1</th>\n",
              "      <td>Just walked in to #Starbucks and asked for a \"...</td>\n",
              "      <td>1</td>\n",
              "    </tr>\n",
              "  </tbody>\n",
              "</table>\n",
              "</div>"
            ],
            "text/plain": [
              "                                               Tweet  Irony\n",
              "0  @user Can U Help?||More conservatives needed o...      0\n",
              "1  Just walked in to #Starbucks and asked for a \"...      1"
            ]
          },
          "metadata": {
            "tags": []
          },
          "execution_count": 31
        }
      ]
    },
    {
      "cell_type": "code",
      "metadata": {
        "colab": {
          "base_uri": "https://localhost:8080/",
          "height": 35
        },
        "id": "jdPw8Fry-Zw4",
        "outputId": "57f173da-e186-4fbc-a8fe-f0fd8942218c"
      },
      "source": [
        "df_test['Tweet']=df_test['Tweet'].apply(lambda x:expand_contractions(x))\n",
        "df_test['Tweet'][0]"
      ],
      "execution_count": null,
      "outputs": [
        {
          "output_type": "execute_result",
          "data": {
            "application/vnd.google.colaboratory.intrinsic+json": {
              "type": "string"
            },
            "text/plain": [
              "'@user Can U Help?||More conservatives needed on #TSU + get paid Short for “for” in SMS posting stuff like this!||YOU $ can go to'"
            ]
          },
          "metadata": {
            "tags": []
          },
          "execution_count": 32
        }
      ]
    },
    {
      "cell_type": "code",
      "metadata": {
        "colab": {
          "base_uri": "https://localhost:8080/",
          "height": 35
        },
        "id": "5PIN2IdR-ivj",
        "outputId": "93fb576e-9d25-4364-eebd-86046a7efcf7"
      },
      "source": [
        "df_test[\"Tweet\"]= df_test.Tweet.apply(lambda x: clean_text(x))\n",
        "df_test['Tweet'][0]"
      ],
      "execution_count": null,
      "outputs": [
        {
          "output_type": "execute_result",
          "data": {
            "application/vnd.google.colaboratory.intrinsic+json": {
              "type": "string"
            },
            "text/plain": [
              "' can u helpmore conservatives needed on tsu  get paid short for “for” in sms posting stuff like thisyou  can go to'"
            ]
          },
          "metadata": {
            "tags": []
          },
          "execution_count": 33
        }
      ]
    },
    {
      "cell_type": "code",
      "metadata": {
        "colab": {
          "base_uri": "https://localhost:8080/",
          "height": 35
        },
        "id": "xtBtKoVx-rIL",
        "outputId": "43d8ea45-f8f8-444b-8d23-eb753f5d952c"
      },
      "source": [
        "df_test[\"Tweet\"]= df_test.Tweet.apply(lambda x: deEmojify(x))\n",
        "df_test['Tweet'][0]"
      ],
      "execution_count": null,
      "outputs": [
        {
          "output_type": "execute_result",
          "data": {
            "application/vnd.google.colaboratory.intrinsic+json": {
              "type": "string"
            },
            "text/plain": [
              "' can u helpmore conservatives needed on tsu  get paid short for “for” in sms posting stuff like thisyou  can go to'"
            ]
          },
          "metadata": {
            "tags": []
          },
          "execution_count": 34
        }
      ]
    },
    {
      "cell_type": "code",
      "metadata": {
        "colab": {
          "base_uri": "https://localhost:8080/",
          "height": 35
        },
        "id": "Op_TCB3--xP-",
        "outputId": "fb12255f-429a-4662-ed83-c9308c0fff39"
      },
      "source": [
        "df_test[\"Tweet\"]= df_test.Tweet.apply(lambda x: remove_stopwords(x))\n",
        "df_test['Tweet'][0]"
      ],
      "execution_count": null,
      "outputs": [
        {
          "output_type": "execute_result",
          "data": {
            "application/vnd.google.colaboratory.intrinsic+json": {
              "type": "string"
            },
            "text/plain": [
              "'helpmore conservatives needed tsu get paid short “for” sms posting stuff like thisyou go'"
            ]
          },
          "metadata": {
            "tags": []
          },
          "execution_count": 35
        }
      ]
    },
    {
      "cell_type": "code",
      "metadata": {
        "colab": {
          "base_uri": "https://localhost:8080/",
          "height": 35
        },
        "id": "uCZTcosQ-2P4",
        "outputId": "97a77eef-84de-4944-d37f-3f7ec7defc0a"
      },
      "source": [
        "df_test[\"Tweet\"]= df_test.Tweet.apply(lambda x: lemmatization(x))\n",
        "df_test['Tweet'][0]"
      ],
      "execution_count": null,
      "outputs": [
        {
          "output_type": "execute_result",
          "data": {
            "application/vnd.google.colaboratory.intrinsic+json": {
              "type": "string"
            },
            "text/plain": [
              "'helpmore conservative needed tsu get paid short “for” sm posting stuff like thisyou go'"
            ]
          },
          "metadata": {
            "tags": []
          },
          "execution_count": 36
        }
      ]
    },
    {
      "cell_type": "code",
      "metadata": {
        "colab": {
          "base_uri": "https://localhost:8080/"
        },
        "id": "wWz-k2Z8-7b2",
        "outputId": "de58234c-94ed-48c1-fa8d-e085bcb01350"
      },
      "source": [
        "df_test[\"Irony\"].value_counts()"
      ],
      "execution_count": null,
      "outputs": [
        {
          "output_type": "execute_result",
          "data": {
            "text/plain": [
              "0    473\n",
              "1    311\n",
              "Name: Irony, dtype: int64"
            ]
          },
          "metadata": {
            "tags": []
          },
          "execution_count": 37
        }
      ]
    },
    {
      "cell_type": "code",
      "metadata": {
        "id": "YRN8cmJg_Asz"
      },
      "source": [
        "\n",
        "from sklearn.feature_extraction.text import TfidfVectorizer\n",
        "Xt = df_test['Tweet']\n",
        "tfidf = TfidfVectorizer()\n",
        "Xt= tfidf.fit_transform(Xt)\n",
        "yt = df_test.Irony\n"
      ],
      "execution_count": null,
      "outputs": []
    },
    {
      "cell_type": "code",
      "metadata": {
        "colab": {
          "base_uri": "https://localhost:8080/"
        },
        "id": "tjaCuHwn_HON",
        "outputId": "01bfc867-d2bc-417c-d38d-064ce33bc745"
      },
      "source": [
        "from sklearn.model_selection import train_test_split\n",
        "from sklearn.model_selection import GridSearchCV\n",
        "import time\n",
        "from sklearn import svm\n",
        "from sklearn.svm import SVC  \n",
        "from sklearn.metrics import classification_report\n",
        "\n",
        "\n",
        "X_traint, X_testt, y_traint, y_testt = train_test_split(Xt, yt, test_size=0.3, random_state=6)\n",
        "\n",
        "# defining parameter range\n",
        "param_grid = {'kernel':['rbf'] } \n",
        "\n",
        "grid = GridSearchCV(svm.SVC(C=1.2, gamma=1,random_state=0), param_grid,n_jobs=-1)\n",
        "  \n",
        "# fitting the model for grid search\n",
        "grid.fit(X_traint, y_traint)\n",
        "print(grid.best_params_)\n",
        "print(grid.best_estimator_)\n",
        "grid_predictions = grid.predict(X_testt)\n",
        "  \n",
        "# print classification report\n",
        "print(classification_report(y_testt, grid_predictions))"
      ],
      "execution_count": null,
      "outputs": [
        {
          "output_type": "stream",
          "text": [
            "{'kernel': 'rbf'}\n",
            "SVC(C=1.2, break_ties=False, cache_size=200, class_weight=None, coef0=0.0,\n",
            "    decision_function_shape='ovr', degree=3, gamma=1, kernel='rbf', max_iter=-1,\n",
            "    probability=False, random_state=0, shrinking=True, tol=0.001,\n",
            "    verbose=False)\n",
            "              precision    recall  f1-score   support\n",
            "\n",
            "           0       0.74      0.96      0.83       146\n",
            "           1       0.87      0.44      0.59        90\n",
            "\n",
            "    accuracy                           0.76       236\n",
            "   macro avg       0.80      0.70      0.71       236\n",
            "weighted avg       0.79      0.76      0.74       236\n",
            "\n"
          ],
          "name": "stdout"
        }
      ]
    },
    {
      "cell_type": "code",
      "metadata": {
        "id": "6BgPx1Xr_hbN"
      },
      "source": [
        ""
      ],
      "execution_count": null,
      "outputs": []
    }
  ]
}