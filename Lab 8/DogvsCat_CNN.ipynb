{
  "nbformat": 4,
  "nbformat_minor": 0,
  "metadata": {
    "colab": {
      "name": "DogvsCat_CNN.ipynb",
      "provenance": [],
      "collapsed_sections": [],
      "include_colab_link": true
    },
    "kernelspec": {
      "name": "python3",
      "display_name": "Python 3"
    },
    "accelerator": "GPU"
  },
  "cells": [
    {
      "cell_type": "markdown",
      "metadata": {
        "id": "view-in-github",
        "colab_type": "text"
      },
      "source": [
        "<a href=\"https://colab.research.google.com/github/heerakesavan/CE888-Data-Science-and-Decision-making/blob/Master/Lab%208/DogvsCat_CNN.ipynb\" target=\"_parent\"><img src=\"https://colab.research.google.com/assets/colab-badge.svg\" alt=\"Open In Colab\"/></a>"
      ]
    },
    {
      "cell_type": "markdown",
      "metadata": {
        "id": "qTh9DiKVslsJ"
      },
      "source": [
        "## Dogs vs. Cats \n",
        "\n",
        "In this competition, you'll write an algorithm to classify whether images contain either a dog or a cat.  This is easy for humans, dogs, and cats. Your computer will find it a bit more difficult.\n",
        "\n",
        "![alt text](https://miro.medium.com/max/3000/1*bhFifratH9DjKqMBTeQG5A.gif)\n",
        "\n",
        "Ref: https://medium.com/@thegrigorian/rolling-in-the-deep-cnn-c8d3f7108c8c"
      ]
    },
    {
      "cell_type": "markdown",
      "metadata": {
        "id": "RSBI-_mSSY1g"
      },
      "source": [
        "Get your API Key from Kaggle using following steps:\n",
        "1. Login to [Kaggle](https://www.kaggle.com/) or Register if you don't have account\n",
        "2. Open Dataset (https://www.kaggle.com/c/dogs-vs-cats/rules) and accept terms and condition. \n",
        "3. On the top right corner click on your Icon and go to accounts and press a button \"Create New API Token\". It will download a JSON file containing your username and key. \n",
        "4. Now, paste both below. \n"
      ]
    },
    {
      "cell_type": "code",
      "metadata": {
        "colab": {
          "base_uri": "https://localhost:8080/"
        },
        "id": "M8XrPk-mq0bC",
        "outputId": "e48cae2b-9365-4e0c-9bb9-718db0bf2e56"
      },
      "source": [
        "!pip install --upgrade --force-reinstall --no-deps kaggle"
      ],
      "execution_count": 1,
      "outputs": [
        {
          "output_type": "stream",
          "text": [
            "Processing /root/.cache/pip/wheels/a1/6a/26/d30b7499ff85a4a4593377a87ecf55f7d08af42f0de9b60303/kaggle-1.5.12-cp37-none-any.whl\n",
            "Installing collected packages: kaggle\n",
            "  Found existing installation: kaggle 1.5.12\n",
            "    Uninstalling kaggle-1.5.12:\n",
            "      Successfully uninstalled kaggle-1.5.12\n",
            "Successfully installed kaggle-1.5.12\n"
          ],
          "name": "stdout"
        }
      ]
    },
    {
      "cell_type": "code",
      "metadata": {
        "id": "YmXSOc0tZIGA",
        "colab": {
          "base_uri": "https://localhost:8080/"
        },
        "outputId": "47d8b05d-d4b3-4128-af95-f7f0845dfb84"
      },
      "source": [
        "import os\n",
        "os.environ['KAGGLE_USERNAME'] = \"heerakesavan\" # username from the json file\n",
        "os.environ['KAGGLE_KEY'] = \"3e2aa82528bd5815023dee5069cfa30c\" # key from the json file\n",
        "!kaggle competitions download -c dogs-vs-cats # api copied from kaggle (https://www.kaggle.com/c/dogs-vs-cats/data)"
      ],
      "execution_count": 2,
      "outputs": [
        {
          "output_type": "stream",
          "text": [
            "dogs-vs-cats.zip: Skipping, found more recently modified local copy (use --force to force download)\n"
          ],
          "name": "stdout"
        }
      ]
    },
    {
      "cell_type": "code",
      "metadata": {
        "id": "PiwIL8d1n7eS",
        "colab": {
          "base_uri": "https://localhost:8080/"
        },
        "outputId": "72c3dbc8-044b-4ba4-8496-2f0b25672e33"
      },
      "source": [
        "\n",
        "# Unzip training data\n",
        "from zipfile import ZipFile\n",
        "file_name = \"/content/train.zip\"\n",
        "with ZipFile(file_name, 'r') as zip:\n",
        "  zip.extractall()\n",
        "  print('done')"
      ],
      "execution_count": 6,
      "outputs": [
        {
          "output_type": "stream",
          "text": [
            "done\n"
          ],
          "name": "stdout"
        }
      ]
    },
    {
      "cell_type": "code",
      "metadata": {
        "id": "sa2Bj5i7pPKV",
        "colab": {
          "base_uri": "https://localhost:8080/"
        },
        "outputId": "877873c0-ac79-4f1f-b315-f9a38d5f6f40"
      },
      "source": [
        "# Get all the paths\n",
        "data_dir_list = os.listdir('/content/train')\n",
        "#print(data_dir_list)\n",
        "path, dirs, files = next(os.walk(\"/content/train\"))\n",
        "file_count = len(files)\n",
        "print(file_count)\n"
      ],
      "execution_count": 7,
      "outputs": [
        {
          "output_type": "stream",
          "text": [
            "25000\n"
          ],
          "name": "stdout"
        }
      ]
    },
    {
      "cell_type": "code",
      "metadata": {
        "id": "0ERlHkfHqpK8"
      },
      "source": [
        "# Make new base directory\n",
        "original_dataset_dir = '/content/train'\n",
        "base_dir = '/content/cats_and_dogs_small'\n",
        "os.mkdir(base_dir)"
      ],
      "execution_count": 8,
      "outputs": []
    },
    {
      "cell_type": "code",
      "metadata": {
        "id": "AANB1UJ6rQhM"
      },
      "source": [
        "train_dir = os.path.join(base_dir, 'train')\n",
        "os.mkdir(train_dir)\n",
        "\n",
        "validation_dir = os.path.join(base_dir, 'validation')\n",
        "os.mkdir(validation_dir)\n",
        "\n",
        "test_dir = os.path.join(base_dir, 'test')\n",
        "os.mkdir(test_dir)\n",
        "\n",
        "train_cats_dir = os.path.join(train_dir, 'cats')\n",
        "os.mkdir(train_cats_dir)\n",
        "\n",
        "train_dogs_dir = os.path.join(train_dir, 'dogs')\n",
        "os.mkdir(train_dogs_dir)\n",
        "\n",
        "validation_cats_dir = os.path.join(validation_dir, 'cats')\n",
        "os.mkdir(validation_cats_dir)\n",
        "\n",
        "validation_dogs_dir = os.path.join(validation_dir, 'dogs')\n",
        "os.mkdir(validation_dogs_dir)\n",
        "\n",
        "test_cats_dir = os.path.join(test_dir, 'cats')\n",
        "os.mkdir(test_cats_dir)\n",
        "\n",
        "test_dogs_dir = os.path.join(test_dir, 'dogs')\n",
        "os.mkdir(test_dogs_dir)"
      ],
      "execution_count": 9,
      "outputs": []
    },
    {
      "cell_type": "code",
      "metadata": {
        "id": "ULRgL9s9rV8T"
      },
      "source": [
        "import shutil\n",
        "fnames = ['cat.{}.jpg'.format(i) for i in range(1000)]\n",
        "for fname in fnames:\n",
        "    src = os.path.join(original_dataset_dir, fname)\n",
        "    dst = os.path.join(train_cats_dir, fname)\n",
        "    #print(src,dst)\n",
        "    shutil.copyfile(src, dst)\n",
        "    \n",
        "fnames = ['cat.{}.jpg'.format(i) for i in range(1000, 1500)]\n",
        "for fname in fnames:\n",
        "    src = os.path.join(original_dataset_dir, fname)\n",
        "    dst = os.path.join(validation_cats_dir, fname)\n",
        "    shutil.copyfile(src, dst)\n",
        "\n",
        "fnames = ['cat.{}.jpg'.format(i) for i in range(1500, 2000)]\n",
        "for fname in fnames:\n",
        "    src = os.path.join(original_dataset_dir, fname)\n",
        "    dst = os.path.join(test_cats_dir, fname)\n",
        "    shutil.copyfile(src, dst)\n",
        "    \n",
        "fnames = ['dog.{}.jpg'.format(i) for i in range(1000)]\n",
        "for fname in fnames:\n",
        "    src = os.path.join(original_dataset_dir, fname)\n",
        "    dst = os.path.join(train_dogs_dir, fname)\n",
        "    shutil.copyfile(src, dst)\n",
        "\n",
        "fnames = ['dog.{}.jpg'.format(i) for i in range(1000, 1500)]\n",
        "for fname in fnames:\n",
        "    src = os.path.join(original_dataset_dir, fname)\n",
        "    dst = os.path.join(validation_dogs_dir, fname)\n",
        "    shutil.copyfile(src, dst)\n",
        "\n",
        "fnames = ['dog.{}.jpg'.format(i) for i in range(1500, 2000)]\n",
        "for fname in fnames:\n",
        "    src = os.path.join(original_dataset_dir, fname)\n",
        "    dst = os.path.join(test_dogs_dir, fname)\n",
        "    shutil.copyfile(src, dst)"
      ],
      "execution_count": 10,
      "outputs": []
    },
    {
      "cell_type": "code",
      "metadata": {
        "id": "ul3XAbIyr7vC",
        "colab": {
          "base_uri": "https://localhost:8080/"
        },
        "outputId": "52fde7d1-0c16-4699-fbe4-669f04c17b2d"
      },
      "source": [
        "print('total training cat images:', len(os.listdir(train_cats_dir)))\n",
        "print('total training dog images:', len(os.listdir(train_dogs_dir)))\n",
        "print('total validation cat images:', len(os.listdir(validation_cats_dir)))\n",
        "\n",
        "print('total validation dog images:', len(os.listdir(validation_dogs_dir)))\n",
        "print('total test cat images:', len(os.listdir(test_cats_dir)))\n",
        "print('total test dog images:', len(os.listdir(test_dogs_dir)))"
      ],
      "execution_count": 11,
      "outputs": [
        {
          "output_type": "stream",
          "text": [
            "total training cat images: 1000\n",
            "total training dog images: 1000\n",
            "total validation cat images: 500\n",
            "total validation dog images: 500\n",
            "total test cat images: 500\n",
            "total test dog images: 500\n"
          ],
          "name": "stdout"
        }
      ]
    },
    {
      "cell_type": "code",
      "metadata": {
        "id": "o9yTA21_r-ma",
        "colab": {
          "base_uri": "https://localhost:8080/"
        },
        "outputId": "6e6c7936-de06-430d-d1ee-ea2b1f9b950b"
      },
      "source": [
        "from keras import layers\n",
        "from keras import models\n",
        "\n",
        "model = models.Sequential()\n",
        "model.add(layers.Conv2D(32, (3, 3), activation='relu', input_shape=(150, 150, 3)))\n",
        "model.add(layers.MaxPooling2D((2, 2)))\n",
        "model.add(layers.Conv2D(64, (3, 3), activation='relu'))\n",
        "model.add(layers.MaxPooling2D((2, 2)))\n",
        "model.add(layers.Conv2D(128, (3, 3), activation='relu'))\n",
        "model.add(layers.MaxPooling2D((2, 2)))\n",
        "model.add(layers.Conv2D(128, (3, 3), activation='relu'))\n",
        "model.add(layers.MaxPooling2D((2, 2)))\n",
        "model.add(layers.Flatten())\n",
        "model.add(layers.Dense(512, activation='relu'))\n",
        "model.add(layers.Dense(1, activation='sigmoid'))\n",
        "model.summary()"
      ],
      "execution_count": 12,
      "outputs": [
        {
          "output_type": "stream",
          "text": [
            "Model: \"sequential\"\n",
            "_________________________________________________________________\n",
            "Layer (type)                 Output Shape              Param #   \n",
            "=================================================================\n",
            "conv2d (Conv2D)              (None, 148, 148, 32)      896       \n",
            "_________________________________________________________________\n",
            "max_pooling2d (MaxPooling2D) (None, 74, 74, 32)        0         \n",
            "_________________________________________________________________\n",
            "conv2d_1 (Conv2D)            (None, 72, 72, 64)        18496     \n",
            "_________________________________________________________________\n",
            "max_pooling2d_1 (MaxPooling2 (None, 36, 36, 64)        0         \n",
            "_________________________________________________________________\n",
            "conv2d_2 (Conv2D)            (None, 34, 34, 128)       73856     \n",
            "_________________________________________________________________\n",
            "max_pooling2d_2 (MaxPooling2 (None, 17, 17, 128)       0         \n",
            "_________________________________________________________________\n",
            "conv2d_3 (Conv2D)            (None, 15, 15, 128)       147584    \n",
            "_________________________________________________________________\n",
            "max_pooling2d_3 (MaxPooling2 (None, 7, 7, 128)         0         \n",
            "_________________________________________________________________\n",
            "flatten (Flatten)            (None, 6272)              0         \n",
            "_________________________________________________________________\n",
            "dense (Dense)                (None, 512)               3211776   \n",
            "_________________________________________________________________\n",
            "dense_1 (Dense)              (None, 1)                 513       \n",
            "=================================================================\n",
            "Total params: 3,453,121\n",
            "Trainable params: 3,453,121\n",
            "Non-trainable params: 0\n",
            "_________________________________________________________________\n"
          ],
          "name": "stdout"
        }
      ]
    },
    {
      "cell_type": "code",
      "metadata": {
        "id": "2mG8wekxsBVS"
      },
      "source": [
        "from keras import optimizers\n",
        "model.compile(loss='binary_crossentropy', \n",
        "              optimizer=optimizers.RMSprop(lr=1e-4),\n",
        "              metrics=['acc'])"
      ],
      "execution_count": 13,
      "outputs": []
    },
    {
      "cell_type": "markdown",
      "metadata": {
        "id": "7zS4Klm8qWp6"
      },
      "source": [
        "## Using ImageDataGenerator to read images from directories\n",
        "As you know by now, data should be formatted into appropriately preprocessed floatingpoint tensors before being fed into the network. Currently, the data sits on a drive as JPEG files, so the steps for getting it into the network are roughly as follows:\n",
        "\n",
        "* Read the picture files.\n",
        "* Decode the JPEG content to RGB grids of pixels.\n",
        "* Convert these into floating-point tensors.\n",
        "* Rescale the pixel values (between 0 and 255) to the [0, 1] interval (as you know, neural networks prefer to deal with small input values).\n",
        "\n",
        "It may seem a bit daunting, but fortunately Keras has utilities to take care of these steps automatically. Keras has a module with image-processing helper tools, located at keras.preprocessing.image. In particular, it contains the class ImageDataGenerator,which lets you quickly set up Python generators that can automatically turn image files on disk into batches of preprocessed tensors."
      ]
    },
    {
      "cell_type": "code",
      "metadata": {
        "colab": {
          "base_uri": "https://localhost:8080/"
        },
        "id": "I-v4m6uOzXZH",
        "outputId": "b666f67a-fc54-46a9-b599-0ca17d8119a4"
      },
      "source": [
        "pip install image-generator"
      ],
      "execution_count": 14,
      "outputs": [
        {
          "output_type": "stream",
          "text": [
            "Collecting image-generator\n",
            "  Downloading https://files.pythonhosted.org/packages/18/b3/58765a9ac4a4cfd274518904dd985dc7559bc9cf2944281661bfd037d9bf/image_generator-1.1.3-py2.py3-none-any.whl\n",
            "Collecting pyopenssl\n",
            "\u001b[?25l  Downloading https://files.pythonhosted.org/packages/b2/5e/06351ede29fd4899782ad335c2e02f1f862a887c20a3541f17c3fa1a3525/pyOpenSSL-20.0.1-py2.py3-none-any.whl (54kB)\n",
            "\u001b[K     |████████████████████████████████| 61kB 3.0MB/s \n",
            "\u001b[?25hRequirement already satisfied: pyyaml in /usr/local/lib/python3.7/dist-packages (from image-generator) (3.13)\n",
            "Collecting pylxd\n",
            "\u001b[?25l  Downloading https://files.pythonhosted.org/packages/1b/94/066ce52e331ec2b93a9fb489bffa458794f7a26bcae0c574e5eac0515b6c/pylxd-2.3.0.tar.gz (77kB)\n",
            "\u001b[K     |████████████████████████████████| 81kB 3.8MB/s \n",
            "\u001b[?25hCollecting progress\n",
            "  Downloading https://files.pythonhosted.org/packages/38/ef/2e887b3d2b248916fc2121889ce68af8a16aaddbe82f9ae6533c24ff0d2b/progress-1.5.tar.gz\n",
            "Collecting cryptography>=3.2\n",
            "\u001b[?25l  Downloading https://files.pythonhosted.org/packages/b2/26/7af637e6a7e87258b963f1731c5982fb31cd507f0d90d91836e446955d02/cryptography-3.4.7-cp36-abi3-manylinux2014_x86_64.whl (3.2MB)\n",
            "\u001b[K     |████████████████████████████████| 3.2MB 7.0MB/s \n",
            "\u001b[?25hRequirement already satisfied: six>=1.5.2 in /usr/local/lib/python3.7/dist-packages (from pyopenssl->image-generator) (1.15.0)\n",
            "Requirement already satisfied: python-dateutil>=2.4.2 in /usr/local/lib/python3.7/dist-packages (from pylxd->image-generator) (2.8.1)\n",
            "Requirement already satisfied: requests>=2.20.0 in /usr/local/lib/python3.7/dist-packages (from pylxd->image-generator) (2.23.0)\n",
            "Collecting requests-toolbelt>=0.8.0\n",
            "\u001b[?25l  Downloading https://files.pythonhosted.org/packages/60/ef/7681134338fc097acef8d9b2f8abe0458e4d87559c689a8c306d0957ece5/requests_toolbelt-0.9.1-py2.py3-none-any.whl (54kB)\n",
            "\u001b[K     |████████████████████████████████| 61kB 7.6MB/s \n",
            "\u001b[?25hCollecting requests-unixsocket>=0.1.5\n",
            "  Downloading https://files.pythonhosted.org/packages/d0/63/97662a6f7175c08381447a09f6bc35464075f0ea6549cf6daf2668b51f04/requests_unixsocket-0.2.0-py2.py3-none-any.whl\n",
            "Collecting ws4py!=0.3.5,>=0.3.4\n",
            "\u001b[?25l  Downloading https://files.pythonhosted.org/packages/53/20/4019a739b2eefe9282d3822ef6a225250af964b117356971bd55e274193c/ws4py-0.5.1.tar.gz (51kB)\n",
            "\u001b[K     |████████████████████████████████| 61kB 7.1MB/s \n",
            "\u001b[?25hRequirement already satisfied: cffi>=1.12 in /usr/local/lib/python3.7/dist-packages (from cryptography>=3.2->pyopenssl->image-generator) (1.14.5)\n",
            "Requirement already satisfied: chardet<4,>=3.0.2 in /usr/local/lib/python3.7/dist-packages (from requests>=2.20.0->pylxd->image-generator) (3.0.4)\n",
            "Requirement already satisfied: idna<3,>=2.5 in /usr/local/lib/python3.7/dist-packages (from requests>=2.20.0->pylxd->image-generator) (2.10)\n",
            "Requirement already satisfied: certifi>=2017.4.17 in /usr/local/lib/python3.7/dist-packages (from requests>=2.20.0->pylxd->image-generator) (2020.12.5)\n",
            "Requirement already satisfied: urllib3!=1.25.0,!=1.25.1,<1.26,>=1.21.1 in /usr/local/lib/python3.7/dist-packages (from requests>=2.20.0->pylxd->image-generator) (1.24.3)\n",
            "Requirement already satisfied: pycparser in /usr/local/lib/python3.7/dist-packages (from cffi>=1.12->cryptography>=3.2->pyopenssl->image-generator) (2.20)\n",
            "Building wheels for collected packages: pylxd, progress, ws4py\n",
            "  Building wheel for pylxd (setup.py) ... \u001b[?25l\u001b[?25hdone\n",
            "  Created wheel for pylxd: filename=pylxd-2.3.0-cp37-none-any.whl size=120634 sha256=0d9f8c8eb4ac7748d5d37c07ed6609ed5062d43f79f9888b2bdd5d7761ee9f90\n",
            "  Stored in directory: /root/.cache/pip/wheels/3d/70/f3/ac55cd0d46fcc2e3d8bda47633f2e60ccbdf17e1c1ea0a6de7\n",
            "  Building wheel for progress (setup.py) ... \u001b[?25l\u001b[?25hdone\n",
            "  Created wheel for progress: filename=progress-1.5-cp37-none-any.whl size=8074 sha256=5b3cbe389f0118f057005172b44ab8fb2114cf3ac270e95f60c44b5a593f5b91\n",
            "  Stored in directory: /root/.cache/pip/wheels/6c/c8/80/32a294e3041f006c661838c05a411c7b7ffc60ff939d14e116\n",
            "  Building wheel for ws4py (setup.py) ... \u001b[?25l\u001b[?25hdone\n",
            "  Created wheel for ws4py: filename=ws4py-0.5.1-cp37-none-any.whl size=45216 sha256=01883350d31bdde43fcc68642a553a960fbf915d09c456a6604909744cab0adb\n",
            "  Stored in directory: /root/.cache/pip/wheels/a2/6e/4e/8b0ae12fb9b8a05715256952cf7609a8ab86285fab99b88c68\n",
            "Successfully built pylxd progress ws4py\n",
            "Installing collected packages: cryptography, pyopenssl, requests-toolbelt, requests-unixsocket, ws4py, pylxd, progress, image-generator\n",
            "Successfully installed cryptography-3.4.7 image-generator-1.1.3 progress-1.5 pylxd-2.3.0 pyopenssl-20.0.1 requests-toolbelt-0.9.1 requests-unixsocket-0.2.0 ws4py-0.5.1\n"
          ],
          "name": "stdout"
        }
      ]
    },
    {
      "cell_type": "code",
      "metadata": {
        "id": "XJ7XU7t9sEh6",
        "colab": {
          "base_uri": "https://localhost:8080/"
        },
        "outputId": "b55d885e-2096-4266-a91b-64fdd23fd7a8"
      },
      "source": [
        "from keras.preprocessing.image import ImageDataGenerator\n",
        "\n",
        "train_datagen = ImageDataGenerator(rescale=1./255)\n",
        "test_datagen = ImageDataGenerator(rescale=1./255)\n",
        "\n",
        "train_generator = train_datagen.flow_from_directory(train_dir,\n",
        "                                                    target_size=(150, 150), \n",
        "                                                    batch_size=20,\n",
        "                                                    class_mode='binary')\n",
        "\n",
        "validation_generator = test_datagen.flow_from_directory(validation_dir,\n",
        "                                                        target_size=(150, 150),\n",
        "                                                        batch_size=20,\n",
        "                                                        class_mode='binary')"
      ],
      "execution_count": 15,
      "outputs": [
        {
          "output_type": "stream",
          "text": [
            "Found 2000 images belonging to 2 classes.\n",
            "Found 1000 images belonging to 2 classes.\n"
          ],
          "name": "stdout"
        }
      ]
    },
    {
      "cell_type": "markdown",
      "metadata": {
        "id": "SEgLywySqm4u"
      },
      "source": [
        "Let’s fit the model to the data using the generator. You do so using the fit_generator method, the equivalent of fit for data generators like this one. It expects as its first argument a Python generator that will yield batches of inputs and targets indefinitely,like this one does. Because the data is being generated endlessly, the Keras model needs to know how many samples to draw from the generator before declaring anepoch over. This is the role of the `steps_per_epoch` argument: after having drawn `steps_per_epoch` batches from the generator—that is, after having run for `steps_per_epoch` gradient descent steps—the fitting process will go to the next epoch. In this case, batches are 20 samples, so it will take 100 batches until you see your target of 2,000 samples.\n",
        "\n",
        "When using fit_generator, you can pass a validation_data argument, much as with the fit method. It’s important to note that this argument is allowed to be a data generator, but it could also be a tuple of Numpy arrays. If you pass a generator as validation_data, then this generator is expected to yield batches of validation data endlessly; thus you should also specify the validation_steps argument, which tells the process how many batches to draw from the validation generator for evaluation."
      ]
    },
    {
      "cell_type": "code",
      "metadata": {
        "id": "yMyfPphJsJG6",
        "colab": {
          "base_uri": "https://localhost:8080/"
        },
        "outputId": "0ac321d7-2a6e-439b-b7cd-8242abd8a1cf"
      },
      "source": [
        "history = model.fit(x=train_generator,\n",
        "                              steps_per_epoch=100,\n",
        "                              epochs=30,\n",
        "                              validation_data=validation_generator,\n",
        "                              validation_steps=10)"
      ],
      "execution_count": 16,
      "outputs": [
        {
          "output_type": "stream",
          "text": [
            "Epoch 1/30\n",
            "100/100 [==============================] - 39s 86ms/step - loss: 0.6989 - acc: 0.5389 - val_loss: 0.6789 - val_acc: 0.5450\n",
            "Epoch 2/30\n",
            "100/100 [==============================] - 8s 82ms/step - loss: 0.6718 - acc: 0.5704 - val_loss: 0.6494 - val_acc: 0.5850\n",
            "Epoch 3/30\n",
            "100/100 [==============================] - 8s 81ms/step - loss: 0.6309 - acc: 0.6650 - val_loss: 0.6080 - val_acc: 0.6550\n",
            "Epoch 4/30\n",
            "100/100 [==============================] - 8s 82ms/step - loss: 0.5894 - acc: 0.6796 - val_loss: 0.6723 - val_acc: 0.6050\n",
            "Epoch 5/30\n",
            "100/100 [==============================] - 8s 83ms/step - loss: 0.5471 - acc: 0.7160 - val_loss: 0.6387 - val_acc: 0.6300\n",
            "Epoch 6/30\n",
            "100/100 [==============================] - 8s 83ms/step - loss: 0.5228 - acc: 0.7259 - val_loss: 0.5991 - val_acc: 0.6700\n",
            "Epoch 7/30\n",
            "100/100 [==============================] - 8s 82ms/step - loss: 0.4807 - acc: 0.7628 - val_loss: 0.6665 - val_acc: 0.6300\n",
            "Epoch 8/30\n",
            "100/100 [==============================] - 8s 83ms/step - loss: 0.4578 - acc: 0.7883 - val_loss: 0.5289 - val_acc: 0.7350\n",
            "Epoch 9/30\n",
            "100/100 [==============================] - 8s 83ms/step - loss: 0.4490 - acc: 0.7868 - val_loss: 0.5180 - val_acc: 0.7550\n",
            "Epoch 10/30\n",
            "100/100 [==============================] - 8s 82ms/step - loss: 0.4048 - acc: 0.8208 - val_loss: 0.5316 - val_acc: 0.7600\n",
            "Epoch 11/30\n",
            "100/100 [==============================] - 8s 81ms/step - loss: 0.3601 - acc: 0.8476 - val_loss: 0.6817 - val_acc: 0.6650\n",
            "Epoch 12/30\n",
            "100/100 [==============================] - 8s 82ms/step - loss: 0.3672 - acc: 0.8446 - val_loss: 0.6112 - val_acc: 0.7400\n",
            "Epoch 13/30\n",
            "100/100 [==============================] - 8s 83ms/step - loss: 0.3361 - acc: 0.8504 - val_loss: 0.5546 - val_acc: 0.7300\n",
            "Epoch 14/30\n",
            "100/100 [==============================] - 8s 82ms/step - loss: 0.3014 - acc: 0.8776 - val_loss: 0.6238 - val_acc: 0.7350\n",
            "Epoch 15/30\n",
            "100/100 [==============================] - 8s 82ms/step - loss: 0.2765 - acc: 0.8908 - val_loss: 0.5794 - val_acc: 0.7550\n",
            "Epoch 16/30\n",
            "100/100 [==============================] - 8s 83ms/step - loss: 0.2525 - acc: 0.8987 - val_loss: 0.6105 - val_acc: 0.7200\n",
            "Epoch 17/30\n",
            "100/100 [==============================] - 8s 82ms/step - loss: 0.2350 - acc: 0.9075 - val_loss: 0.6748 - val_acc: 0.7350\n",
            "Epoch 18/30\n",
            "100/100 [==============================] - 8s 82ms/step - loss: 0.2148 - acc: 0.9204 - val_loss: 0.6222 - val_acc: 0.7100\n",
            "Epoch 19/30\n",
            "100/100 [==============================] - 8s 81ms/step - loss: 0.1889 - acc: 0.9321 - val_loss: 0.7101 - val_acc: 0.6900\n",
            "Epoch 20/30\n",
            "100/100 [==============================] - 8s 82ms/step - loss: 0.1614 - acc: 0.9465 - val_loss: 0.7529 - val_acc: 0.7200\n",
            "Epoch 21/30\n",
            "100/100 [==============================] - 8s 83ms/step - loss: 0.1696 - acc: 0.9381 - val_loss: 0.8175 - val_acc: 0.6800\n",
            "Epoch 22/30\n",
            "100/100 [==============================] - 8s 82ms/step - loss: 0.1366 - acc: 0.9587 - val_loss: 0.8233 - val_acc: 0.7000\n",
            "Epoch 23/30\n",
            "100/100 [==============================] - 8s 83ms/step - loss: 0.1261 - acc: 0.9590 - val_loss: 0.6537 - val_acc: 0.7600\n",
            "Epoch 24/30\n",
            "100/100 [==============================] - 8s 82ms/step - loss: 0.1041 - acc: 0.9757 - val_loss: 0.7553 - val_acc: 0.6950\n",
            "Epoch 25/30\n",
            "100/100 [==============================] - 8s 83ms/step - loss: 0.0929 - acc: 0.9710 - val_loss: 0.7011 - val_acc: 0.7600\n",
            "Epoch 26/30\n",
            "100/100 [==============================] - 8s 84ms/step - loss: 0.0745 - acc: 0.9767 - val_loss: 0.7414 - val_acc: 0.7700\n",
            "Epoch 27/30\n",
            "100/100 [==============================] - 8s 83ms/step - loss: 0.0636 - acc: 0.9822 - val_loss: 0.8919 - val_acc: 0.7150\n",
            "Epoch 28/30\n",
            "100/100 [==============================] - 8s 82ms/step - loss: 0.0479 - acc: 0.9897 - val_loss: 0.9606 - val_acc: 0.7450\n",
            "Epoch 29/30\n",
            "100/100 [==============================] - 8s 82ms/step - loss: 0.0557 - acc: 0.9890 - val_loss: 1.0995 - val_acc: 0.7050\n",
            "Epoch 30/30\n",
            "100/100 [==============================] - 8s 82ms/step - loss: 0.0466 - acc: 0.9859 - val_loss: 1.0969 - val_acc: 0.7200\n"
          ],
          "name": "stdout"
        }
      ]
    },
    {
      "cell_type": "code",
      "metadata": {
        "id": "MZaZ2HWZsNUi",
        "colab": {
          "base_uri": "https://localhost:8080/",
          "height": 545
        },
        "outputId": "bb2fd8f1-1839-455d-c2e9-54ef703ab457"
      },
      "source": [
        "model.save('cats_and_dogs_small_1.h5')\n",
        "\n",
        "import matplotlib.pyplot as plt\n",
        "\n",
        "acc = history.history['acc']\n",
        "val_acc = history.history['val_acc']\n",
        "loss = history.history['loss']\n",
        "val_loss = history.history['val_loss']\n",
        "\n",
        "epochs = range(1, len(acc) + 1)\n",
        "\n",
        "plt.plot(epochs, acc, 'bo', label='Training acc')\n",
        "plt.plot(epochs, val_acc, 'b', label='Validation acc')\n",
        "plt.title('Training and validation accuracy')\n",
        "plt.legend()\n",
        "\n",
        "plt.figure()\n",
        "\n",
        "plt.plot(epochs, loss, 'bo', label='Training loss')\n",
        "plt.plot(epochs, val_loss, 'b', label='Validation loss')\n",
        "plt.title('Training and validation loss')\n",
        "plt.legend()\n",
        "\n",
        "plt.show()"
      ],
      "execution_count": 17,
      "outputs": [
        {
          "output_type": "display_data",
          "data": {
            "image/png": "[encoded data removed]",
            "text/plain": [
              "<Figure size 432x288 with 1 Axes>"
            ]
          },
          "metadata": {
            "tags": [],
            "needs_background": "light"
          }
        },
        {
          "output_type": "display_data",
          "data": {
            "image/png": "[encoded data removed]",
            "text/plain": [
              "<Figure size 432x288 with 1 Axes>"
            ]
          },
          "metadata": {
            "tags": [],
            "needs_background": "light"
          }
        }
      ]
    },
    {
      "cell_type": "markdown",
      "metadata": {
        "id": "XKZmXmBcq_8-"
      },
      "source": [
        "## Convolutional Networks with Dropout\n",
        "\n",
        "![alt text](https://camo.githubusercontent.com/ee6fa1073247cd2c3d241300caf110d7a7541bc5/68747470733a2f2f63646e2d696d616765732d312e6d656469756d2e636f6d2f6d61782f3830302f312a4972644a355067684439596f4f7956415137334d4a772e676966)\n",
        "\n",
        "Ref: https://github.com/mneha4/Training-Neural-Nets---Guidelines"
      ]
    },
    {
      "cell_type": "code",
      "metadata": {
        "id": "wu3cqeYQrDeN"
      },
      "source": [
        "model = models.Sequential()\n",
        "model.add(layers.Conv2D(32, (3, 3), activation='relu',\n",
        "input_shape=(150, 150, 3)))\n",
        "model.add(layers.MaxPooling2D((2, 2)))\n",
        "model.add(layers.Conv2D(64, (3, 3), activation='relu'))\n",
        "model.add(layers.MaxPooling2D((2, 2)))\n",
        "model.add(layers.Conv2D(128, (3, 3), activation='relu'))\n",
        "model.add(layers.MaxPooling2D((2, 2)))\n",
        "model.add(layers.Conv2D(128, (3, 3), activation='relu'))\n",
        "model.add(layers.MaxPooling2D((2, 2)))\n",
        "model.add(layers.Flatten())\n",
        "model.add(layers.Dropout(0.5))\n",
        "model.add(layers.Dense(512, activation='relu'))\n",
        "model.add(layers.Dense(1, activation='sigmoid'))\n",
        "\n",
        "model.compile(loss='binary_crossentropy',\n",
        "              optimizer=optimizers.RMSprop(lr=1e-4),\n",
        "              metrics=['acc'])"
      ],
      "execution_count": 18,
      "outputs": []
    },
    {
      "cell_type": "code",
      "metadata": {
        "id": "QSeLpvY0rH7F",
        "colab": {
          "base_uri": "https://localhost:8080/"
        },
        "outputId": "4b86fedf-a1a7-4a4f-ec13-3aaa687a6705"
      },
      "source": [
        "train_datagen = ImageDataGenerator(rescale=1./255,\n",
        "                                   rotation_range=40,\n",
        "                                   width_shift_range=0.2,\n",
        "                                   height_shift_range=0.2,\n",
        "                                   shear_range=0.2,\n",
        "                                   zoom_range=0.2,\n",
        "                                   horizontal_flip=True)\n",
        "\n",
        "test_datagen = ImageDataGenerator(rescale=1./255)\n",
        "#  batch_size 32 gives input ran out of data error\n",
        "train_generator = train_datagen.flow_from_directory(train_dir,\n",
        "                                                    target_size=(150, 150),\n",
        "                                                    batch_size=20,\n",
        "                                                    class_mode='binary',\n",
        "                                                    seed=42)\n",
        "\n",
        "validation_generator = test_datagen.flow_from_directory(validation_dir,\n",
        "                                                        target_size=(150, 150),\n",
        "                                                        batch_size=20,\n",
        "                                                        class_mode='binary',\n",
        "                                                        seed=42)\n",
        "\n",
        "history = model.fit(x=train_generator,\n",
        "                              steps_per_epoch=100,\n",
        "                              epochs=20,\n",
        "                              validation_data=validation_generator,\n",
        "                              validation_steps=50)"
      ],
      "execution_count": 19,
      "outputs": [
        {
          "output_type": "stream",
          "text": [
            "Found 2000 images belonging to 2 classes.\n",
            "Found 1000 images belonging to 2 classes.\n",
            "Epoch 1/20\n",
            "100/100 [==============================] - 22s 205ms/step - loss: 0.6980 - acc: 0.5274 - val_loss: 0.6831 - val_acc: 0.6000\n",
            "Epoch 2/20\n",
            "100/100 [==============================] - 20s 203ms/step - loss: 0.6882 - acc: 0.5289 - val_loss: 0.6751 - val_acc: 0.5440\n",
            "Epoch 3/20\n",
            "100/100 [==============================] - 20s 203ms/step - loss: 0.6670 - acc: 0.5764 - val_loss: 0.6513 - val_acc: 0.5920\n",
            "Epoch 4/20\n",
            "100/100 [==============================] - 20s 201ms/step - loss: 0.6673 - acc: 0.5628 - val_loss: 0.6527 - val_acc: 0.5930\n",
            "Epoch 5/20\n",
            "100/100 [==============================] - 20s 201ms/step - loss: 0.6496 - acc: 0.6078 - val_loss: 0.6410 - val_acc: 0.6210\n",
            "Epoch 6/20\n",
            "100/100 [==============================] - 20s 201ms/step - loss: 0.6489 - acc: 0.6086 - val_loss: 0.6336 - val_acc: 0.6120\n",
            "Epoch 7/20\n",
            "100/100 [==============================] - 20s 199ms/step - loss: 0.6312 - acc: 0.6305 - val_loss: 0.5992 - val_acc: 0.6720\n",
            "Epoch 8/20\n",
            "100/100 [==============================] - 20s 200ms/step - loss: 0.6297 - acc: 0.6235 - val_loss: 0.5943 - val_acc: 0.6680\n",
            "Epoch 9/20\n",
            "100/100 [==============================] - 20s 201ms/step - loss: 0.5915 - acc: 0.6655 - val_loss: 0.6213 - val_acc: 0.6660\n",
            "Epoch 10/20\n",
            "100/100 [==============================] - 20s 200ms/step - loss: 0.5837 - acc: 0.6822 - val_loss: 0.5644 - val_acc: 0.6990\n",
            "Epoch 11/20\n",
            "100/100 [==============================] - 20s 203ms/step - loss: 0.5846 - acc: 0.6916 - val_loss: 0.5917 - val_acc: 0.6640\n",
            "Epoch 12/20\n",
            "100/100 [==============================] - 20s 202ms/step - loss: 0.5861 - acc: 0.6877 - val_loss: 0.6052 - val_acc: 0.6650\n",
            "Epoch 13/20\n",
            "100/100 [==============================] - 20s 202ms/step - loss: 0.5837 - acc: 0.6812 - val_loss: 0.5461 - val_acc: 0.7250\n",
            "Epoch 14/20\n",
            "100/100 [==============================] - 20s 202ms/step - loss: 0.5598 - acc: 0.7121 - val_loss: 0.5515 - val_acc: 0.7120\n",
            "Epoch 15/20\n",
            "100/100 [==============================] - 20s 202ms/step - loss: 0.5712 - acc: 0.6909 - val_loss: 0.5799 - val_acc: 0.6990\n",
            "Epoch 16/20\n",
            "100/100 [==============================] - 20s 200ms/step - loss: 0.5550 - acc: 0.7071 - val_loss: 0.5290 - val_acc: 0.7330\n",
            "Epoch 17/20\n",
            "100/100 [==============================] - 20s 200ms/step - loss: 0.5580 - acc: 0.7222 - val_loss: 0.5434 - val_acc: 0.7090\n",
            "Epoch 18/20\n",
            "100/100 [==============================] - 20s 202ms/step - loss: 0.5675 - acc: 0.6988 - val_loss: 0.5227 - val_acc: 0.7400\n",
            "Epoch 19/20\n",
            "100/100 [==============================] - 20s 200ms/step - loss: 0.5242 - acc: 0.7459 - val_loss: 0.5529 - val_acc: 0.7310\n",
            "Epoch 20/20\n",
            "100/100 [==============================] - 20s 200ms/step - loss: 0.5542 - acc: 0.7240 - val_loss: 0.5247 - val_acc: 0.7280\n"
          ],
          "name": "stdout"
        }
      ]
    },
    {
      "cell_type": "markdown",
      "metadata": {
        "id": "BRdU5yrkUF_b"
      },
      "source": [
        "# Task 2:\n",
        "\n",
        "We have used Dropout to enhance the performance of the CNN model. Can you please use whatever you like to further enhance the performance from `val_acc: 0.7506`? "
      ]
    },
    {
      "cell_type": "code",
      "metadata": {
        "id": "OTB95tseFr4Q",
        "colab": {
          "base_uri": "https://localhost:8080/"
        },
        "outputId": "bacb3f61-ad8f-4a16-eef9-cf594f75cb6c"
      },
      "source": [
        "# changed learning rate\n",
        "from keras.callbacks import ReduceLROnPlateau\n",
        "def task():\n",
        "    model = models.Sequential()\n",
        "    model.add(layers.Conv2D(32, (3, 3), activation='relu',\n",
        "    input_shape=(150, 150, 3)))\n",
        "    model.add(layers.MaxPooling2D((2, 2)))\n",
        "    model.add(layers.Conv2D(64, (3, 3), activation='relu'))\n",
        "    model.add(layers.MaxPooling2D((2, 2)))\n",
        "    model.add(layers.Conv2D(128, (3, 3), activation='relu'))\n",
        "    model.add(layers.MaxPooling2D((2, 2)))\n",
        "    model.add(layers.Conv2D(128, (3, 3), activation='relu'))\n",
        "    model.add(layers.MaxPooling2D((2, 2)))\n",
        "    model.add(layers.Flatten())\n",
        "    model.add(layers.Dropout(0.5))\n",
        "    model.add(layers.Dense(512, activation='relu'))\n",
        "    model.add(layers.Dense(1, activation='sigmoid'))\n",
        "\n",
        "    model.compile(loss='binary_crossentropy',\n",
        "                  optimizer=optimizers.RMSprop(),\n",
        "                  metrics=['acc'])\n",
        "    return model\n",
        "\n",
        "\n",
        "task_train_datagen = ImageDataGenerator(rescale=1./255,\n",
        "                                   width_shift_range=0.1,\n",
        "                                   height_shift_range=0.1,\n",
        "                                   shear_range=0.1,\n",
        "                                   zoom_range=0.2,\n",
        "                                   horizontal_flip=True)\n",
        "\n",
        "validation_datagen = ImageDataGenerator(rescale=1./255)\n",
        "task_train_generator = task_train_datagen.flow_from_directory(train_dir,\n",
        "                                                    target_size=(150, 150),\n",
        "                                                    batch_size=20,\n",
        "                                                    class_mode='binary',\n",
        "                                                    seed=42)\n",
        "\n",
        "task_validation_generator = validation_datagen.flow_from_directory(validation_dir,\n",
        "                                                        target_size=(150, 150),\n",
        "                                                        batch_size=20,\n",
        "                                                        class_mode='binary',\n",
        "                                                        seed=42)\n",
        "\n",
        "learning_rate_reduction = ReduceLROnPlateau(monitor='val_acc', \n",
        "                                            patience=2, \n",
        "                                            verbose=1, \n",
        "                                            factor=0.5, \n",
        "                                            min_lr=0.00001)\n",
        "callbacks = [learning_rate_reduction]\n",
        "\n",
        "history = task().fit(x=task_train_generator,\n",
        "                              steps_per_epoch=100,\n",
        "                              epochs=20,\n",
        "                              validation_data=task_validation_generator,\n",
        "                              validation_steps=50,\n",
        "                     callbacks=callbacks)"
      ],
      "execution_count": 20,
      "outputs": [
        {
          "output_type": "stream",
          "text": [
            "Found 2000 images belonging to 2 classes.\n",
            "Found 1000 images belonging to 2 classes.\n",
            "Epoch 1/20\n",
            "100/100 [==============================] - 21s 203ms/step - loss: 0.7455 - acc: 0.4916 - val_loss: 0.6894 - val_acc: 0.5000\n",
            "Epoch 2/20\n",
            "100/100 [==============================] - 20s 198ms/step - loss: 0.6972 - acc: 0.5310 - val_loss: 0.6521 - val_acc: 0.5830\n",
            "Epoch 3/20\n",
            "100/100 [==============================] - 20s 198ms/step - loss: 0.6671 - acc: 0.5926 - val_loss: 0.6505 - val_acc: 0.5820\n",
            "Epoch 4/20\n",
            "100/100 [==============================] - 20s 201ms/step - loss: 0.6627 - acc: 0.5997 - val_loss: 0.5751 - val_acc: 0.7020\n",
            "Epoch 5/20\n",
            "100/100 [==============================] - 20s 198ms/step - loss: 0.6425 - acc: 0.6570 - val_loss: 0.6204 - val_acc: 0.6410\n",
            "Epoch 6/20\n",
            "100/100 [==============================] - 20s 200ms/step - loss: 0.6067 - acc: 0.6820 - val_loss: 0.5771 - val_acc: 0.6870\n",
            "\n",
            "Epoch 00006: ReduceLROnPlateau reducing learning rate to 0.0005000000237487257.\n",
            "Epoch 7/20\n",
            "100/100 [==============================] - 20s 201ms/step - loss: 0.5476 - acc: 0.7367 - val_loss: 0.6049 - val_acc: 0.6900\n",
            "Epoch 8/20\n",
            "100/100 [==============================] - 20s 202ms/step - loss: 0.5132 - acc: 0.7577 - val_loss: 0.5544 - val_acc: 0.7060\n",
            "Epoch 9/20\n",
            "100/100 [==============================] - 20s 201ms/step - loss: 0.5319 - acc: 0.7363 - val_loss: 0.5545 - val_acc: 0.7030\n",
            "Epoch 10/20\n",
            "100/100 [==============================] - 20s 200ms/step - loss: 0.5250 - acc: 0.7278 - val_loss: 0.5863 - val_acc: 0.7260\n",
            "Epoch 11/20\n",
            "100/100 [==============================] - 20s 200ms/step - loss: 0.5244 - acc: 0.7311 - val_loss: 0.5150 - val_acc: 0.7390\n",
            "Epoch 12/20\n",
            "100/100 [==============================] - 20s 200ms/step - loss: 0.5225 - acc: 0.7534 - val_loss: 0.5545 - val_acc: 0.7230\n",
            "Epoch 13/20\n",
            "100/100 [==============================] - 20s 200ms/step - loss: 0.5083 - acc: 0.7487 - val_loss: 0.5070 - val_acc: 0.7430\n",
            "Epoch 14/20\n",
            "100/100 [==============================] - 20s 202ms/step - loss: 0.5320 - acc: 0.7319 - val_loss: 0.4952 - val_acc: 0.7540\n",
            "Epoch 15/20\n",
            "100/100 [==============================] - 20s 200ms/step - loss: 0.4912 - acc: 0.7763 - val_loss: 0.5773 - val_acc: 0.7230\n",
            "Epoch 16/20\n",
            "100/100 [==============================] - 20s 201ms/step - loss: 0.4761 - acc: 0.7727 - val_loss: 0.4778 - val_acc: 0.7690\n",
            "Epoch 17/20\n",
            "100/100 [==============================] - 20s 201ms/step - loss: 0.4786 - acc: 0.7739 - val_loss: 0.4589 - val_acc: 0.7860\n",
            "Epoch 18/20\n",
            "100/100 [==============================] - 20s 202ms/step - loss: 0.4579 - acc: 0.7733 - val_loss: 0.4961 - val_acc: 0.7640\n",
            "Epoch 19/20\n",
            "100/100 [==============================] - 20s 203ms/step - loss: 0.4650 - acc: 0.7831 - val_loss: 0.5232 - val_acc: 0.7530\n",
            "\n",
            "Epoch 00019: ReduceLROnPlateau reducing learning rate to 0.0002500000118743628.\n",
            "Epoch 20/20\n",
            "100/100 [==============================] - 20s 201ms/step - loss: 0.4417 - acc: 0.7977 - val_loss: 0.4600 - val_acc: 0.7790\n"
          ],
          "name": "stdout"
        }
      ]
    },
    {
      "cell_type": "code",
      "metadata": {
        "id": "pMX1QGBIsAX8"
      },
      "source": [
        ""
      ],
      "execution_count": null,
      "outputs": []
    }
  ]
}