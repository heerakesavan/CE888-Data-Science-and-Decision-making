{
  "nbformat": 4,
  "nbformat_minor": 0,
  "metadata": {
    "colab": {
      "name": "Lab 3 bank_classification Heera.ipynb",
      "provenance": [],
      "collapsed_sections": [],
      "authorship_tag": "ABX9TyOim/JWewMZFVWeB1lOPPxt",
      "include_colab_link": true
    },
    "kernelspec": {
      "name": "python3",
      "display_name": "Python 3"
    },
    "language_info": {
      "name": "python"
    },
    "accelerator": "GPU"
  },
  "cells": [
    {
      "cell_type": "markdown",
      "metadata": {
        "id": "view-in-github",
        "colab_type": "text"
      },
      "source": [
        "<a href=\"https://colab.research.google.com/github/heerakesavan/CE888-Data-Science-and-Decision-making/blob/Master/Lab%203/Lab_3_bank_classification_Heera.ipynb\" target=\"_parent\"><img src=\"https://colab.research.google.com/assets/colab-badge.svg\" alt=\"Open In Colab\"/></a>"
      ]
    },
    {
      "cell_type": "code",
      "metadata": {
        "id": "N9goDLwmcF4d"
      },
      "source": [
        "import pandas as pd\n",
        "import seaborn as sns\n",
        "import numpy as np\n",
        "import matplotlib.pyplot as plt\n",
        "import sklearn"
      ],
      "execution_count": 1,
      "outputs": []
    },
    {
      "cell_type": "code",
      "metadata": {
        "colab": {
          "base_uri": "https://localhost:8080/",
          "height": 215
        },
        "id": "ykluUX6fcIZ1",
        "outputId": "13f3b5de-5261-4b01-dcbb-f58a513665c7"
      },
      "source": [
        "df = pd.read_csv('https://raw.githubusercontent.com/albanda/CE888/master/lab3/bank-additional-full.csv', sep=';')\n",
        "df.head()"
      ],
      "execution_count": 2,
      "outputs": [
        {
          "output_type": "execute_result",
          "data": {
            "text/html": [
              "<div>\n",
              "<style scoped>\n",
              "    .dataframe tbody tr th:only-of-type {\n",
              "        vertical-align: middle;\n",
              "    }\n",
              "\n",
              "    .dataframe tbody tr th {\n",
              "        vertical-align: top;\n",
              "    }\n",
              "\n",
              "    .dataframe thead th {\n",
              "        text-align: right;\n",
              "    }\n",
              "</style>\n",
              "<table border=\"1\" class=\"dataframe\">\n",
              "  <thead>\n",
              "    <tr style=\"text-align: right;\">\n",
              "      <th></th>\n",
              "      <th>age</th>\n",
              "      <th>job</th>\n",
              "      <th>marital</th>\n",
              "      <th>education</th>\n",
              "      <th>default</th>\n",
              "      <th>housing</th>\n",
              "      <th>loan</th>\n",
              "      <th>contact</th>\n",
              "      <th>month</th>\n",
              "      <th>day_of_week</th>\n",
              "      <th>duration</th>\n",
              "      <th>campaign</th>\n",
              "      <th>pdays</th>\n",
              "      <th>previous</th>\n",
              "      <th>poutcome</th>\n",
              "      <th>emp.var.rate</th>\n",
              "      <th>cons.price.idx</th>\n",
              "      <th>cons.conf.idx</th>\n",
              "      <th>euribor3m</th>\n",
              "      <th>nr.employed</th>\n",
              "      <th>y</th>\n",
              "    </tr>\n",
              "  </thead>\n",
              "  <tbody>\n",
              "    <tr>\n",
              "      <th>0</th>\n",
              "      <td>56</td>\n",
              "      <td>housemaid</td>\n",
              "      <td>married</td>\n",
              "      <td>basic.4y</td>\n",
              "      <td>no</td>\n",
              "      <td>no</td>\n",
              "      <td>no</td>\n",
              "      <td>telephone</td>\n",
              "      <td>may</td>\n",
              "      <td>mon</td>\n",
              "      <td>261</td>\n",
              "      <td>1</td>\n",
              "      <td>999</td>\n",
              "      <td>0</td>\n",
              "      <td>nonexistent</td>\n",
              "      <td>1.1</td>\n",
              "      <td>93.994</td>\n",
              "      <td>-36.4</td>\n",
              "      <td>4.857</td>\n",
              "      <td>5191.0</td>\n",
              "      <td>no</td>\n",
              "    </tr>\n",
              "    <tr>\n",
              "      <th>1</th>\n",
              "      <td>57</td>\n",
              "      <td>services</td>\n",
              "      <td>married</td>\n",
              "      <td>high.school</td>\n",
              "      <td>unknown</td>\n",
              "      <td>no</td>\n",
              "      <td>no</td>\n",
              "      <td>telephone</td>\n",
              "      <td>may</td>\n",
              "      <td>mon</td>\n",
              "      <td>149</td>\n",
              "      <td>1</td>\n",
              "      <td>999</td>\n",
              "      <td>0</td>\n",
              "      <td>nonexistent</td>\n",
              "      <td>1.1</td>\n",
              "      <td>93.994</td>\n",
              "      <td>-36.4</td>\n",
              "      <td>4.857</td>\n",
              "      <td>5191.0</td>\n",
              "      <td>no</td>\n",
              "    </tr>\n",
              "    <tr>\n",
              "      <th>2</th>\n",
              "      <td>37</td>\n",
              "      <td>services</td>\n",
              "      <td>married</td>\n",
              "      <td>high.school</td>\n",
              "      <td>no</td>\n",
              "      <td>yes</td>\n",
              "      <td>no</td>\n",
              "      <td>telephone</td>\n",
              "      <td>may</td>\n",
              "      <td>mon</td>\n",
              "      <td>226</td>\n",
              "      <td>1</td>\n",
              "      <td>999</td>\n",
              "      <td>0</td>\n",
              "      <td>nonexistent</td>\n",
              "      <td>1.1</td>\n",
              "      <td>93.994</td>\n",
              "      <td>-36.4</td>\n",
              "      <td>4.857</td>\n",
              "      <td>5191.0</td>\n",
              "      <td>no</td>\n",
              "    </tr>\n",
              "    <tr>\n",
              "      <th>3</th>\n",
              "      <td>40</td>\n",
              "      <td>admin.</td>\n",
              "      <td>married</td>\n",
              "      <td>basic.6y</td>\n",
              "      <td>no</td>\n",
              "      <td>no</td>\n",
              "      <td>no</td>\n",
              "      <td>telephone</td>\n",
              "      <td>may</td>\n",
              "      <td>mon</td>\n",
              "      <td>151</td>\n",
              "      <td>1</td>\n",
              "      <td>999</td>\n",
              "      <td>0</td>\n",
              "      <td>nonexistent</td>\n",
              "      <td>1.1</td>\n",
              "      <td>93.994</td>\n",
              "      <td>-36.4</td>\n",
              "      <td>4.857</td>\n",
              "      <td>5191.0</td>\n",
              "      <td>no</td>\n",
              "    </tr>\n",
              "    <tr>\n",
              "      <th>4</th>\n",
              "      <td>56</td>\n",
              "      <td>services</td>\n",
              "      <td>married</td>\n",
              "      <td>high.school</td>\n",
              "      <td>no</td>\n",
              "      <td>no</td>\n",
              "      <td>yes</td>\n",
              "      <td>telephone</td>\n",
              "      <td>may</td>\n",
              "      <td>mon</td>\n",
              "      <td>307</td>\n",
              "      <td>1</td>\n",
              "      <td>999</td>\n",
              "      <td>0</td>\n",
              "      <td>nonexistent</td>\n",
              "      <td>1.1</td>\n",
              "      <td>93.994</td>\n",
              "      <td>-36.4</td>\n",
              "      <td>4.857</td>\n",
              "      <td>5191.0</td>\n",
              "      <td>no</td>\n",
              "    </tr>\n",
              "  </tbody>\n",
              "</table>\n",
              "</div>"
            ],
            "text/plain": [
              "   age        job  marital  ... euribor3m nr.employed   y\n",
              "0   56  housemaid  married  ...     4.857      5191.0  no\n",
              "1   57   services  married  ...     4.857      5191.0  no\n",
              "2   37   services  married  ...     4.857      5191.0  no\n",
              "3   40     admin.  married  ...     4.857      5191.0  no\n",
              "4   56   services  married  ...     4.857      5191.0  no\n",
              "\n",
              "[5 rows x 21 columns]"
            ]
          },
          "metadata": {
            "tags": []
          },
          "execution_count": 2
        }
      ]
    },
    {
      "cell_type": "markdown",
      "metadata": {
        "id": "ld-0ukw6dspO"
      },
      "source": [
        "**Use LabelEncoder to convert the label into numbers**"
      ]
    },
    {
      "cell_type": "code",
      "metadata": {
        "id": "kXSHD1tVdcGD"
      },
      "source": [
        "from sklearn.preprocessing import LabelEncoder"
      ],
      "execution_count": 3,
      "outputs": []
    },
    {
      "cell_type": "code",
      "metadata": {
        "id": "of76oQvrdxkY"
      },
      "source": [
        "labelencoder = LabelEncoder()"
      ],
      "execution_count": 4,
      "outputs": []
    },
    {
      "cell_type": "code",
      "metadata": {
        "id": "b-0IDtLnd3rM"
      },
      "source": [
        "df['y'] = labelencoder.fit_transform(df['y'])"
      ],
      "execution_count": 5,
      "outputs": []
    },
    {
      "cell_type": "markdown",
      "metadata": {
        "id": "Odf1ChqfeQYO"
      },
      "source": [
        "**Perform one-hot encoding on the categorical features**"
      ]
    },
    {
      "cell_type": "code",
      "metadata": {
        "id": "Nz4tFzgCeR98"
      },
      "source": [
        "data= pd.get_dummies(df)"
      ],
      "execution_count": 6,
      "outputs": []
    },
    {
      "cell_type": "markdown",
      "metadata": {
        "id": "HADle5C_egwO"
      },
      "source": [
        "**Column \"duration\" must be deleted**"
      ]
    },
    {
      "cell_type": "code",
      "metadata": {
        "id": "Wxej1KVTeY34"
      },
      "source": [
        "data.drop('duration', axis=1, inplace=True)"
      ],
      "execution_count": 7,
      "outputs": []
    },
    {
      "cell_type": "code",
      "metadata": {
        "colab": {
          "base_uri": "https://localhost:8080/",
          "height": 232
        },
        "id": "7voXEWfbelqE",
        "outputId": "07f5ac82-83cc-45de-ba02-4843e6a80c45"
      },
      "source": [
        "data.head()"
      ],
      "execution_count": 8,
      "outputs": [
        {
          "output_type": "execute_result",
          "data": {
            "text/html": [
              "<div>\n",
              "<style scoped>\n",
              "    .dataframe tbody tr th:only-of-type {\n",
              "        vertical-align: middle;\n",
              "    }\n",
              "\n",
              "    .dataframe tbody tr th {\n",
              "        vertical-align: top;\n",
              "    }\n",
              "\n",
              "    .dataframe thead th {\n",
              "        text-align: right;\n",
              "    }\n",
              "</style>\n",
              "<table border=\"1\" class=\"dataframe\">\n",
              "  <thead>\n",
              "    <tr style=\"text-align: right;\">\n",
              "      <th></th>\n",
              "      <th>age</th>\n",
              "      <th>campaign</th>\n",
              "      <th>pdays</th>\n",
              "      <th>previous</th>\n",
              "      <th>emp.var.rate</th>\n",
              "      <th>cons.price.idx</th>\n",
              "      <th>cons.conf.idx</th>\n",
              "      <th>euribor3m</th>\n",
              "      <th>nr.employed</th>\n",
              "      <th>y</th>\n",
              "      <th>job_admin.</th>\n",
              "      <th>job_blue-collar</th>\n",
              "      <th>job_entrepreneur</th>\n",
              "      <th>job_housemaid</th>\n",
              "      <th>job_management</th>\n",
              "      <th>job_retired</th>\n",
              "      <th>job_self-employed</th>\n",
              "      <th>job_services</th>\n",
              "      <th>job_student</th>\n",
              "      <th>job_technician</th>\n",
              "      <th>job_unemployed</th>\n",
              "      <th>job_unknown</th>\n",
              "      <th>marital_divorced</th>\n",
              "      <th>marital_married</th>\n",
              "      <th>marital_single</th>\n",
              "      <th>marital_unknown</th>\n",
              "      <th>education_basic.4y</th>\n",
              "      <th>education_basic.6y</th>\n",
              "      <th>education_basic.9y</th>\n",
              "      <th>education_high.school</th>\n",
              "      <th>education_illiterate</th>\n",
              "      <th>education_professional.course</th>\n",
              "      <th>education_university.degree</th>\n",
              "      <th>education_unknown</th>\n",
              "      <th>default_no</th>\n",
              "      <th>default_unknown</th>\n",
              "      <th>default_yes</th>\n",
              "      <th>housing_no</th>\n",
              "      <th>housing_unknown</th>\n",
              "      <th>housing_yes</th>\n",
              "      <th>loan_no</th>\n",
              "      <th>loan_unknown</th>\n",
              "      <th>loan_yes</th>\n",
              "      <th>contact_cellular</th>\n",
              "      <th>contact_telephone</th>\n",
              "      <th>month_apr</th>\n",
              "      <th>month_aug</th>\n",
              "      <th>month_dec</th>\n",
              "      <th>month_jul</th>\n",
              "      <th>month_jun</th>\n",
              "      <th>month_mar</th>\n",
              "      <th>month_may</th>\n",
              "      <th>month_nov</th>\n",
              "      <th>month_oct</th>\n",
              "      <th>month_sep</th>\n",
              "      <th>day_of_week_fri</th>\n",
              "      <th>day_of_week_mon</th>\n",
              "      <th>day_of_week_thu</th>\n",
              "      <th>day_of_week_tue</th>\n",
              "      <th>day_of_week_wed</th>\n",
              "      <th>poutcome_failure</th>\n",
              "      <th>poutcome_nonexistent</th>\n",
              "      <th>poutcome_success</th>\n",
              "    </tr>\n",
              "  </thead>\n",
              "  <tbody>\n",
              "    <tr>\n",
              "      <th>0</th>\n",
              "      <td>56</td>\n",
              "      <td>1</td>\n",
              "      <td>999</td>\n",
              "      <td>0</td>\n",
              "      <td>1.1</td>\n",
              "      <td>93.994</td>\n",
              "      <td>-36.4</td>\n",
              "      <td>4.857</td>\n",
              "      <td>5191.0</td>\n",
              "      <td>0</td>\n",
              "      <td>0</td>\n",
              "      <td>0</td>\n",
              "      <td>0</td>\n",
              "      <td>1</td>\n",
              "      <td>0</td>\n",
              "      <td>0</td>\n",
              "      <td>0</td>\n",
              "      <td>0</td>\n",
              "      <td>0</td>\n",
              "      <td>0</td>\n",
              "      <td>0</td>\n",
              "      <td>0</td>\n",
              "      <td>0</td>\n",
              "      <td>1</td>\n",
              "      <td>0</td>\n",
              "      <td>0</td>\n",
              "      <td>1</td>\n",
              "      <td>0</td>\n",
              "      <td>0</td>\n",
              "      <td>0</td>\n",
              "      <td>0</td>\n",
              "      <td>0</td>\n",
              "      <td>0</td>\n",
              "      <td>0</td>\n",
              "      <td>1</td>\n",
              "      <td>0</td>\n",
              "      <td>0</td>\n",
              "      <td>1</td>\n",
              "      <td>0</td>\n",
              "      <td>0</td>\n",
              "      <td>1</td>\n",
              "      <td>0</td>\n",
              "      <td>0</td>\n",
              "      <td>0</td>\n",
              "      <td>1</td>\n",
              "      <td>0</td>\n",
              "      <td>0</td>\n",
              "      <td>0</td>\n",
              "      <td>0</td>\n",
              "      <td>0</td>\n",
              "      <td>0</td>\n",
              "      <td>1</td>\n",
              "      <td>0</td>\n",
              "      <td>0</td>\n",
              "      <td>0</td>\n",
              "      <td>0</td>\n",
              "      <td>1</td>\n",
              "      <td>0</td>\n",
              "      <td>0</td>\n",
              "      <td>0</td>\n",
              "      <td>0</td>\n",
              "      <td>1</td>\n",
              "      <td>0</td>\n",
              "    </tr>\n",
              "    <tr>\n",
              "      <th>1</th>\n",
              "      <td>57</td>\n",
              "      <td>1</td>\n",
              "      <td>999</td>\n",
              "      <td>0</td>\n",
              "      <td>1.1</td>\n",
              "      <td>93.994</td>\n",
              "      <td>-36.4</td>\n",
              "      <td>4.857</td>\n",
              "      <td>5191.0</td>\n",
              "      <td>0</td>\n",
              "      <td>0</td>\n",
              "      <td>0</td>\n",
              "      <td>0</td>\n",
              "      <td>0</td>\n",
              "      <td>0</td>\n",
              "      <td>0</td>\n",
              "      <td>0</td>\n",
              "      <td>1</td>\n",
              "      <td>0</td>\n",
              "      <td>0</td>\n",
              "      <td>0</td>\n",
              "      <td>0</td>\n",
              "      <td>0</td>\n",
              "      <td>1</td>\n",
              "      <td>0</td>\n",
              "      <td>0</td>\n",
              "      <td>0</td>\n",
              "      <td>0</td>\n",
              "      <td>0</td>\n",
              "      <td>1</td>\n",
              "      <td>0</td>\n",
              "      <td>0</td>\n",
              "      <td>0</td>\n",
              "      <td>0</td>\n",
              "      <td>0</td>\n",
              "      <td>1</td>\n",
              "      <td>0</td>\n",
              "      <td>1</td>\n",
              "      <td>0</td>\n",
              "      <td>0</td>\n",
              "      <td>1</td>\n",
              "      <td>0</td>\n",
              "      <td>0</td>\n",
              "      <td>0</td>\n",
              "      <td>1</td>\n",
              "      <td>0</td>\n",
              "      <td>0</td>\n",
              "      <td>0</td>\n",
              "      <td>0</td>\n",
              "      <td>0</td>\n",
              "      <td>0</td>\n",
              "      <td>1</td>\n",
              "      <td>0</td>\n",
              "      <td>0</td>\n",
              "      <td>0</td>\n",
              "      <td>0</td>\n",
              "      <td>1</td>\n",
              "      <td>0</td>\n",
              "      <td>0</td>\n",
              "      <td>0</td>\n",
              "      <td>0</td>\n",
              "      <td>1</td>\n",
              "      <td>0</td>\n",
              "    </tr>\n",
              "    <tr>\n",
              "      <th>2</th>\n",
              "      <td>37</td>\n",
              "      <td>1</td>\n",
              "      <td>999</td>\n",
              "      <td>0</td>\n",
              "      <td>1.1</td>\n",
              "      <td>93.994</td>\n",
              "      <td>-36.4</td>\n",
              "      <td>4.857</td>\n",
              "      <td>5191.0</td>\n",
              "      <td>0</td>\n",
              "      <td>0</td>\n",
              "      <td>0</td>\n",
              "      <td>0</td>\n",
              "      <td>0</td>\n",
              "      <td>0</td>\n",
              "      <td>0</td>\n",
              "      <td>0</td>\n",
              "      <td>1</td>\n",
              "      <td>0</td>\n",
              "      <td>0</td>\n",
              "      <td>0</td>\n",
              "      <td>0</td>\n",
              "      <td>0</td>\n",
              "      <td>1</td>\n",
              "      <td>0</td>\n",
              "      <td>0</td>\n",
              "      <td>0</td>\n",
              "      <td>0</td>\n",
              "      <td>0</td>\n",
              "      <td>1</td>\n",
              "      <td>0</td>\n",
              "      <td>0</td>\n",
              "      <td>0</td>\n",
              "      <td>0</td>\n",
              "      <td>1</td>\n",
              "      <td>0</td>\n",
              "      <td>0</td>\n",
              "      <td>0</td>\n",
              "      <td>0</td>\n",
              "      <td>1</td>\n",
              "      <td>1</td>\n",
              "      <td>0</td>\n",
              "      <td>0</td>\n",
              "      <td>0</td>\n",
              "      <td>1</td>\n",
              "      <td>0</td>\n",
              "      <td>0</td>\n",
              "      <td>0</td>\n",
              "      <td>0</td>\n",
              "      <td>0</td>\n",
              "      <td>0</td>\n",
              "      <td>1</td>\n",
              "      <td>0</td>\n",
              "      <td>0</td>\n",
              "      <td>0</td>\n",
              "      <td>0</td>\n",
              "      <td>1</td>\n",
              "      <td>0</td>\n",
              "      <td>0</td>\n",
              "      <td>0</td>\n",
              "      <td>0</td>\n",
              "      <td>1</td>\n",
              "      <td>0</td>\n",
              "    </tr>\n",
              "    <tr>\n",
              "      <th>3</th>\n",
              "      <td>40</td>\n",
              "      <td>1</td>\n",
              "      <td>999</td>\n",
              "      <td>0</td>\n",
              "      <td>1.1</td>\n",
              "      <td>93.994</td>\n",
              "      <td>-36.4</td>\n",
              "      <td>4.857</td>\n",
              "      <td>5191.0</td>\n",
              "      <td>0</td>\n",
              "      <td>1</td>\n",
              "      <td>0</td>\n",
              "      <td>0</td>\n",
              "      <td>0</td>\n",
              "      <td>0</td>\n",
              "      <td>0</td>\n",
              "      <td>0</td>\n",
              "      <td>0</td>\n",
              "      <td>0</td>\n",
              "      <td>0</td>\n",
              "      <td>0</td>\n",
              "      <td>0</td>\n",
              "      <td>0</td>\n",
              "      <td>1</td>\n",
              "      <td>0</td>\n",
              "      <td>0</td>\n",
              "      <td>0</td>\n",
              "      <td>1</td>\n",
              "      <td>0</td>\n",
              "      <td>0</td>\n",
              "      <td>0</td>\n",
              "      <td>0</td>\n",
              "      <td>0</td>\n",
              "      <td>0</td>\n",
              "      <td>1</td>\n",
              "      <td>0</td>\n",
              "      <td>0</td>\n",
              "      <td>1</td>\n",
              "      <td>0</td>\n",
              "      <td>0</td>\n",
              "      <td>1</td>\n",
              "      <td>0</td>\n",
              "      <td>0</td>\n",
              "      <td>0</td>\n",
              "      <td>1</td>\n",
              "      <td>0</td>\n",
              "      <td>0</td>\n",
              "      <td>0</td>\n",
              "      <td>0</td>\n",
              "      <td>0</td>\n",
              "      <td>0</td>\n",
              "      <td>1</td>\n",
              "      <td>0</td>\n",
              "      <td>0</td>\n",
              "      <td>0</td>\n",
              "      <td>0</td>\n",
              "      <td>1</td>\n",
              "      <td>0</td>\n",
              "      <td>0</td>\n",
              "      <td>0</td>\n",
              "      <td>0</td>\n",
              "      <td>1</td>\n",
              "      <td>0</td>\n",
              "    </tr>\n",
              "    <tr>\n",
              "      <th>4</th>\n",
              "      <td>56</td>\n",
              "      <td>1</td>\n",
              "      <td>999</td>\n",
              "      <td>0</td>\n",
              "      <td>1.1</td>\n",
              "      <td>93.994</td>\n",
              "      <td>-36.4</td>\n",
              "      <td>4.857</td>\n",
              "      <td>5191.0</td>\n",
              "      <td>0</td>\n",
              "      <td>0</td>\n",
              "      <td>0</td>\n",
              "      <td>0</td>\n",
              "      <td>0</td>\n",
              "      <td>0</td>\n",
              "      <td>0</td>\n",
              "      <td>0</td>\n",
              "      <td>1</td>\n",
              "      <td>0</td>\n",
              "      <td>0</td>\n",
              "      <td>0</td>\n",
              "      <td>0</td>\n",
              "      <td>0</td>\n",
              "      <td>1</td>\n",
              "      <td>0</td>\n",
              "      <td>0</td>\n",
              "      <td>0</td>\n",
              "      <td>0</td>\n",
              "      <td>0</td>\n",
              "      <td>1</td>\n",
              "      <td>0</td>\n",
              "      <td>0</td>\n",
              "      <td>0</td>\n",
              "      <td>0</td>\n",
              "      <td>1</td>\n",
              "      <td>0</td>\n",
              "      <td>0</td>\n",
              "      <td>1</td>\n",
              "      <td>0</td>\n",
              "      <td>0</td>\n",
              "      <td>0</td>\n",
              "      <td>0</td>\n",
              "      <td>1</td>\n",
              "      <td>0</td>\n",
              "      <td>1</td>\n",
              "      <td>0</td>\n",
              "      <td>0</td>\n",
              "      <td>0</td>\n",
              "      <td>0</td>\n",
              "      <td>0</td>\n",
              "      <td>0</td>\n",
              "      <td>1</td>\n",
              "      <td>0</td>\n",
              "      <td>0</td>\n",
              "      <td>0</td>\n",
              "      <td>0</td>\n",
              "      <td>1</td>\n",
              "      <td>0</td>\n",
              "      <td>0</td>\n",
              "      <td>0</td>\n",
              "      <td>0</td>\n",
              "      <td>1</td>\n",
              "      <td>0</td>\n",
              "    </tr>\n",
              "  </tbody>\n",
              "</table>\n",
              "</div>"
            ],
            "text/plain": [
              "   age  campaign  ...  poutcome_nonexistent  poutcome_success\n",
              "0   56         1  ...                     1                 0\n",
              "1   57         1  ...                     1                 0\n",
              "2   37         1  ...                     1                 0\n",
              "3   40         1  ...                     1                 0\n",
              "4   56         1  ...                     1                 0\n",
              "\n",
              "[5 rows x 63 columns]"
            ]
          },
          "metadata": {
            "tags": []
          },
          "execution_count": 8
        }
      ]
    },
    {
      "cell_type": "code",
      "metadata": {
        "colab": {
          "base_uri": "https://localhost:8080/"
        },
        "id": "MIKUe34pfMGR",
        "outputId": "435a52c8-d081-4c6f-972b-ccec3089c605"
      },
      "source": [
        "data.shape"
      ],
      "execution_count": 9,
      "outputs": [
        {
          "output_type": "execute_result",
          "data": {
            "text/plain": [
              "(41188, 63)"
            ]
          },
          "metadata": {
            "tags": []
          },
          "execution_count": 9
        }
      ]
    },
    {
      "cell_type": "markdown",
      "metadata": {
        "id": "DN3KNTC_e2M5"
      },
      "source": [
        "**Check if there are any missing values in the dataset and drop them.**"
      ]
    },
    {
      "cell_type": "code",
      "metadata": {
        "id": "d4ImbkLEenCq"
      },
      "source": [
        "data.isnull().sum()\n",
        "data.dropna(inplace=True)"
      ],
      "execution_count": 10,
      "outputs": []
    },
    {
      "cell_type": "code",
      "metadata": {
        "colab": {
          "base_uri": "https://localhost:8080/"
        },
        "id": "aQRkk5VNe6pD",
        "outputId": "c5d000f3-4608-4382-b102-1f182eed44ac"
      },
      "source": [
        "data.shape"
      ],
      "execution_count": 11,
      "outputs": [
        {
          "output_type": "execute_result",
          "data": {
            "text/plain": [
              "(41188, 63)"
            ]
          },
          "metadata": {
            "tags": []
          },
          "execution_count": 11
        }
      ]
    },
    {
      "cell_type": "markdown",
      "metadata": {
        "id": "RreqD9nxffYQ"
      },
      "source": [
        "**Plot histogram of the label.**"
      ]
    },
    {
      "cell_type": "code",
      "metadata": {
        "colab": {
          "base_uri": "https://localhost:8080/",
          "height": 366
        },
        "id": "siorNBrjfPjS",
        "outputId": "42ac0eb4-8030-4f9e-fe64-3ccaba1d234a"
      },
      "source": [
        "ax = sns.distplot(df[\"y\"])\n",
        "ax.set_title(\"Histogram of label\")"
      ],
      "execution_count": 12,
      "outputs": [
        {
          "output_type": "stream",
          "text": [
            "/usr/local/lib/python3.7/dist-packages/seaborn/distributions.py:2557: FutureWarning: `distplot` is a deprecated function and will be removed in a future version. Please adapt your code to use either `displot` (a figure-level function with similar flexibility) or `histplot` (an axes-level function for histograms).\n",
            "  warnings.warn(msg, FutureWarning)\n"
          ],
          "name": "stderr"
        },
        {
          "output_type": "execute_result",
          "data": {
            "text/plain": [
              "Text(0.5, 1.0, 'Histogram of label')"
            ]
          },
          "metadata": {
            "tags": []
          },
          "execution_count": 12
        },
        {
          "output_type": "display_data",
          "data": {
            "image/png": "[encoded data removed]",
            "text/plain": [
              "<Figure size 432x288 with 1 Axes>"
            ]
          },
          "metadata": {
            "tags": [],
            "needs_background": "light"
          }
        }
      ]
    },
    {
      "cell_type": "markdown",
      "metadata": {
        "id": "mh95S_McgAiM"
      },
      "source": [
        "**Calculate the imbalance in the dataset.**"
      ]
    },
    {
      "cell_type": "code",
      "metadata": {
        "colab": {
          "base_uri": "https://localhost:8080/"
        },
        "id": "FuYS2jkWfumO",
        "outputId": "5142d9bb-a457-4dd6-f6d0-b62c4e9e03d4"
      },
      "source": [
        "df[\"y\"].value_counts()"
      ],
      "execution_count": 13,
      "outputs": [
        {
          "output_type": "execute_result",
          "data": {
            "text/plain": [
              "0    36548\n",
              "1     4640\n",
              "Name: y, dtype: int64"
            ]
          },
          "metadata": {
            "tags": []
          },
          "execution_count": 13
        }
      ]
    },
    {
      "cell_type": "code",
      "metadata": {
        "colab": {
          "base_uri": "https://localhost:8080/",
          "height": 296
        },
        "id": "uGKheUERf-Kc",
        "outputId": "965117af-57b6-4eb8-c1ba-a11ae564a8b9"
      },
      "source": [
        "sns.countplot(x='y',data=df)\n",
        "plt.show()\n",
        "print(\"The data is highly imbalanced\")"
      ],
      "execution_count": 14,
      "outputs": [
        {
          "output_type": "display_data",
          "data": {
            "image/png": "[encoded data removed]",
            "text/plain": [
              "<Figure size 432x288 with 1 Axes>"
            ]
          },
          "metadata": {
            "tags": [],
            "needs_background": "light"
          }
        },
        {
          "output_type": "stream",
          "text": [
            "The data is highly imbalanced\n"
          ],
          "name": "stdout"
        }
      ]
    },
    {
      "cell_type": "markdown",
      "metadata": {
        "id": "aJ_PN_-rmL1-"
      },
      "source": [
        "**Split Dataset**"
      ]
    },
    {
      "cell_type": "code",
      "metadata": {
        "id": "Gt0DVbSagQgg"
      },
      "source": [
        "from sklearn.model_selection import train_test_split\n",
        "from sklearn.model_selection import StratifiedKFold\n",
        "from sklearn.model_selection import cross_val_score\n",
        "from sklearn.model_selection import GridSearchCV\n",
        "X = data.drop('y', axis=1)\n",
        "y = data['y']"
      ],
      "execution_count": 15,
      "outputs": []
    },
    {
      "cell_type": "code",
      "metadata": {
        "id": "jJAVMh96mefE"
      },
      "source": [
        "\n",
        "X_train, X_test, y_train, y_test = train_test_split(X, y, random_state=50, test_size=0.2,stratify=y)"
      ],
      "execution_count": 16,
      "outputs": []
    },
    {
      "cell_type": "code",
      "metadata": {
        "colab": {
          "base_uri": "https://localhost:8080/"
        },
        "id": "YBEGy15Zocc-",
        "outputId": "569efe4e-d236-4722-fdb0-b26c767d3a78"
      },
      "source": [
        "sorted(sklearn.metrics.SCORERS.keys())"
      ],
      "execution_count": 17,
      "outputs": [
        {
          "output_type": "execute_result",
          "data": {
            "text/plain": [
              "['accuracy',\n",
              " 'adjusted_mutual_info_score',\n",
              " 'adjusted_rand_score',\n",
              " 'average_precision',\n",
              " 'balanced_accuracy',\n",
              " 'completeness_score',\n",
              " 'explained_variance',\n",
              " 'f1',\n",
              " 'f1_macro',\n",
              " 'f1_micro',\n",
              " 'f1_samples',\n",
              " 'f1_weighted',\n",
              " 'fowlkes_mallows_score',\n",
              " 'homogeneity_score',\n",
              " 'jaccard',\n",
              " 'jaccard_macro',\n",
              " 'jaccard_micro',\n",
              " 'jaccard_samples',\n",
              " 'jaccard_weighted',\n",
              " 'max_error',\n",
              " 'mutual_info_score',\n",
              " 'neg_brier_score',\n",
              " 'neg_log_loss',\n",
              " 'neg_mean_absolute_error',\n",
              " 'neg_mean_gamma_deviance',\n",
              " 'neg_mean_poisson_deviance',\n",
              " 'neg_mean_squared_error',\n",
              " 'neg_mean_squared_log_error',\n",
              " 'neg_median_absolute_error',\n",
              " 'neg_root_mean_squared_error',\n",
              " 'normalized_mutual_info_score',\n",
              " 'precision',\n",
              " 'precision_macro',\n",
              " 'precision_micro',\n",
              " 'precision_samples',\n",
              " 'precision_weighted',\n",
              " 'r2',\n",
              " 'recall',\n",
              " 'recall_macro',\n",
              " 'recall_micro',\n",
              " 'recall_samples',\n",
              " 'recall_weighted',\n",
              " 'roc_auc',\n",
              " 'roc_auc_ovo',\n",
              " 'roc_auc_ovo_weighted',\n",
              " 'roc_auc_ovr',\n",
              " 'roc_auc_ovr_weighted',\n",
              " 'v_measure_score']"
            ]
          },
          "metadata": {
            "tags": []
          },
          "execution_count": 17
        }
      ]
    },
    {
      "cell_type": "markdown",
      "metadata": {
        "id": "6DlfhWveo044"
      },
      "source": [
        "**10-fold stratified cross-validation on the training set using a random forest classifier with 100 trees and depth=3**"
      ]
    },
    {
      "cell_type": "code",
      "metadata": {
        "colab": {
          "base_uri": "https://localhost:8080/"
        },
        "id": "eni8ajXKn6Ca",
        "outputId": "95ddf3a7-b805-460c-f71f-0963c837118c"
      },
      "source": [
        "from sklearn.ensemble import RandomForestClassifier\n",
        "from sklearn.metrics import classification_report\n",
        "CV = StratifiedKFold(n_splits=10, random_state=42, shuffle=True)\n",
        "random = RandomForestClassifier(n_estimators=100, max_depth=3)\n",
        "random.fit(X_train, y_train)\n",
        "y_pred = random.predict(X_test)\n",
        "print(classification_report(y_test,y_pred))"
      ],
      "execution_count": 18,
      "outputs": [
        {
          "output_type": "stream",
          "text": [
            "              precision    recall  f1-score   support\n",
            "\n",
            "           0       0.90      0.99      0.94      7310\n",
            "           1       0.73      0.13      0.23       928\n",
            "\n",
            "    accuracy                           0.90      8238\n",
            "   macro avg       0.82      0.56      0.59      8238\n",
            "weighted avg       0.88      0.90      0.86      8238\n",
            "\n"
          ],
          "name": "stdout"
        }
      ]
    },
    {
      "cell_type": "code",
      "metadata": {
        "colab": {
          "base_uri": "https://localhost:8080/"
        },
        "id": "4MufGfrJoKnV",
        "outputId": "7359d545-79b4-485c-c488-409e4ac87a96"
      },
      "source": [
        "cross_val_score(random, X_train, y_train, cv=CV)\n"
      ],
      "execution_count": 19,
      "outputs": [
        {
          "output_type": "execute_result",
          "data": {
            "text/plain": [
              "array([0.89742033, 0.8952959 , 0.89742033, 0.89893778, 0.89742033,\n",
              "       0.90015175, 0.89863429, 0.89559939, 0.89742033, 0.89863429])"
            ]
          },
          "metadata": {
            "tags": []
          },
          "execution_count": 19
        }
      ]
    },
    {
      "cell_type": "markdown",
      "metadata": {
        "id": "ek8dyXzapwOO"
      },
      "source": [
        "**Compare the results of your classifier with that of a dummy classifier**"
      ]
    },
    {
      "cell_type": "code",
      "metadata": {
        "colab": {
          "base_uri": "https://localhost:8080/"
        },
        "id": "26M553VXpnEK",
        "outputId": "5edba0d6-dca5-4e0a-f18b-7771f83c7376"
      },
      "source": [
        "from sklearn.dummy import DummyClassifier\n",
        "dummy = DummyClassifier(strategy='stratified',random_state=50)\n",
        "dummy.fit(X_train, y_train)\n",
        "y_predd = dummy.predict(X_test)\n",
        "print(classification_report(y_test,y_predd))"
      ],
      "execution_count": 20,
      "outputs": [
        {
          "output_type": "stream",
          "text": [
            "              precision    recall  f1-score   support\n",
            "\n",
            "           0       0.89      0.89      0.89      7310\n",
            "           1       0.12      0.12      0.12       928\n",
            "\n",
            "    accuracy                           0.80      8238\n",
            "   macro avg       0.50      0.50      0.50      8238\n",
            "weighted avg       0.80      0.80      0.80      8238\n",
            "\n"
          ],
          "name": "stdout"
        }
      ]
    },
    {
      "cell_type": "code",
      "metadata": {
        "colab": {
          "base_uri": "https://localhost:8080/"
        },
        "id": "uoa5DWGksi4l",
        "outputId": "29d4763d-b759-47d7-e0aa-75eee9aba277"
      },
      "source": [
        "cross_val_score(dummy, X_train, y_train, cv=CV)\n"
      ],
      "execution_count": 21,
      "outputs": [
        {
          "output_type": "execute_result",
          "data": {
            "text/plain": [
              "array([0.79453718, 0.7939302 , 0.79726859, 0.79059181, 0.78998483,\n",
              "       0.78998483, 0.79059181, 0.79180577, 0.79423369, 0.79848255])"
            ]
          },
          "metadata": {
            "tags": []
          },
          "execution_count": 21
        }
      ]
    },
    {
      "cell_type": "markdown",
      "metadata": {
        "id": "2AuRHmwEsTxc"
      },
      "source": [
        "**The Accuracy of a Dummy Classifier = 0.80 and that of Random Classifier = 0.90**"
      ]
    },
    {
      "cell_type": "markdown",
      "metadata": {
        "id": "GGVYKjSQtGwD"
      },
      "source": [
        "**Use GridSearchCV to find a better set of parameters for your random forest.**"
      ]
    },
    {
      "cell_type": "code",
      "metadata": {
        "id": "Hbbk0WGqrXeT"
      },
      "source": [
        "parameters = {\"n_estimators\":[10,50,100,200,500],\n",
        "              'criterion':['gini','entropy'],\n",
        "             'max_depth':[5,10,'None','sqrt'],\n",
        "              'max_features': ['auto', 'sqrt', 'log2'],\n",
        "             'bootstrap':['True','False']}"
      ],
      "execution_count": 24,
      "outputs": []
    },
    {
      "cell_type": "code",
      "metadata": {
        "colab": {
          "base_uri": "https://localhost:8080/"
        },
        "id": "anK9_5mltdPS",
        "outputId": "ac43a928-37b2-4344-b1f7-24c583a70afd"
      },
      "source": [
        "from sklearn.model_selection import GridSearchCV\n",
        "rf = RandomForestClassifier()\n",
        "random = GridSearchCV(estimator=rf,param_grid=parameters,verbose=10,n_jobs=-1,scoring='accuracy')\n",
        "random.fit(X_train,y_train)\n",
        "random.best_params_,random.best_score_"
      ],
      "execution_count": 27,
      "outputs": [
        {
          "output_type": "stream",
          "text": [
            "Fitting 5 folds for each of 240 candidates, totalling 1200 fits\n"
          ],
          "name": "stdout"
        },
        {
          "output_type": "stream",
          "text": [
            "[Parallel(n_jobs=-1)]: Using backend LokyBackend with 2 concurrent workers.\n",
            "[Parallel(n_jobs=-1)]: Done   1 tasks      | elapsed:    0.2s\n",
            "[Parallel(n_jobs=-1)]: Done   4 tasks      | elapsed:    0.5s\n",
            "[Parallel(n_jobs=-1)]: Done   9 tasks      | elapsed:    2.3s\n",
            "[Parallel(n_jobs=-1)]: Done  14 tasks      | elapsed:    6.1s\n",
            "[Parallel(n_jobs=-1)]: Done  21 tasks      | elapsed:   20.7s\n",
            "[Parallel(n_jobs=-1)]: Done  28 tasks      | elapsed:   31.0s\n",
            "[Parallel(n_jobs=-1)]: Done  37 tasks      | elapsed:   37.2s\n",
            "[Parallel(n_jobs=-1)]: Done  46 tasks      | elapsed:   53.4s\n",
            "[Parallel(n_jobs=-1)]: Done  57 tasks      | elapsed:  1.1min\n",
            "[Parallel(n_jobs=-1)]: Done  68 tasks      | elapsed:  1.3min\n",
            "[Parallel(n_jobs=-1)]: Done  81 tasks      | elapsed:  1.6min\n",
            "[Parallel(n_jobs=-1)]: Done  94 tasks      | elapsed:  1.9min\n",
            "[Parallel(n_jobs=-1)]: Done 109 tasks      | elapsed:  2.5min\n",
            "[Parallel(n_jobs=-1)]: Done 124 tasks      | elapsed:  3.2min\n",
            "[Parallel(n_jobs=-1)]: Done 141 tasks      | elapsed:  3.5min\n",
            "[Parallel(n_jobs=-1)]: Done 158 tasks      | elapsed:  4.0min\n",
            "[Parallel(n_jobs=-1)]: Done 177 tasks      | elapsed:  4.0min\n",
            "[Parallel(n_jobs=-1)]: Done 196 tasks      | elapsed:  4.1min\n",
            "[Parallel(n_jobs=-1)]: Done 217 tasks      | elapsed:  4.1min\n",
            "[Parallel(n_jobs=-1)]: Done 238 tasks      | elapsed:  4.1min\n",
            "[Parallel(n_jobs=-1)]: Done 261 tasks      | elapsed:  4.2min\n",
            "[Parallel(n_jobs=-1)]: Done 284 tasks      | elapsed:  4.2min\n",
            "[Parallel(n_jobs=-1)]: Done 309 tasks      | elapsed:  4.3min\n",
            "[Parallel(n_jobs=-1)]: Done 334 tasks      | elapsed:  4.8min\n",
            "[Parallel(n_jobs=-1)]: Done 361 tasks      | elapsed:  5.4min\n",
            "[Parallel(n_jobs=-1)]: Done 388 tasks      | elapsed:  5.9min\n",
            "[Parallel(n_jobs=-1)]: Done 417 tasks      | elapsed:  7.0min\n",
            "[Parallel(n_jobs=-1)]: Done 446 tasks      | elapsed:  8.0min\n",
            "[Parallel(n_jobs=-1)]: Done 477 tasks      | elapsed:  8.3min\n",
            "[Parallel(n_jobs=-1)]: Done 508 tasks      | elapsed:  8.4min\n",
            "[Parallel(n_jobs=-1)]: Done 541 tasks      | elapsed:  8.4min\n",
            "[Parallel(n_jobs=-1)]: Done 574 tasks      | elapsed:  8.5min\n",
            "[Parallel(n_jobs=-1)]: Done 609 tasks      | elapsed:  8.5min\n",
            "[Parallel(n_jobs=-1)]: Done 644 tasks      | elapsed:  9.3min\n",
            "[Parallel(n_jobs=-1)]: Done 681 tasks      | elapsed: 10.1min\n",
            "[Parallel(n_jobs=-1)]: Done 718 tasks      | elapsed: 11.3min\n",
            "[Parallel(n_jobs=-1)]: Done 757 tasks      | elapsed: 12.5min\n",
            "[Parallel(n_jobs=-1)]: Done 796 tasks      | elapsed: 12.6min\n",
            "[Parallel(n_jobs=-1)]: Done 837 tasks      | elapsed: 12.7min\n",
            "[Parallel(n_jobs=-1)]: Done 878 tasks      | elapsed: 12.7min\n",
            "[Parallel(n_jobs=-1)]: Done 921 tasks      | elapsed: 13.1min\n",
            "[Parallel(n_jobs=-1)]: Done 964 tasks      | elapsed: 14.0min\n",
            "[Parallel(n_jobs=-1)]: Done 1009 tasks      | elapsed: 15.3min\n",
            "[Parallel(n_jobs=-1)]: Done 1054 tasks      | elapsed: 16.8min\n",
            "[Parallel(n_jobs=-1)]: Done 1101 tasks      | elapsed: 16.9min\n",
            "[Parallel(n_jobs=-1)]: Done 1148 tasks      | elapsed: 17.0min\n",
            "[Parallel(n_jobs=-1)]: Done 1197 tasks      | elapsed: 17.1min\n",
            "[Parallel(n_jobs=-1)]: Done 1200 out of 1200 | elapsed: 17.1min finished\n"
          ],
          "name": "stderr"
        },
        {
          "output_type": "execute_result",
          "data": {
            "text/plain": [
              "({'bootstrap': 'True',\n",
              "  'criterion': 'entropy',\n",
              "  'max_depth': 10,\n",
              "  'max_features': 'auto',\n",
              "  'n_estimators': 100},\n",
              " 0.9012139605462822)"
            ]
          },
          "metadata": {
            "tags": []
          },
          "execution_count": 27
        }
      ]
    },
    {
      "cell_type": "code",
      "metadata": {
        "colab": {
          "base_uri": "https://localhost:8080/"
        },
        "id": "CXg0oJnRt4_h",
        "outputId": "6d676144-df08-40af-f87b-87f711c255aa"
      },
      "source": [
        "random.best_score_"
      ],
      "execution_count": 28,
      "outputs": [
        {
          "output_type": "execute_result",
          "data": {
            "text/plain": [
              "0.9012139605462822"
            ]
          },
          "metadata": {
            "tags": []
          },
          "execution_count": 28
        }
      ]
    },
    {
      "cell_type": "code",
      "metadata": {
        "colab": {
          "base_uri": "https://localhost:8080/"
        },
        "id": "_mQUxBg-5b7K",
        "outputId": "b8a5da8e-6fb3-4931-94f8-64d9de65a1d0"
      },
      "source": [
        "cross_val_score(estimator=random.best_estimator_,X= X_train,y= y_train, cv=CV, n_jobs=-1, scoring='accuracy', verbose=10)"
      ],
      "execution_count": 33,
      "outputs": [
        {
          "output_type": "stream",
          "text": [
            "[Parallel(n_jobs=-1)]: Using backend LokyBackend with 2 concurrent workers.\n",
            "[Parallel(n_jobs=-1)]: Done   1 tasks      | elapsed:    3.7s\n",
            "[Parallel(n_jobs=-1)]: Done   4 tasks      | elapsed:    6.6s\n",
            "[Parallel(n_jobs=-1)]: Done  10 out of  10 | elapsed:   14.9s finished\n"
          ],
          "name": "stderr"
        },
        {
          "output_type": "execute_result",
          "data": {
            "text/plain": [
              "array([0.90197269, 0.89772382, 0.89742033, 0.90045524, 0.89742033,\n",
              "       0.90318665, 0.90015175, 0.90379363, 0.89650986, 0.90409712])"
            ]
          },
          "metadata": {
            "tags": []
          },
          "execution_count": 33
        }
      ]
    },
    {
      "cell_type": "markdown",
      "metadata": {
        "id": "TVCKISXh4u66"
      },
      "source": [
        "**Columns**"
      ]
    },
    {
      "cell_type": "code",
      "metadata": {
        "colab": {
          "base_uri": "https://localhost:8080/"
        },
        "id": "NYC34_pz0YOQ",
        "outputId": "5a9936d1-a102-4b49-ae7f-b55c4c33e589"
      },
      "source": [
        "len(data.columns)"
      ],
      "execution_count": 30,
      "outputs": [
        {
          "output_type": "execute_result",
          "data": {
            "text/plain": [
              "63"
            ]
          },
          "metadata": {
            "tags": []
          },
          "execution_count": 30
        }
      ]
    },
    {
      "cell_type": "markdown",
      "metadata": {
        "id": "Vz3-9V075Pgy"
      },
      "source": [
        "**Question 6 Quiz**"
      ]
    },
    {
      "cell_type": "code",
      "metadata": {
        "colab": {
          "base_uri": "https://localhost:8080/"
        },
        "id": "6fnCdVoe4GNs",
        "outputId": "375a6472-fed8-4aae-bb2a-5a831c53e473"
      },
      "source": [
        "rf6 = RandomForestClassifier(n_estimators=400, max_depth=6)\n",
        "rf6.fit(X_train, y_train)\n",
        "y_pred6 = rf6.predict(X_test)\n",
        "print(classification_report(y_test,y_pred6))\n",
        "crossvalrf6 = cross_val_score(rf6, X_train, y=y_train, cv=CV, n_jobs=-1, scoring='f1')\n",
        "print(crossvalrf6)"
      ],
      "execution_count": 37,
      "outputs": [
        {
          "output_type": "stream",
          "text": [
            "              precision    recall  f1-score   support\n",
            "\n",
            "           0       0.91      0.99      0.95      7310\n",
            "           1       0.70      0.20      0.31       928\n",
            "\n",
            "    accuracy                           0.90      8238\n",
            "   macro avg       0.80      0.59      0.63      8238\n",
            "weighted avg       0.88      0.90      0.87      8238\n",
            "\n",
            "[0.30897704 0.26579521 0.26754386 0.2832618  0.26086957 0.29184549\n",
            " 0.25055928 0.30901288 0.26106195 0.31578947]\n"
          ],
          "name": "stdout"
        }
      ]
    },
    {
      "cell_type": "code",
      "metadata": {
        "colab": {
          "base_uri": "https://localhost:8080/"
        },
        "id": "Ci65ZqQH8aWr",
        "outputId": "eb239e11-1099-47c2-e6ec-1e2009c5275f"
      },
      "source": [
        "crossvalrf6.mean()"
      ],
      "execution_count": 39,
      "outputs": [
        {
          "output_type": "execute_result",
          "data": {
            "text/plain": [
              "0.28147165437058136"
            ]
          },
          "metadata": {
            "tags": []
          },
          "execution_count": 39
        }
      ]
    },
    {
      "cell_type": "markdown",
      "metadata": {
        "id": "mW1zqouW6_Us"
      },
      "source": [
        "**Question 7 Quiz**"
      ]
    },
    {
      "cell_type": "code",
      "metadata": {
        "colab": {
          "base_uri": "https://localhost:8080/"
        },
        "id": "ebV0_qOH6xVJ",
        "outputId": "f25ad8ae-edce-42d7-f2fe-39a1005ccbfd"
      },
      "source": [
        "rf7 = RandomForestClassifier(n_estimators=300, max_depth=6)\n",
        "rf7.fit(X_train, y_train)\n",
        "y_pred7 = rf7.predict(X_test)\n",
        "print(classification_report(y_test,y_pred7))\n",
        "crossvalrf7 = cross_val_score(rf7, X_train, y=y_train, cv=CV, n_jobs=-1, scoring='f1')\n",
        "print(crossvalrf7)"
      ],
      "execution_count": 38,
      "outputs": [
        {
          "output_type": "stream",
          "text": [
            "              precision    recall  f1-score   support\n",
            "\n",
            "           0       0.91      0.99      0.95      7310\n",
            "           1       0.70      0.20      0.31       928\n",
            "\n",
            "    accuracy                           0.90      8238\n",
            "   macro avg       0.80      0.59      0.63      8238\n",
            "weighted avg       0.88      0.90      0.87      8238\n",
            "\n",
            "[0.30543933 0.26579521 0.26754386 0.27956989 0.26143791 0.29247312\n",
            " 0.25835189 0.30603448 0.25663717 0.32285115]\n"
          ],
          "name": "stdout"
        }
      ]
    },
    {
      "cell_type": "code",
      "metadata": {
        "colab": {
          "base_uri": "https://localhost:8080/"
        },
        "id": "jPc8QlRQ7lkK",
        "outputId": "a96cc3d1-4618-4857-e05f-3a5f843b7003"
      },
      "source": [
        "crossvalrf7.mean()"
      ],
      "execution_count": 40,
      "outputs": [
        {
          "output_type": "execute_result",
          "data": {
            "text/plain": [
              "0.2816134013449968"
            ]
          },
          "metadata": {
            "tags": []
          },
          "execution_count": 40
        }
      ]
    },
    {
      "cell_type": "markdown",
      "metadata": {
        "id": "m_Ybo7aq8g6s"
      },
      "source": [
        "**Question 8 Quiz**"
      ]
    },
    {
      "cell_type": "code",
      "metadata": {
        "colab": {
          "base_uri": "https://localhost:8080/"
        },
        "id": "ARjQNXQb8gHP",
        "outputId": "43fb7e3c-2417-4359-925a-a1ebf1830370"
      },
      "source": [
        "rf8 = RandomForestClassifier(n_estimators = 100,max_depth=8, oob_score = True,random_state=60)\n",
        "rf8.fit(X_train, y_train)\n",
        "y_pred8 = rf8.predict(X_test)\n",
        "print(classification_report(y_test,y_pred8))\n",
        "crossvalrf8 = cross_val_score(rf8, X_train, y=y_train, cv=CV, n_jobs=-1, scoring='f1')\n",
        "print(crossvalrf8)"
      ],
      "execution_count": 43,
      "outputs": [
        {
          "output_type": "stream",
          "text": [
            "              precision    recall  f1-score   support\n",
            "\n",
            "           0       0.91      0.99      0.95      7310\n",
            "           1       0.69      0.22      0.34       928\n",
            "\n",
            "    accuracy                           0.90      8238\n",
            "   macro avg       0.80      0.60      0.64      8238\n",
            "weighted avg       0.88      0.90      0.88      8238\n",
            "\n",
            "[0.32510288 0.29535865 0.27896996 0.30443975 0.27848101 0.30607966\n",
            " 0.25835189 0.32911392 0.29299363 0.34016393]\n"
          ],
          "name": "stdout"
        }
      ]
    },
    {
      "cell_type": "code",
      "metadata": {
        "colab": {
          "base_uri": "https://localhost:8080/"
        },
        "id": "LgaPDzl8-Sjy",
        "outputId": "47bd10f4-333c-40f6-e6a9-bc26eb6181ec"
      },
      "source": [
        "rf8.oob_score_"
      ],
      "execution_count": 44,
      "outputs": [
        {
          "output_type": "execute_result",
          "data": {
            "text/plain": [
              "0.8993019726858877"
            ]
          },
          "metadata": {
            "tags": []
          },
          "execution_count": 44
        }
      ]
    },
    {
      "cell_type": "code",
      "metadata": {
        "colab": {
          "base_uri": "https://localhost:8080/"
        },
        "id": "6xy8RBw9-a0E",
        "outputId": "a29c76f0-de76-4fd7-d173-bf3b3f46e154"
      },
      "source": [
        "crossvalrf8.mean()"
      ],
      "execution_count": 46,
      "outputs": [
        {
          "output_type": "execute_result",
          "data": {
            "text/plain": [
              "0.300905529320356"
            ]
          },
          "metadata": {
            "tags": []
          },
          "execution_count": 46
        }
      ]
    },
    {
      "cell_type": "markdown",
      "metadata": {
        "id": "ne8VP7u2-53S"
      },
      "source": [
        "**Question 9 Quiz**"
      ]
    },
    {
      "cell_type": "code",
      "metadata": {
        "colab": {
          "base_uri": "https://localhost:8080/"
        },
        "id": "RjDH8n2O-ntW",
        "outputId": "de711d70-c88f-46de-c567-f726fe0936d2"
      },
      "source": [
        "from sklearn.feature_selection import SelectFromModel\n",
        "feat_labels = ['age', 'campaign', 'pdays', 'previous', 'emp.var.rate',\n",
        "       'cons.price.idx', 'cons.conf.idx', 'euribor3m', 'nr.employed', 'y',\n",
        "       'job_admin.', 'job_blue-collar', 'job_entrepreneur', 'job_housemaid',\n",
        "       'job_management', 'job_retired', 'job_self-employed', 'job_services',\n",
        "       'job_student', 'job_technician', 'job_unemployed', 'job_unknown',\n",
        "       'marital_divorced', 'marital_married', 'marital_single',\n",
        "       'marital_unknown', 'education_basic.4y', 'education_basic.6y',\n",
        "       'education_basic.9y', 'education_high.school', 'education_illiterate',\n",
        "       'education_professional.course', 'education_university.degree',\n",
        "       'education_unknown', 'default_no', 'default_unknown', 'default_yes',\n",
        "       'housing_no', 'housing_unknown', 'housing_yes', 'loan_no',\n",
        "       'loan_unknown', 'loan_yes', 'contact_cellular', 'contact_telephone',\n",
        "       'month_apr', 'month_aug', 'month_dec', 'month_jul', 'month_jun',\n",
        "       'month_mar', 'month_may', 'month_nov', 'month_oct', 'month_sep',\n",
        "       'day_of_week_fri', 'day_of_week_mon', 'day_of_week_thu',\n",
        "       'day_of_week_tue', 'day_of_week_wed', 'poutcome_failure',\n",
        "       'poutcome_nonexistent', 'poutcome_success']\n",
        "rf9 = RandomForestClassifier(n_estimators=200,max_depth=12, random_state=60)\n",
        "rf9.fit(X_train, y_train)\n",
        "for feature in zip(feat_labels, rf9.feature_importances_):\n",
        "    print(feature)"
      ],
      "execution_count": 50,
      "outputs": [
        {
          "output_type": "stream",
          "text": [
            "('age', 0.06169395574605889)\n",
            "('campaign', 0.026379515205675982)\n",
            "('pdays', 0.07205051949336223)\n",
            "('previous', 0.027365622069919188)\n",
            "('emp.var.rate', 0.061818337550654495)\n",
            "('cons.price.idx', 0.04928711594210838)\n",
            "('cons.conf.idx', 0.059788699615585604)\n",
            "('euribor3m', 0.1349026402266929)\n",
            "('nr.employed', 0.11300060904186901)\n",
            "('y', 0.006854068329059783)\n",
            "('job_admin.', 0.0067573515895396575)\n",
            "('job_blue-collar', 0.0021583884430729033)\n",
            "('job_entrepreneur', 0.002484486811680081)\n",
            "('job_housemaid', 0.004056936220245183)\n",
            "('job_management', 0.00635619469531774)\n",
            "('job_retired', 0.003337149771881604)\n",
            "('job_self-employed', 0.0041187486178334174)\n",
            "('job_services', 0.005249592918163796)\n",
            "('job_student', 0.006137715579250833)\n",
            "('job_technician', 0.0033187607205954926)\n",
            "('job_unemployed', 0.0022473037864538187)\n",
            "('job_unknown', 0.004939143496794293)\n",
            "('marital_divorced', 0.007339749379030913)\n",
            "('marital_married', 0.007804192375414033)\n",
            "('marital_single', 0.0007963287240427989)\n",
            "('marital_unknown', 0.0049013636752658525)\n",
            "('education_basic.4y', 0.003469137080031503)\n",
            "('education_basic.6y', 0.00538639443684659)\n",
            "('education_basic.9y', 0.007118415254437588)\n",
            "('education_high.school', 0.0002691801917096085)\n",
            "('education_illiterate', 0.0057838380864436685)\n",
            "('education_professional.course', 0.008837477755420963)\n",
            "('education_university.degree', 0.004201916292368053)\n",
            "('education_unknown', 0.005517702158403513)\n",
            "('default_no', 0.004347047135642503)\n",
            "('default_unknown', 1.3497685470247998e-07)\n",
            "('default_yes', 0.00825937704829089)\n",
            "('housing_no', 0.002469971104715942)\n",
            "('housing_unknown', 0.008388748305621098)\n",
            "('housing_yes', 0.006775679087872772)\n",
            "('loan_no', 0.002567725677059241)\n",
            "('loan_unknown', 0.006304767086716183)\n",
            "('loan_yes', 0.012051292249533467)\n",
            "('contact_cellular', 0.012478198421495746)\n",
            "('contact_telephone', 0.007255690711270524)\n",
            "('month_apr', 0.0030451519485698865)\n",
            "('month_aug', 0.0018115192490053098)\n",
            "('month_dec', 0.0031493116386445224)\n",
            "('month_jul', 0.005497254689378031)\n",
            "('month_jun', 0.013169951942018001)\n",
            "('month_mar', 0.012297326126490912)\n",
            "('month_may', 0.0030884669516541537)\n",
            "('month_nov', 0.013672982127717654)\n",
            "('month_oct', 0.004796288254481312)\n",
            "('month_sep', 0.007745561153613274)\n",
            "('day_of_week_fri', 0.010214248172760863)\n",
            "('day_of_week_mon', 0.008136092374325164)\n",
            "('day_of_week_thu', 0.007494302830219893)\n",
            "('day_of_week_tue', 0.006884258376193422)\n",
            "('day_of_week_wed', 0.01534134094327063)\n",
            "('poutcome_failure', 0.013396600425106282)\n",
            "('poutcome_nonexistent', 0.07363215971024728)\n"
          ],
          "name": "stdout"
        }
      ]
    },
    {
      "cell_type": "code",
      "metadata": {
        "id": "ocYM1l2C__lY"
      },
      "source": [
        ""
      ],
      "execution_count": null,
      "outputs": []
    }
  ]
}